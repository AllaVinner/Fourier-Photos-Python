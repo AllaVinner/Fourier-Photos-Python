{
 "cells": [
  {
   "cell_type": "code",
   "execution_count": 1,
   "metadata": {},
   "outputs": [],
   "source": [
    "import torch\n",
    "import plotly.express as px\n",
    "import numpy as np\n",
    "import pandas as pd\n",
    "from torch.nn.functional import pad, relu"
   ]
  },
  {
   "cell_type": "code",
   "execution_count": 9,
   "metadata": {},
   "outputs": [
    {
     "data": {
      "text/plain": [
       "tensor([[-1.],\n",
       "        [ 1.]])"
      ]
     },
     "execution_count": 9,
     "metadata": {},
     "output_type": "execute_result"
    }
   ],
   "source": [
    "N = 2\n",
    "x = torch.tensor([-1, 1.], dtype = torch.float).reshape((2, -1))\n",
    "x"
   ]
  },
  {
   "cell_type": "code",
   "execution_count": 10,
   "metadata": {},
   "outputs": [
    {
     "data": {
      "text/plain": [
       "tensor([[-10,  -9,  -8,  -7,  -6,  -5,  -4,  -3,  -2,  -1,   0,   1,   2,   3,\n",
       "           4,   5,   6,   7,   8,   9,  10]])"
      ]
     },
     "execution_count": 10,
     "metadata": {},
     "output_type": "execute_result"
    }
   ],
   "source": [
    "W = 10\n",
    "w = torch.arange(-W, W+1).reshape((1,-1))\n",
    "w"
   ]
  },
  {
   "cell_type": "code",
   "execution_count": 15,
   "metadata": {},
   "outputs": [
    {
     "data": {
      "text/plain": [
       "tensor([[6.6397e-36, 1.6038e-28, 5.2429e-22, 2.3195e-16, 1.3888e-11, 1.1254e-07,\n",
       "         1.2341e-04, 1.8316e-02, 3.6788e-01, 1.0000e+00, 3.6788e-01, 1.8316e-02,\n",
       "         1.2341e-04, 1.1254e-07, 1.3888e-11, 2.3195e-16, 5.2429e-22, 1.6038e-28,\n",
       "         6.6397e-36, 3.7835e-44, 0.0000e+00],\n",
       "        [0.0000e+00, 3.7835e-44, 6.6397e-36, 1.6038e-28, 5.2429e-22, 2.3195e-16,\n",
       "         1.3888e-11, 1.1254e-07, 1.2341e-04, 1.8316e-02, 3.6788e-01, 1.0000e+00,\n",
       "         3.6788e-01, 1.8316e-02, 1.2341e-04, 1.1254e-07, 1.3888e-11, 2.3195e-16,\n",
       "         5.2429e-22, 1.6038e-28, 6.6397e-36]])"
      ]
     },
     "execution_count": 15,
     "metadata": {},
     "output_type": "execute_result"
    }
   ],
   "source": [
    "diffs = w-x\n",
    "l = torch.exp(-diffs**2)\n",
    "l"
   ]
  },
  {
   "cell_type": "code",
   "execution_count": 21,
   "metadata": {},
   "outputs": [],
   "source": [
    "A = l.sum((0))"
   ]
  },
  {
   "cell_type": "code",
   "execution_count": 22,
   "metadata": {},
   "outputs": [
    {
     "data": {
      "text/plain": [
       "tensor([6.6397e-36, 1.6038e-28, 5.2429e-22, 2.3195e-16, 1.3888e-11, 1.1254e-07,\n",
       "        1.2341e-04, 1.8316e-02, 3.6800e-01, 1.0183e+00, 7.3576e-01, 1.0183e+00,\n",
       "        3.6800e-01, 1.8316e-02, 1.2341e-04, 1.1254e-07, 1.3888e-11, 2.3195e-16,\n",
       "        5.2429e-22, 1.6038e-28, 6.6397e-36])"
      ]
     },
     "execution_count": 22,
     "metadata": {},
     "output_type": "execute_result"
    }
   ],
   "source": [
    "A"
   ]
  },
  {
   "cell_type": "code",
   "execution_count": 24,
   "metadata": {},
   "outputs": [
    {
     "data": {
      "application/vnd.plotly.v1+json": {
       "config": {
        "plotlyServerURL": "https://plot.ly"
       },
       "data": [
        {
         "hovertemplate": "variable=0<br>index=%{x}<br>value=%{y}<extra></extra>",
         "legendgroup": "0",
         "marker": {
          "color": "#636efa",
          "symbol": "circle"
         },
         "mode": "markers",
         "name": "0",
         "orientation": "v",
         "showlegend": true,
         "type": "scatter",
         "x": [
          0,
          1,
          2,
          3,
          4,
          5,
          6,
          7,
          8,
          9,
          10,
          11,
          12,
          13,
          14,
          15,
          16,
          17,
          18,
          19,
          20
         ],
         "xaxis": "x",
         "y": [
          6.639676956165401e-36,
          1.6038109389511792e-28,
          5.242885696424093e-22,
          2.3195226989972605e-16,
          1.3887943746404563e-11,
          1.1253517584464134e-7,
          0.00012340981629677117,
          0.01831575110554695,
          0.36800286173820496,
          1.0183156728744507,
          0.735758900642395,
          1.0183156728744507,
          0.36800286173820496,
          0.01831575110554695,
          0.00012340981629677117,
          1.1253517584464134e-7,
          1.3887943746404563e-11,
          2.3195226989972605e-16,
          5.242885696424093e-22,
          1.6038109389511792e-28,
          6.639676956165401e-36
         ],
         "yaxis": "y"
        }
       ],
       "layout": {
        "legend": {
         "title": {
          "text": "variable"
         },
         "tracegroupgap": 0
        },
        "margin": {
         "t": 60
        },
        "template": {
         "data": {
          "bar": [
           {
            "error_x": {
             "color": "#2a3f5f"
            },
            "error_y": {
             "color": "#2a3f5f"
            },
            "marker": {
             "line": {
              "color": "#E5ECF6",
              "width": 0.5
             },
             "pattern": {
              "fillmode": "overlay",
              "size": 10,
              "solidity": 0.2
             }
            },
            "type": "bar"
           }
          ],
          "barpolar": [
           {
            "marker": {
             "line": {
              "color": "#E5ECF6",
              "width": 0.5
             },
             "pattern": {
              "fillmode": "overlay",
              "size": 10,
              "solidity": 0.2
             }
            },
            "type": "barpolar"
           }
          ],
          "carpet": [
           {
            "aaxis": {
             "endlinecolor": "#2a3f5f",
             "gridcolor": "white",
             "linecolor": "white",
             "minorgridcolor": "white",
             "startlinecolor": "#2a3f5f"
            },
            "baxis": {
             "endlinecolor": "#2a3f5f",
             "gridcolor": "white",
             "linecolor": "white",
             "minorgridcolor": "white",
             "startlinecolor": "#2a3f5f"
            },
            "type": "carpet"
           }
          ],
          "choropleth": [
           {
            "colorbar": {
             "outlinewidth": 0,
             "ticks": ""
            },
            "type": "choropleth"
           }
          ],
          "contour": [
           {
            "colorbar": {
             "outlinewidth": 0,
             "ticks": ""
            },
            "colorscale": [
             [
              0,
              "#0d0887"
             ],
             [
              0.1111111111111111,
              "#46039f"
             ],
             [
              0.2222222222222222,
              "#7201a8"
             ],
             [
              0.3333333333333333,
              "#9c179e"
             ],
             [
              0.4444444444444444,
              "#bd3786"
             ],
             [
              0.5555555555555556,
              "#d8576b"
             ],
             [
              0.6666666666666666,
              "#ed7953"
             ],
             [
              0.7777777777777778,
              "#fb9f3a"
             ],
             [
              0.8888888888888888,
              "#fdca26"
             ],
             [
              1,
              "#f0f921"
             ]
            ],
            "type": "contour"
           }
          ],
          "contourcarpet": [
           {
            "colorbar": {
             "outlinewidth": 0,
             "ticks": ""
            },
            "type": "contourcarpet"
           }
          ],
          "heatmap": [
           {
            "colorbar": {
             "outlinewidth": 0,
             "ticks": ""
            },
            "colorscale": [
             [
              0,
              "#0d0887"
             ],
             [
              0.1111111111111111,
              "#46039f"
             ],
             [
              0.2222222222222222,
              "#7201a8"
             ],
             [
              0.3333333333333333,
              "#9c179e"
             ],
             [
              0.4444444444444444,
              "#bd3786"
             ],
             [
              0.5555555555555556,
              "#d8576b"
             ],
             [
              0.6666666666666666,
              "#ed7953"
             ],
             [
              0.7777777777777778,
              "#fb9f3a"
             ],
             [
              0.8888888888888888,
              "#fdca26"
             ],
             [
              1,
              "#f0f921"
             ]
            ],
            "type": "heatmap"
           }
          ],
          "heatmapgl": [
           {
            "colorbar": {
             "outlinewidth": 0,
             "ticks": ""
            },
            "colorscale": [
             [
              0,
              "#0d0887"
             ],
             [
              0.1111111111111111,
              "#46039f"
             ],
             [
              0.2222222222222222,
              "#7201a8"
             ],
             [
              0.3333333333333333,
              "#9c179e"
             ],
             [
              0.4444444444444444,
              "#bd3786"
             ],
             [
              0.5555555555555556,
              "#d8576b"
             ],
             [
              0.6666666666666666,
              "#ed7953"
             ],
             [
              0.7777777777777778,
              "#fb9f3a"
             ],
             [
              0.8888888888888888,
              "#fdca26"
             ],
             [
              1,
              "#f0f921"
             ]
            ],
            "type": "heatmapgl"
           }
          ],
          "histogram": [
           {
            "marker": {
             "pattern": {
              "fillmode": "overlay",
              "size": 10,
              "solidity": 0.2
             }
            },
            "type": "histogram"
           }
          ],
          "histogram2d": [
           {
            "colorbar": {
             "outlinewidth": 0,
             "ticks": ""
            },
            "colorscale": [
             [
              0,
              "#0d0887"
             ],
             [
              0.1111111111111111,
              "#46039f"
             ],
             [
              0.2222222222222222,
              "#7201a8"
             ],
             [
              0.3333333333333333,
              "#9c179e"
             ],
             [
              0.4444444444444444,
              "#bd3786"
             ],
             [
              0.5555555555555556,
              "#d8576b"
             ],
             [
              0.6666666666666666,
              "#ed7953"
             ],
             [
              0.7777777777777778,
              "#fb9f3a"
             ],
             [
              0.8888888888888888,
              "#fdca26"
             ],
             [
              1,
              "#f0f921"
             ]
            ],
            "type": "histogram2d"
           }
          ],
          "histogram2dcontour": [
           {
            "colorbar": {
             "outlinewidth": 0,
             "ticks": ""
            },
            "colorscale": [
             [
              0,
              "#0d0887"
             ],
             [
              0.1111111111111111,
              "#46039f"
             ],
             [
              0.2222222222222222,
              "#7201a8"
             ],
             [
              0.3333333333333333,
              "#9c179e"
             ],
             [
              0.4444444444444444,
              "#bd3786"
             ],
             [
              0.5555555555555556,
              "#d8576b"
             ],
             [
              0.6666666666666666,
              "#ed7953"
             ],
             [
              0.7777777777777778,
              "#fb9f3a"
             ],
             [
              0.8888888888888888,
              "#fdca26"
             ],
             [
              1,
              "#f0f921"
             ]
            ],
            "type": "histogram2dcontour"
           }
          ],
          "mesh3d": [
           {
            "colorbar": {
             "outlinewidth": 0,
             "ticks": ""
            },
            "type": "mesh3d"
           }
          ],
          "parcoords": [
           {
            "line": {
             "colorbar": {
              "outlinewidth": 0,
              "ticks": ""
             }
            },
            "type": "parcoords"
           }
          ],
          "pie": [
           {
            "automargin": true,
            "type": "pie"
           }
          ],
          "scatter": [
           {
            "fillpattern": {
             "fillmode": "overlay",
             "size": 10,
             "solidity": 0.2
            },
            "type": "scatter"
           }
          ],
          "scatter3d": [
           {
            "line": {
             "colorbar": {
              "outlinewidth": 0,
              "ticks": ""
             }
            },
            "marker": {
             "colorbar": {
              "outlinewidth": 0,
              "ticks": ""
             }
            },
            "type": "scatter3d"
           }
          ],
          "scattercarpet": [
           {
            "marker": {
             "colorbar": {
              "outlinewidth": 0,
              "ticks": ""
             }
            },
            "type": "scattercarpet"
           }
          ],
          "scattergeo": [
           {
            "marker": {
             "colorbar": {
              "outlinewidth": 0,
              "ticks": ""
             }
            },
            "type": "scattergeo"
           }
          ],
          "scattergl": [
           {
            "marker": {
             "colorbar": {
              "outlinewidth": 0,
              "ticks": ""
             }
            },
            "type": "scattergl"
           }
          ],
          "scattermapbox": [
           {
            "marker": {
             "colorbar": {
              "outlinewidth": 0,
              "ticks": ""
             }
            },
            "type": "scattermapbox"
           }
          ],
          "scatterpolar": [
           {
            "marker": {
             "colorbar": {
              "outlinewidth": 0,
              "ticks": ""
             }
            },
            "type": "scatterpolar"
           }
          ],
          "scatterpolargl": [
           {
            "marker": {
             "colorbar": {
              "outlinewidth": 0,
              "ticks": ""
             }
            },
            "type": "scatterpolargl"
           }
          ],
          "scatterternary": [
           {
            "marker": {
             "colorbar": {
              "outlinewidth": 0,
              "ticks": ""
             }
            },
            "type": "scatterternary"
           }
          ],
          "surface": [
           {
            "colorbar": {
             "outlinewidth": 0,
             "ticks": ""
            },
            "colorscale": [
             [
              0,
              "#0d0887"
             ],
             [
              0.1111111111111111,
              "#46039f"
             ],
             [
              0.2222222222222222,
              "#7201a8"
             ],
             [
              0.3333333333333333,
              "#9c179e"
             ],
             [
              0.4444444444444444,
              "#bd3786"
             ],
             [
              0.5555555555555556,
              "#d8576b"
             ],
             [
              0.6666666666666666,
              "#ed7953"
             ],
             [
              0.7777777777777778,
              "#fb9f3a"
             ],
             [
              0.8888888888888888,
              "#fdca26"
             ],
             [
              1,
              "#f0f921"
             ]
            ],
            "type": "surface"
           }
          ],
          "table": [
           {
            "cells": {
             "fill": {
              "color": "#EBF0F8"
             },
             "line": {
              "color": "white"
             }
            },
            "header": {
             "fill": {
              "color": "#C8D4E3"
             },
             "line": {
              "color": "white"
             }
            },
            "type": "table"
           }
          ]
         },
         "layout": {
          "annotationdefaults": {
           "arrowcolor": "#2a3f5f",
           "arrowhead": 0,
           "arrowwidth": 1
          },
          "autotypenumbers": "strict",
          "coloraxis": {
           "colorbar": {
            "outlinewidth": 0,
            "ticks": ""
           }
          },
          "colorscale": {
           "diverging": [
            [
             0,
             "#8e0152"
            ],
            [
             0.1,
             "#c51b7d"
            ],
            [
             0.2,
             "#de77ae"
            ],
            [
             0.3,
             "#f1b6da"
            ],
            [
             0.4,
             "#fde0ef"
            ],
            [
             0.5,
             "#f7f7f7"
            ],
            [
             0.6,
             "#e6f5d0"
            ],
            [
             0.7,
             "#b8e186"
            ],
            [
             0.8,
             "#7fbc41"
            ],
            [
             0.9,
             "#4d9221"
            ],
            [
             1,
             "#276419"
            ]
           ],
           "sequential": [
            [
             0,
             "#0d0887"
            ],
            [
             0.1111111111111111,
             "#46039f"
            ],
            [
             0.2222222222222222,
             "#7201a8"
            ],
            [
             0.3333333333333333,
             "#9c179e"
            ],
            [
             0.4444444444444444,
             "#bd3786"
            ],
            [
             0.5555555555555556,
             "#d8576b"
            ],
            [
             0.6666666666666666,
             "#ed7953"
            ],
            [
             0.7777777777777778,
             "#fb9f3a"
            ],
            [
             0.8888888888888888,
             "#fdca26"
            ],
            [
             1,
             "#f0f921"
            ]
           ],
           "sequentialminus": [
            [
             0,
             "#0d0887"
            ],
            [
             0.1111111111111111,
             "#46039f"
            ],
            [
             0.2222222222222222,
             "#7201a8"
            ],
            [
             0.3333333333333333,
             "#9c179e"
            ],
            [
             0.4444444444444444,
             "#bd3786"
            ],
            [
             0.5555555555555556,
             "#d8576b"
            ],
            [
             0.6666666666666666,
             "#ed7953"
            ],
            [
             0.7777777777777778,
             "#fb9f3a"
            ],
            [
             0.8888888888888888,
             "#fdca26"
            ],
            [
             1,
             "#f0f921"
            ]
           ]
          },
          "colorway": [
           "#636efa",
           "#EF553B",
           "#00cc96",
           "#ab63fa",
           "#FFA15A",
           "#19d3f3",
           "#FF6692",
           "#B6E880",
           "#FF97FF",
           "#FECB52"
          ],
          "font": {
           "color": "#2a3f5f"
          },
          "geo": {
           "bgcolor": "white",
           "lakecolor": "white",
           "landcolor": "#E5ECF6",
           "showlakes": true,
           "showland": true,
           "subunitcolor": "white"
          },
          "hoverlabel": {
           "align": "left"
          },
          "hovermode": "closest",
          "mapbox": {
           "style": "light"
          },
          "paper_bgcolor": "white",
          "plot_bgcolor": "#E5ECF6",
          "polar": {
           "angularaxis": {
            "gridcolor": "white",
            "linecolor": "white",
            "ticks": ""
           },
           "bgcolor": "#E5ECF6",
           "radialaxis": {
            "gridcolor": "white",
            "linecolor": "white",
            "ticks": ""
           }
          },
          "scene": {
           "xaxis": {
            "backgroundcolor": "#E5ECF6",
            "gridcolor": "white",
            "gridwidth": 2,
            "linecolor": "white",
            "showbackground": true,
            "ticks": "",
            "zerolinecolor": "white"
           },
           "yaxis": {
            "backgroundcolor": "#E5ECF6",
            "gridcolor": "white",
            "gridwidth": 2,
            "linecolor": "white",
            "showbackground": true,
            "ticks": "",
            "zerolinecolor": "white"
           },
           "zaxis": {
            "backgroundcolor": "#E5ECF6",
            "gridcolor": "white",
            "gridwidth": 2,
            "linecolor": "white",
            "showbackground": true,
            "ticks": "",
            "zerolinecolor": "white"
           }
          },
          "shapedefaults": {
           "line": {
            "color": "#2a3f5f"
           }
          },
          "ternary": {
           "aaxis": {
            "gridcolor": "white",
            "linecolor": "white",
            "ticks": ""
           },
           "baxis": {
            "gridcolor": "white",
            "linecolor": "white",
            "ticks": ""
           },
           "bgcolor": "#E5ECF6",
           "caxis": {
            "gridcolor": "white",
            "linecolor": "white",
            "ticks": ""
           }
          },
          "title": {
           "x": 0.05
          },
          "xaxis": {
           "automargin": true,
           "gridcolor": "white",
           "linecolor": "white",
           "ticks": "",
           "title": {
            "standoff": 15
           },
           "zerolinecolor": "white",
           "zerolinewidth": 2
          },
          "yaxis": {
           "automargin": true,
           "gridcolor": "white",
           "linecolor": "white",
           "ticks": "",
           "title": {
            "standoff": 15
           },
           "zerolinecolor": "white",
           "zerolinewidth": 2
          }
         }
        },
        "xaxis": {
         "anchor": "y",
         "domain": [
          0,
          1
         ],
         "title": {
          "text": "index"
         }
        },
        "yaxis": {
         "anchor": "x",
         "domain": [
          0,
          1
         ],
         "title": {
          "text": "value"
         }
        }
       }
      }
     },
     "metadata": {},
     "output_type": "display_data"
    }
   ],
   "source": [
    "px.scatter(A)"
   ]
  },
  {
   "cell_type": "code",
   "execution_count": 25,
   "metadata": {},
   "outputs": [],
   "source": [
    "B = torch.zeros(2*W+1)\n",
    "B[W] = 1\n",
    "B[W+2] = 1"
   ]
  },
  {
   "cell_type": "code",
   "execution_count": 28,
   "metadata": {},
   "outputs": [
    {
     "data": {
      "text/plain": [
       "tensor(1.6368)"
      ]
     },
     "execution_count": 28,
     "metadata": {},
     "output_type": "execute_result"
    }
   ],
   "source": [
    "L = torch.norm(A-B)\n",
    "L"
   ]
  },
  {
   "cell_type": "code",
   "execution_count": null,
   "metadata": {},
   "outputs": [],
   "source": []
  },
  {
   "cell_type": "code",
   "execution_count": 26,
   "metadata": {},
   "outputs": [
    {
     "data": {
      "application/vnd.plotly.v1+json": {
       "config": {
        "plotlyServerURL": "https://plot.ly"
       },
       "data": [
        {
         "hovertemplate": "variable=0<br>index=%{x}<br>value=%{y}<extra></extra>",
         "legendgroup": "0",
         "marker": {
          "color": "#636efa",
          "symbol": "circle"
         },
         "mode": "markers",
         "name": "0",
         "orientation": "v",
         "showlegend": true,
         "type": "scatter",
         "x": [
          0,
          1,
          2,
          3,
          4,
          5,
          6,
          7,
          8,
          9,
          10,
          11,
          12,
          13,
          14,
          15,
          16,
          17,
          18,
          19,
          20
         ],
         "xaxis": "x",
         "y": [
          0,
          0,
          0,
          0,
          0,
          0,
          0,
          0,
          0,
          0,
          1,
          0,
          1,
          0,
          0,
          0,
          0,
          0,
          0,
          0,
          0
         ],
         "yaxis": "y"
        }
       ],
       "layout": {
        "legend": {
         "title": {
          "text": "variable"
         },
         "tracegroupgap": 0
        },
        "margin": {
         "t": 60
        },
        "template": {
         "data": {
          "bar": [
           {
            "error_x": {
             "color": "#2a3f5f"
            },
            "error_y": {
             "color": "#2a3f5f"
            },
            "marker": {
             "line": {
              "color": "#E5ECF6",
              "width": 0.5
             },
             "pattern": {
              "fillmode": "overlay",
              "size": 10,
              "solidity": 0.2
             }
            },
            "type": "bar"
           }
          ],
          "barpolar": [
           {
            "marker": {
             "line": {
              "color": "#E5ECF6",
              "width": 0.5
             },
             "pattern": {
              "fillmode": "overlay",
              "size": 10,
              "solidity": 0.2
             }
            },
            "type": "barpolar"
           }
          ],
          "carpet": [
           {
            "aaxis": {
             "endlinecolor": "#2a3f5f",
             "gridcolor": "white",
             "linecolor": "white",
             "minorgridcolor": "white",
             "startlinecolor": "#2a3f5f"
            },
            "baxis": {
             "endlinecolor": "#2a3f5f",
             "gridcolor": "white",
             "linecolor": "white",
             "minorgridcolor": "white",
             "startlinecolor": "#2a3f5f"
            },
            "type": "carpet"
           }
          ],
          "choropleth": [
           {
            "colorbar": {
             "outlinewidth": 0,
             "ticks": ""
            },
            "type": "choropleth"
           }
          ],
          "contour": [
           {
            "colorbar": {
             "outlinewidth": 0,
             "ticks": ""
            },
            "colorscale": [
             [
              0,
              "#0d0887"
             ],
             [
              0.1111111111111111,
              "#46039f"
             ],
             [
              0.2222222222222222,
              "#7201a8"
             ],
             [
              0.3333333333333333,
              "#9c179e"
             ],
             [
              0.4444444444444444,
              "#bd3786"
             ],
             [
              0.5555555555555556,
              "#d8576b"
             ],
             [
              0.6666666666666666,
              "#ed7953"
             ],
             [
              0.7777777777777778,
              "#fb9f3a"
             ],
             [
              0.8888888888888888,
              "#fdca26"
             ],
             [
              1,
              "#f0f921"
             ]
            ],
            "type": "contour"
           }
          ],
          "contourcarpet": [
           {
            "colorbar": {
             "outlinewidth": 0,
             "ticks": ""
            },
            "type": "contourcarpet"
           }
          ],
          "heatmap": [
           {
            "colorbar": {
             "outlinewidth": 0,
             "ticks": ""
            },
            "colorscale": [
             [
              0,
              "#0d0887"
             ],
             [
              0.1111111111111111,
              "#46039f"
             ],
             [
              0.2222222222222222,
              "#7201a8"
             ],
             [
              0.3333333333333333,
              "#9c179e"
             ],
             [
              0.4444444444444444,
              "#bd3786"
             ],
             [
              0.5555555555555556,
              "#d8576b"
             ],
             [
              0.6666666666666666,
              "#ed7953"
             ],
             [
              0.7777777777777778,
              "#fb9f3a"
             ],
             [
              0.8888888888888888,
              "#fdca26"
             ],
             [
              1,
              "#f0f921"
             ]
            ],
            "type": "heatmap"
           }
          ],
          "heatmapgl": [
           {
            "colorbar": {
             "outlinewidth": 0,
             "ticks": ""
            },
            "colorscale": [
             [
              0,
              "#0d0887"
             ],
             [
              0.1111111111111111,
              "#46039f"
             ],
             [
              0.2222222222222222,
              "#7201a8"
             ],
             [
              0.3333333333333333,
              "#9c179e"
             ],
             [
              0.4444444444444444,
              "#bd3786"
             ],
             [
              0.5555555555555556,
              "#d8576b"
             ],
             [
              0.6666666666666666,
              "#ed7953"
             ],
             [
              0.7777777777777778,
              "#fb9f3a"
             ],
             [
              0.8888888888888888,
              "#fdca26"
             ],
             [
              1,
              "#f0f921"
             ]
            ],
            "type": "heatmapgl"
           }
          ],
          "histogram": [
           {
            "marker": {
             "pattern": {
              "fillmode": "overlay",
              "size": 10,
              "solidity": 0.2
             }
            },
            "type": "histogram"
           }
          ],
          "histogram2d": [
           {
            "colorbar": {
             "outlinewidth": 0,
             "ticks": ""
            },
            "colorscale": [
             [
              0,
              "#0d0887"
             ],
             [
              0.1111111111111111,
              "#46039f"
             ],
             [
              0.2222222222222222,
              "#7201a8"
             ],
             [
              0.3333333333333333,
              "#9c179e"
             ],
             [
              0.4444444444444444,
              "#bd3786"
             ],
             [
              0.5555555555555556,
              "#d8576b"
             ],
             [
              0.6666666666666666,
              "#ed7953"
             ],
             [
              0.7777777777777778,
              "#fb9f3a"
             ],
             [
              0.8888888888888888,
              "#fdca26"
             ],
             [
              1,
              "#f0f921"
             ]
            ],
            "type": "histogram2d"
           }
          ],
          "histogram2dcontour": [
           {
            "colorbar": {
             "outlinewidth": 0,
             "ticks": ""
            },
            "colorscale": [
             [
              0,
              "#0d0887"
             ],
             [
              0.1111111111111111,
              "#46039f"
             ],
             [
              0.2222222222222222,
              "#7201a8"
             ],
             [
              0.3333333333333333,
              "#9c179e"
             ],
             [
              0.4444444444444444,
              "#bd3786"
             ],
             [
              0.5555555555555556,
              "#d8576b"
             ],
             [
              0.6666666666666666,
              "#ed7953"
             ],
             [
              0.7777777777777778,
              "#fb9f3a"
             ],
             [
              0.8888888888888888,
              "#fdca26"
             ],
             [
              1,
              "#f0f921"
             ]
            ],
            "type": "histogram2dcontour"
           }
          ],
          "mesh3d": [
           {
            "colorbar": {
             "outlinewidth": 0,
             "ticks": ""
            },
            "type": "mesh3d"
           }
          ],
          "parcoords": [
           {
            "line": {
             "colorbar": {
              "outlinewidth": 0,
              "ticks": ""
             }
            },
            "type": "parcoords"
           }
          ],
          "pie": [
           {
            "automargin": true,
            "type": "pie"
           }
          ],
          "scatter": [
           {
            "fillpattern": {
             "fillmode": "overlay",
             "size": 10,
             "solidity": 0.2
            },
            "type": "scatter"
           }
          ],
          "scatter3d": [
           {
            "line": {
             "colorbar": {
              "outlinewidth": 0,
              "ticks": ""
             }
            },
            "marker": {
             "colorbar": {
              "outlinewidth": 0,
              "ticks": ""
             }
            },
            "type": "scatter3d"
           }
          ],
          "scattercarpet": [
           {
            "marker": {
             "colorbar": {
              "outlinewidth": 0,
              "ticks": ""
             }
            },
            "type": "scattercarpet"
           }
          ],
          "scattergeo": [
           {
            "marker": {
             "colorbar": {
              "outlinewidth": 0,
              "ticks": ""
             }
            },
            "type": "scattergeo"
           }
          ],
          "scattergl": [
           {
            "marker": {
             "colorbar": {
              "outlinewidth": 0,
              "ticks": ""
             }
            },
            "type": "scattergl"
           }
          ],
          "scattermapbox": [
           {
            "marker": {
             "colorbar": {
              "outlinewidth": 0,
              "ticks": ""
             }
            },
            "type": "scattermapbox"
           }
          ],
          "scatterpolar": [
           {
            "marker": {
             "colorbar": {
              "outlinewidth": 0,
              "ticks": ""
             }
            },
            "type": "scatterpolar"
           }
          ],
          "scatterpolargl": [
           {
            "marker": {
             "colorbar": {
              "outlinewidth": 0,
              "ticks": ""
             }
            },
            "type": "scatterpolargl"
           }
          ],
          "scatterternary": [
           {
            "marker": {
             "colorbar": {
              "outlinewidth": 0,
              "ticks": ""
             }
            },
            "type": "scatterternary"
           }
          ],
          "surface": [
           {
            "colorbar": {
             "outlinewidth": 0,
             "ticks": ""
            },
            "colorscale": [
             [
              0,
              "#0d0887"
             ],
             [
              0.1111111111111111,
              "#46039f"
             ],
             [
              0.2222222222222222,
              "#7201a8"
             ],
             [
              0.3333333333333333,
              "#9c179e"
             ],
             [
              0.4444444444444444,
              "#bd3786"
             ],
             [
              0.5555555555555556,
              "#d8576b"
             ],
             [
              0.6666666666666666,
              "#ed7953"
             ],
             [
              0.7777777777777778,
              "#fb9f3a"
             ],
             [
              0.8888888888888888,
              "#fdca26"
             ],
             [
              1,
              "#f0f921"
             ]
            ],
            "type": "surface"
           }
          ],
          "table": [
           {
            "cells": {
             "fill": {
              "color": "#EBF0F8"
             },
             "line": {
              "color": "white"
             }
            },
            "header": {
             "fill": {
              "color": "#C8D4E3"
             },
             "line": {
              "color": "white"
             }
            },
            "type": "table"
           }
          ]
         },
         "layout": {
          "annotationdefaults": {
           "arrowcolor": "#2a3f5f",
           "arrowhead": 0,
           "arrowwidth": 1
          },
          "autotypenumbers": "strict",
          "coloraxis": {
           "colorbar": {
            "outlinewidth": 0,
            "ticks": ""
           }
          },
          "colorscale": {
           "diverging": [
            [
             0,
             "#8e0152"
            ],
            [
             0.1,
             "#c51b7d"
            ],
            [
             0.2,
             "#de77ae"
            ],
            [
             0.3,
             "#f1b6da"
            ],
            [
             0.4,
             "#fde0ef"
            ],
            [
             0.5,
             "#f7f7f7"
            ],
            [
             0.6,
             "#e6f5d0"
            ],
            [
             0.7,
             "#b8e186"
            ],
            [
             0.8,
             "#7fbc41"
            ],
            [
             0.9,
             "#4d9221"
            ],
            [
             1,
             "#276419"
            ]
           ],
           "sequential": [
            [
             0,
             "#0d0887"
            ],
            [
             0.1111111111111111,
             "#46039f"
            ],
            [
             0.2222222222222222,
             "#7201a8"
            ],
            [
             0.3333333333333333,
             "#9c179e"
            ],
            [
             0.4444444444444444,
             "#bd3786"
            ],
            [
             0.5555555555555556,
             "#d8576b"
            ],
            [
             0.6666666666666666,
             "#ed7953"
            ],
            [
             0.7777777777777778,
             "#fb9f3a"
            ],
            [
             0.8888888888888888,
             "#fdca26"
            ],
            [
             1,
             "#f0f921"
            ]
           ],
           "sequentialminus": [
            [
             0,
             "#0d0887"
            ],
            [
             0.1111111111111111,
             "#46039f"
            ],
            [
             0.2222222222222222,
             "#7201a8"
            ],
            [
             0.3333333333333333,
             "#9c179e"
            ],
            [
             0.4444444444444444,
             "#bd3786"
            ],
            [
             0.5555555555555556,
             "#d8576b"
            ],
            [
             0.6666666666666666,
             "#ed7953"
            ],
            [
             0.7777777777777778,
             "#fb9f3a"
            ],
            [
             0.8888888888888888,
             "#fdca26"
            ],
            [
             1,
             "#f0f921"
            ]
           ]
          },
          "colorway": [
           "#636efa",
           "#EF553B",
           "#00cc96",
           "#ab63fa",
           "#FFA15A",
           "#19d3f3",
           "#FF6692",
           "#B6E880",
           "#FF97FF",
           "#FECB52"
          ],
          "font": {
           "color": "#2a3f5f"
          },
          "geo": {
           "bgcolor": "white",
           "lakecolor": "white",
           "landcolor": "#E5ECF6",
           "showlakes": true,
           "showland": true,
           "subunitcolor": "white"
          },
          "hoverlabel": {
           "align": "left"
          },
          "hovermode": "closest",
          "mapbox": {
           "style": "light"
          },
          "paper_bgcolor": "white",
          "plot_bgcolor": "#E5ECF6",
          "polar": {
           "angularaxis": {
            "gridcolor": "white",
            "linecolor": "white",
            "ticks": ""
           },
           "bgcolor": "#E5ECF6",
           "radialaxis": {
            "gridcolor": "white",
            "linecolor": "white",
            "ticks": ""
           }
          },
          "scene": {
           "xaxis": {
            "backgroundcolor": "#E5ECF6",
            "gridcolor": "white",
            "gridwidth": 2,
            "linecolor": "white",
            "showbackground": true,
            "ticks": "",
            "zerolinecolor": "white"
           },
           "yaxis": {
            "backgroundcolor": "#E5ECF6",
            "gridcolor": "white",
            "gridwidth": 2,
            "linecolor": "white",
            "showbackground": true,
            "ticks": "",
            "zerolinecolor": "white"
           },
           "zaxis": {
            "backgroundcolor": "#E5ECF6",
            "gridcolor": "white",
            "gridwidth": 2,
            "linecolor": "white",
            "showbackground": true,
            "ticks": "",
            "zerolinecolor": "white"
           }
          },
          "shapedefaults": {
           "line": {
            "color": "#2a3f5f"
           }
          },
          "ternary": {
           "aaxis": {
            "gridcolor": "white",
            "linecolor": "white",
            "ticks": ""
           },
           "baxis": {
            "gridcolor": "white",
            "linecolor": "white",
            "ticks": ""
           },
           "bgcolor": "#E5ECF6",
           "caxis": {
            "gridcolor": "white",
            "linecolor": "white",
            "ticks": ""
           }
          },
          "title": {
           "x": 0.05
          },
          "xaxis": {
           "automargin": true,
           "gridcolor": "white",
           "linecolor": "white",
           "ticks": "",
           "title": {
            "standoff": 15
           },
           "zerolinecolor": "white",
           "zerolinewidth": 2
          },
          "yaxis": {
           "automargin": true,
           "gridcolor": "white",
           "linecolor": "white",
           "ticks": "",
           "title": {
            "standoff": 15
           },
           "zerolinecolor": "white",
           "zerolinewidth": 2
          }
         }
        },
        "xaxis": {
         "anchor": "y",
         "domain": [
          0,
          1
         ],
         "title": {
          "text": "index"
         }
        },
        "yaxis": {
         "anchor": "x",
         "domain": [
          0,
          1
         ],
         "title": {
          "text": "value"
         }
        }
       }
      }
     },
     "metadata": {},
     "output_type": "display_data"
    }
   ],
   "source": [
    "px.scatter(A)\n",
    "px.scatter(B)"
   ]
  },
  {
   "cell_type": "code",
   "execution_count": 52,
   "metadata": {},
   "outputs": [],
   "source": [
    "W = 3\n",
    "w = torch.arange(-W, W+1).reshape((1,-1))\n",
    "bcoord = [-1, 1]\n",
    "bmax = 1\n",
    "\n",
    "N = 2\n",
    "x = torch.tensor([[-1], [1.]], dtype = torch.float, requires_grad=True)\n",
    "optim = torch.optim.Adam([x], lr=1e-1)\n",
    "\n"
   ]
  },
  {
   "cell_type": "code",
   "execution_count": 70,
   "metadata": {},
   "outputs": [
    {
     "data": {
      "text/plain": [
       "[0.17286424338817596,\n",
       " 0.45916983485221863,\n",
       " 0.1780509501695633,\n",
       " 0.1634596288204193,\n",
       " 0.29190683364868164,\n",
       " 0.014373543672263622,\n",
       " 0.17526398599147797,\n",
       " 0.19086728990077972,\n",
       " 0.00187687820289284,\n",
       " 0.13193033635616302,\n",
       " 0.13618867099285126,\n",
       " 0.0018287916900590062,\n",
       " 0.08822499215602875,\n",
       " 0.10418593883514404,\n",
       " 0.004283519461750984,\n",
       " 0.053222715854644775,\n",
       " 0.0813935175538063,\n",
       " 0.008383498527109623,\n",
       " 0.028142940253019333,\n",
       " 0.06235424429178238,\n",
       " 0.01275558490306139,\n",
       " 0.0122306440025568,\n",
       " 0.045557502657175064,\n",
       " 0.015996122732758522,\n",
       " 0.0037325567100197077,\n",
       " 0.031120644882321358,\n",
       " 0.017327038571238518,\n",
       " 0.00042857701191678643,\n",
       " 0.01966002583503723,\n",
       " 0.016833903267979622,\n",
       " 0.00016889108519535512,\n",
       " 0.010556850582361221,\n",
       " 0.014058295637369156,\n",
       " 0.0011337787145748734,\n",
       " 0.005095397587865591,\n",
       " 0.011129176244139671,\n",
       " 0.002303565153852105,\n",
       " 0.0019673730712383986,\n",
       " 0.008101189509034157,\n",
       " 0.003113736864179373,\n",
       " 0.0004931427538394928,\n",
       " 0.005453955382108688,\n",
       " 0.00344177708029747,\n",
       " 0.00011354596063029021,\n",
       " 0.0036295170430094004,\n",
       " 0.0036092970985919237,\n",
       " 0.0001454355224268511,\n",
       " 0.0016905540833249688,\n",
       " 0.0027231804560869932,\n",
       " 0.0003547048254404217,\n",
       " 0.000726732425391674,\n",
       " 0.0020427752751857042,\n",
       " 0.0005782251246273518,\n",
       " 0.0002526068710722029,\n",
       " 0.001497455989010632,\n",
       " 0.0007580736419185996,\n",
       " 0.00011666895443340763,\n",
       " 0.0011578501434996724,\n",
       " 0.0009669940336607397,\n",
       " 0.00011183250171598047,\n",
       " 0.0005666353390552104,\n",
       " 0.0007586993742734194,\n",
       " 0.00012661634536925703,\n",
       " 0.00020137528190389276,\n",
       " 0.0005232923431321979,\n",
       " 0.00019706168677657843,\n",
       " 0.00011322135833324865,\n",
       " 0.0004193732456769794,\n",
       " 0.0003162272332701832,\n",
       " 0.00011103008728241548,\n",
       " 0.00021949602523818612,\n",
       " 0.0003071030369028449,\n",
       " 0.00011991420615231618,\n",
       " 0.00011300441110506654,\n",
       " 0.00023313598649110645,\n",
       " 0.00018180979532189667,\n",
       " 0.00011090615589637309,\n",
       " 0.00012515914568211883,\n",
       " 0.0002002232358790934,\n",
       " 0.0001361746108159423,\n",
       " 0.00011136388638988137,\n",
       " 0.000117641051474493,\n",
       " 0.00016430490359198302,\n",
       " 0.00012897138367407024,\n",
       " 0.00011089526378782466,\n",
       " 0.00011263701890129596,\n",
       " 0.0001307965867454186,\n",
       " 0.00013569714792538434,\n",
       " 0.00011493244528537616,\n",
       " 0.00011133393127238378,\n",
       " 0.00011114960943814367,\n",
       " 0.0001189605172839947,\n",
       " 0.000124375379527919,\n",
       " 0.00011412204912630841,\n",
       " 0.00011089559848187491,\n",
       " 0.00011130657367175445,\n",
       " 0.00011215836275368929,\n",
       " 0.00011473585618659854,\n",
       " 0.00011683993216138333,\n",
       " 0.00011481373803690076,\n",
       " 0.00011239352897973731,\n",
       " 0.00011151320359203964,\n",
       " 0.0001111407982534729,\n",
       " 0.00011089562030974776,\n",
       " 0.0001112520694732666,\n",
       " 0.00011244382767472416,\n",
       " 0.0001129795637098141,\n",
       " 0.00011202694440726191,\n",
       " 0.00011111044295830652,\n",
       " 0.00011089411418652162,\n",
       " 0.00011101081327069551,\n",
       " 0.00011117469693999738,\n",
       " 0.00011131422797916457,\n",
       " 0.00011142983566969633,\n",
       " 0.00011152528168167919,\n",
       " 0.00011159195128129795,\n",
       " 0.00011161783913848922,\n",
       " 0.00011159983114339411,\n",
       " 0.00011154746607644483,\n",
       " 0.00011147373879794031,\n",
       " 0.0001113920661737211,\n",
       " 0.00011130478378618136,\n",
       " 0.00011121202260255814,\n",
       " 0.00011111346975667402,\n",
       " 0.00011101391282863915,\n",
       " 0.0001109310396714136,\n",
       " 0.00011089300096500665,\n",
       " 0.00011092529894085601,\n",
       " 0.00011101765267085284,\n",
       " 0.00011109202023362741,\n",
       " 0.00011109191837022081,\n",
       " 0.00011102054122602567,\n",
       " 0.00011094320507254452,\n",
       " 0.00011089767212979496,\n",
       " 0.00011089491454185918,\n",
       " 0.00011091646592831239,\n",
       " 0.00011094204819528386,\n",
       " 0.00011096279922639951,\n",
       " 0.00011097358219558373,\n",
       " 0.00011097289097961038,\n",
       " 0.00011096202797489241,\n",
       " 0.00011094452202087268,\n",
       " 0.00011092385102529079,\n",
       " 0.00011090428597526625,\n",
       " 0.00011089301551692188,\n",
       " 0.00011089401232311502,\n",
       " 0.00011090420593973249,\n",
       " 0.00011091542546637356,\n",
       " 0.0001109205259126611,\n",
       " 0.0001109226286644116,\n",
       " 0.00011091061605839059,\n",
       " 0.0001109033910324797,\n",
       " 0.00011089440522482619,\n",
       " 0.00011089316103607416,\n",
       " 0.0001108954893425107,\n",
       " 0.00011089930194430053,\n",
       " 0.00011090351472375914,\n",
       " 0.00011090536281699315,\n",
       " 0.00011090360931120813,\n",
       " 0.00011090160842286423,\n",
       " 0.00011089847248513252,\n",
       " 0.00011089471081504598,\n",
       " 0.00011089396866736934,\n",
       " 0.00011089344479842111,\n",
       " 0.00011089245526818559,\n",
       " 0.00011089551117038354,\n",
       " 0.00011089712643297389,\n",
       " 0.00011089712643297389,\n",
       " 0.00011089502368122339,\n",
       " 0.0001108941578422673,\n",
       " 0.00011089351028203964,\n",
       " 0.00011089209147030488,\n",
       " 0.00011089231702499092,\n",
       " 0.00011089287727372721,\n",
       " 0.00011089463077951223,\n",
       " 0.00011089391045970842,\n",
       " 0.00011089378676842898,\n",
       " 0.00011089454346802086,\n",
       " 0.0001108935903175734,\n",
       " 0.00011089319741586223,\n",
       " 0.00011089248437201604,\n",
       " 0.00011089396866736934,\n",
       " 0.00011089295730926096,\n",
       " 0.00011089339386671782,\n",
       " 0.00011089165491284803,\n",
       " 0.00011089335021097213,\n",
       " 0.00011089284089393914,\n",
       " 0.0001108916403609328,\n",
       " 0.00011089124018326402,\n",
       " 0.00011089101462857798,\n",
       " 0.00011089429608546197,\n",
       " 0.00011089360486948863,\n",
       " 0.00011089231702499092,\n",
       " 0.00011089347390225157,\n",
       " 0.00011089371400885284,\n",
       " 0.00011089313920820132,\n",
       " 0.00011089176405221224,\n",
       " 0.0001108932847273536,\n",
       " 0.0001108910801121965,\n",
       " 0.00011089238978456706,\n",
       " 0.00011089403415098786,\n",
       " 0.00011089264444308355,\n",
       " 0.00011089183681178838,\n",
       " 0.00011089165491284803,\n",
       " 0.00011089198960689828,\n",
       " 0.00011089281179010868,\n",
       " 0.00011089403415098786,\n",
       " 0.0001108918950194493,\n",
       " 0.00011089324107160792,\n",
       " 0.00011089101462857798,\n",
       " 0.000110891844087746,\n",
       " 0.00011089230247307569,\n",
       " 0.00011089230247307569,\n",
       " 0.00011089197505498305,\n",
       " 0.00011089131294284016,\n",
       " 0.00011089391045970842,\n",
       " 0.00011089308827649802,\n",
       " 0.00011089238250860944,\n",
       " 0.00011089175677625462,\n",
       " 0.00011089132749475539,\n",
       " 0.00011089099280070513,\n",
       " 0.00011089444888057187,\n",
       " 0.00011089101462857798,\n",
       " 0.00011089134932262823,\n",
       " 0.00011089181498391554,\n",
       " 0.00011089217150583863,\n",
       " 0.00011089265899499878,\n",
       " 0.00011089306644862518,\n",
       " 0.00011089348117820919,\n",
       " 0.0001108938959077932,\n",
       " 0.00011089422332588583,\n",
       " 0.00011089268809882924,\n",
       " 0.00011089277541032061,\n",
       " 0.00011089268809882924,\n",
       " 0.00011089422332588583,\n",
       " 0.00011089398321928456,\n",
       " 0.00011089372856076807,\n",
       " 0.00011089347390225157,\n",
       " 0.00011089331383118406,\n",
       " 0.00011089317558798939,\n",
       " 0.00011089306644862518,\n",
       " 0.00011089298641309142,\n",
       " 0.00011089296458521858,\n",
       " 0.00011089289910160005,\n",
       " 0.00011089291365351528,\n",
       " 0.00011089297913713381,\n",
       " 0.00011089306644862518,\n",
       " 0.00011089315376011655,\n",
       " 0.0001108932337956503,\n",
       " 0.00011089331383118406,\n",
       " 0.00011089346662629396,\n",
       " 0.00011089355393778533,\n",
       " 0.00011089371400885284,\n",
       " 0.00011089381587225944,\n",
       " 0.0001108938959077932,\n",
       " 0.00011089396866736934,\n",
       " 0.00011089398321928456,\n",
       " 0.00011089398321928456,\n",
       " 0.00011089398321928456,\n",
       " 0.00011089398321928456,\n",
       " 0.00011089398321928456,\n",
       " 0.00011089396866736934,\n",
       " 0.0001108938959077932,\n",
       " 0.00011089387407992035,\n",
       " 0.00011089380132034421,\n",
       " 0.0001108937940443866,\n",
       " 0.00011089373583672568,\n",
       " 0.00011089371400885284,\n",
       " 0.0001108936412492767,\n",
       " 0.00011089362669736147,\n",
       " 0.00011089362669736147,\n",
       " 0.00011089362669736147,\n",
       " 0.00011089362669736147,\n",
       " 0.00011089362669736147,\n",
       " 0.00011089362669736147,\n",
       " 0.00011089362669736147,\n",
       " 0.00011089362669736147,\n",
       " 0.00011089362669736147,\n",
       " 0.0001108936412492767,\n",
       " 0.00011089371400885284,\n",
       " 0.00011089373583672568,\n",
       " 0.00011089373583672568,\n",
       " 0.00011089373583672568,\n",
       " 0.00011089373583672568,\n",
       " 0.00011089373583672568,\n",
       " 0.00011089373583672568,\n",
       " 0.00011089373583672568,\n",
       " 0.00011089373583672568,\n",
       " 0.00011089373583672568,\n",
       " 0.00011089373583672568,\n",
       " 0.00011089373583672568,\n",
       " 0.00011089373583672568,\n",
       " 0.00011089373583672568,\n",
       " 0.00011089373583672568,\n",
       " 0.00011089373583672568,\n",
       " 0.00011089373583672568,\n",
       " 0.00011089373583672568,\n",
       " 0.00011089373583672568,\n",
       " 0.00011089373583672568,\n",
       " 0.00011089373583672568,\n",
       " 0.00011089373583672568,\n",
       " 0.00011089373583672568,\n",
       " 0.00011089373583672568,\n",
       " 0.00011089373583672568,\n",
       " 0.00011089373583672568,\n",
       " 0.00011089373583672568,\n",
       " 0.00011089373583672568,\n",
       " 0.00011089366307714954,\n",
       " 0.00011089366307714954,\n",
       " 0.00011089366307714954,\n",
       " 0.00011089366307714954,\n",
       " 0.00011089366307714954,\n",
       " 0.00011089366307714954,\n",
       " 0.00011089366307714954,\n",
       " 0.00011089366307714954,\n",
       " 0.00011089366307714954,\n",
       " 0.00011089366307714954,\n",
       " 0.00011089366307714954,\n",
       " 0.00011089366307714954,\n",
       " 0.00011089366307714954,\n",
       " 0.00011089366307714954,\n",
       " 0.00011089366307714954,\n",
       " 0.00011089366307714954,\n",
       " 0.00011089366307714954,\n",
       " 0.00011089366307714954,\n",
       " 0.00011089366307714954,\n",
       " 0.00011089366307714954,\n",
       " 0.00011089366307714954,\n",
       " 0.00011089366307714954,\n",
       " 0.00011089366307714954,\n",
       " 0.00011089366307714954,\n",
       " 0.00011089366307714954,\n",
       " 0.00011089366307714954,\n",
       " 0.00011089366307714954,\n",
       " 0.00011089366307714954,\n",
       " 0.00011089366307714954,\n",
       " 0.00011089366307714954,\n",
       " 0.00011089366307714954,\n",
       " 0.00011089366307714954,\n",
       " 0.00011089366307714954,\n",
       " 0.00011089366307714954,\n",
       " 0.00011089366307714954,\n",
       " 0.00011089366307714954,\n",
       " 0.00011089366307714954,\n",
       " 0.00011089366307714954,\n",
       " 0.00011089366307714954,\n",
       " 0.00011089366307714954,\n",
       " 0.00011089366307714954,\n",
       " 0.00011089366307714954,\n",
       " 0.00011089366307714954,\n",
       " 0.00011089366307714954,\n",
       " 0.00011089366307714954,\n",
       " 0.00011089366307714954,\n",
       " 0.00011089366307714954,\n",
       " 0.00011089366307714954,\n",
       " 0.00011089366307714954,\n",
       " 0.00011089366307714954,\n",
       " 0.00011089366307714954,\n",
       " 0.00011089366307714954,\n",
       " 0.00011089366307714954,\n",
       " 0.00011089366307714954,\n",
       " 0.00011089366307714954,\n",
       " 0.00011089366307714954,\n",
       " 0.00011089366307714954,\n",
       " 0.00011089366307714954,\n",
       " 0.00011089366307714954,\n",
       " 0.00011089366307714954,\n",
       " 0.00011089366307714954,\n",
       " 0.00011089366307714954,\n",
       " 0.00011089366307714954,\n",
       " 0.00011089366307714954,\n",
       " 0.00011089366307714954,\n",
       " 0.00011089366307714954,\n",
       " 0.00011089366307714954,\n",
       " 0.00011089366307714954,\n",
       " 0.00011089366307714954,\n",
       " 0.00011089366307714954,\n",
       " 0.00011089366307714954,\n",
       " 0.00011089366307714954,\n",
       " 0.00011089366307714954,\n",
       " 0.00011089366307714954,\n",
       " 0.00011089366307714954,\n",
       " 0.00011089366307714954,\n",
       " 0.00011089366307714954,\n",
       " 0.00011089366307714954,\n",
       " 0.00011089366307714954,\n",
       " 0.00011089366307714954,\n",
       " 0.00011089366307714954,\n",
       " 0.00011089366307714954,\n",
       " 0.00011089366307714954,\n",
       " 0.00011089366307714954,\n",
       " 0.00011089366307714954,\n",
       " 0.00011089366307714954,\n",
       " 0.00011089366307714954,\n",
       " 0.00011089366307714954,\n",
       " 0.00011089366307714954,\n",
       " 0.00011089366307714954,\n",
       " 0.00011089366307714954,\n",
       " 0.00011089366307714954,\n",
       " 0.00011089366307714954,\n",
       " 0.00011089366307714954,\n",
       " 0.00011089366307714954,\n",
       " 0.00011089366307714954,\n",
       " 0.00011089366307714954,\n",
       " 0.00011089366307714954,\n",
       " 0.00011089366307714954,\n",
       " 0.00011089366307714954,\n",
       " 0.00011089366307714954,\n",
       " 0.00011089366307714954,\n",
       " 0.00011089366307714954,\n",
       " 0.00011089366307714954,\n",
       " 0.00011089366307714954,\n",
       " 0.00011089366307714954,\n",
       " 0.00011089366307714954,\n",
       " 0.00011089366307714954,\n",
       " 0.00011089366307714954,\n",
       " 0.00011089366307714954,\n",
       " 0.00011089366307714954,\n",
       " 0.00011089366307714954,\n",
       " 0.00011089366307714954,\n",
       " 0.00011089366307714954,\n",
       " 0.00011089366307714954,\n",
       " 0.00011089366307714954,\n",
       " 0.00011089366307714954,\n",
       " 0.00011089366307714954,\n",
       " 0.00011089366307714954,\n",
       " 0.00011089366307714954,\n",
       " 0.00011089366307714954,\n",
       " 0.00011089366307714954,\n",
       " 0.00011089366307714954,\n",
       " 0.00011089366307714954,\n",
       " 0.00011089366307714954,\n",
       " 0.00011089366307714954,\n",
       " 0.00011089366307714954,\n",
       " 0.00011089366307714954,\n",
       " 0.00011089366307714954,\n",
       " 0.00011089366307714954,\n",
       " 0.00011089366307714954,\n",
       " 0.00011089366307714954,\n",
       " 0.00011089366307714954,\n",
       " 0.00011089366307714954,\n",
       " 0.00011089366307714954,\n",
       " 0.00011089366307714954,\n",
       " 0.00011089366307714954,\n",
       " 0.00011089366307714954,\n",
       " 0.00011089366307714954,\n",
       " 0.00011089366307714954,\n",
       " 0.00011089366307714954,\n",
       " 0.00011089366307714954,\n",
       " 0.00011089366307714954,\n",
       " 0.00011089366307714954,\n",
       " 0.00011089366307714954,\n",
       " 0.00011089366307714954,\n",
       " 0.00011089366307714954,\n",
       " 0.00011089366307714954,\n",
       " 0.00011089366307714954,\n",
       " 0.00011089366307714954,\n",
       " 0.00011089366307714954,\n",
       " 0.00011089366307714954,\n",
       " 0.00011089366307714954,\n",
       " 0.00011089366307714954,\n",
       " 0.00011089366307714954,\n",
       " 0.00011089366307714954,\n",
       " 0.00011089366307714954,\n",
       " 0.00011089366307714954,\n",
       " 0.00011089366307714954,\n",
       " 0.00011089366307714954,\n",
       " 0.00011089366307714954,\n",
       " 0.00011089366307714954,\n",
       " 0.00011089366307714954,\n",
       " 0.00011089366307714954,\n",
       " 0.00011089366307714954,\n",
       " 0.00011089366307714954,\n",
       " 0.00011089366307714954,\n",
       " 0.00011089366307714954,\n",
       " 0.00011089366307714954,\n",
       " 0.00011089366307714954,\n",
       " 0.00011089366307714954,\n",
       " 0.00011089366307714954,\n",
       " 0.00011089366307714954,\n",
       " 0.00011089366307714954,\n",
       " 0.00011089366307714954,\n",
       " 0.00011089366307714954,\n",
       " 0.00011089366307714954,\n",
       " 0.00011089366307714954,\n",
       " 0.00011089366307714954,\n",
       " 0.00011089366307714954,\n",
       " 0.00011089366307714954,\n",
       " 0.00011089366307714954,\n",
       " 0.00011089366307714954,\n",
       " 0.00011089366307714954,\n",
       " 0.00011089366307714954,\n",
       " 0.00011089366307714954,\n",
       " 0.00011089366307714954,\n",
       " 0.00011089366307714954,\n",
       " 0.00011089366307714954,\n",
       " 0.00011089366307714954,\n",
       " 0.00011089366307714954,\n",
       " 0.00011089366307714954,\n",
       " 0.00011089366307714954,\n",
       " 0.00011089366307714954,\n",
       " 0.00011089366307714954,\n",
       " 0.00011089366307714954,\n",
       " 0.00011089366307714954,\n",
       " 0.00011089366307714954,\n",
       " 0.00011089366307714954,\n",
       " 0.00011089366307714954,\n",
       " 0.00011089366307714954,\n",
       " 0.00011089366307714954,\n",
       " 0.00011089366307714954,\n",
       " 0.00011089366307714954,\n",
       " 0.00011089366307714954,\n",
       " 0.00011089366307714954,\n",
       " 0.00011089366307714954,\n",
       " 0.00011089366307714954,\n",
       " 0.00011089366307714954,\n",
       " 0.00011089366307714954,\n",
       " 0.00011089366307714954,\n",
       " 0.00011089366307714954,\n",
       " 0.00011089366307714954,\n",
       " 0.00011089366307714954,\n",
       " 0.00011089366307714954,\n",
       " 0.00011089366307714954,\n",
       " 0.00011089366307714954,\n",
       " 0.00011089366307714954,\n",
       " 0.00011089366307714954,\n",
       " 0.00011089366307714954,\n",
       " 0.00011089366307714954,\n",
       " 0.00011089366307714954,\n",
       " 0.00011089366307714954,\n",
       " 0.00011089366307714954,\n",
       " 0.00011089366307714954,\n",
       " 0.00011089366307714954,\n",
       " 0.00011089366307714954,\n",
       " 0.00011089366307714954,\n",
       " 0.00011089366307714954,\n",
       " 0.00011089366307714954,\n",
       " 0.00011089366307714954,\n",
       " 0.00011089366307714954,\n",
       " 0.00011089366307714954,\n",
       " 0.00011089366307714954,\n",
       " 0.00011089366307714954,\n",
       " 0.00011089366307714954,\n",
       " 0.00011089366307714954,\n",
       " 0.00011089366307714954,\n",
       " 0.00011089366307714954,\n",
       " 0.00011089366307714954,\n",
       " 0.00011089366307714954,\n",
       " 0.00011089366307714954,\n",
       " 0.00011089366307714954,\n",
       " 0.00011089366307714954,\n",
       " 0.00011089366307714954,\n",
       " 0.00011089366307714954,\n",
       " 0.00011089366307714954,\n",
       " 0.00011089366307714954,\n",
       " 0.00011089366307714954,\n",
       " 0.00011089366307714954,\n",
       " 0.00011089366307714954,\n",
       " 0.00011089366307714954,\n",
       " 0.00011089366307714954,\n",
       " 0.00011089366307714954,\n",
       " 0.00011089366307714954,\n",
       " 0.00011089366307714954,\n",
       " 0.00011089366307714954,\n",
       " 0.00011089366307714954,\n",
       " 0.00011089366307714954,\n",
       " 0.00011089366307714954,\n",
       " 0.00011089366307714954,\n",
       " 0.00011089366307714954,\n",
       " 0.00011089366307714954,\n",
       " 0.00011089366307714954,\n",
       " 0.00011089366307714954,\n",
       " 0.00011089366307714954,\n",
       " 0.00011089366307714954,\n",
       " 0.00011089366307714954,\n",
       " 0.00011089366307714954,\n",
       " 0.00011089366307714954,\n",
       " 0.00011089366307714954,\n",
       " 0.00011089366307714954,\n",
       " 0.00011089366307714954,\n",
       " 0.00011089366307714954,\n",
       " 0.00011089366307714954,\n",
       " 0.00011089366307714954,\n",
       " 0.00011089366307714954,\n",
       " 0.00011089366307714954,\n",
       " 0.00011089366307714954,\n",
       " 0.00011089366307714954,\n",
       " 0.00011089366307714954,\n",
       " 0.00011089366307714954,\n",
       " 0.00011089366307714954,\n",
       " 0.00011089366307714954,\n",
       " 0.00011089366307714954,\n",
       " 0.00011089366307714954,\n",
       " 0.00011089366307714954,\n",
       " 0.00011089366307714954,\n",
       " 0.00011089366307714954,\n",
       " 0.00011089366307714954,\n",
       " 0.00011089366307714954,\n",
       " 0.00011089366307714954,\n",
       " 0.00011089366307714954,\n",
       " 0.00011089366307714954,\n",
       " 0.00011089366307714954,\n",
       " 0.00011089366307714954,\n",
       " 0.00011089366307714954,\n",
       " 0.00011089366307714954,\n",
       " 0.00011089366307714954,\n",
       " 0.00011089366307714954,\n",
       " 0.00011089366307714954,\n",
       " 0.00011089366307714954,\n",
       " 0.00011089366307714954,\n",
       " 0.00011089366307714954,\n",
       " 0.00011089366307714954,\n",
       " 0.00011089366307714954,\n",
       " 0.00011089366307714954,\n",
       " 0.00011089366307714954,\n",
       " 0.00011089366307714954,\n",
       " 0.00011089366307714954,\n",
       " 0.00011089366307714954,\n",
       " 0.00011089366307714954,\n",
       " 0.00011089366307714954,\n",
       " 0.00011089366307714954,\n",
       " 0.00011089366307714954,\n",
       " 0.00011089366307714954,\n",
       " 0.00011089366307714954,\n",
       " 0.00011089366307714954,\n",
       " 0.00011089366307714954,\n",
       " 0.00011089366307714954,\n",
       " 0.00011089366307714954,\n",
       " 0.00011089366307714954,\n",
       " 0.00011089366307714954,\n",
       " 0.00011089366307714954,\n",
       " 0.00011089366307714954,\n",
       " 0.00011089366307714954,\n",
       " 0.00011089366307714954,\n",
       " 0.00011089366307714954,\n",
       " 0.00011089366307714954,\n",
       " 0.00011089366307714954,\n",
       " 0.00011089366307714954,\n",
       " 0.00011089366307714954,\n",
       " 0.00011089366307714954,\n",
       " 0.00011089366307714954,\n",
       " 0.00011089366307714954,\n",
       " 0.00011089366307714954,\n",
       " 0.00011089366307714954,\n",
       " 0.00011089366307714954,\n",
       " 0.00011089366307714954,\n",
       " 0.00011089366307714954,\n",
       " 0.00011089366307714954,\n",
       " 0.00011089366307714954,\n",
       " 0.00011089366307714954,\n",
       " 0.00011089366307714954,\n",
       " 0.00011089366307714954,\n",
       " 0.00011089366307714954,\n",
       " 0.00011089366307714954,\n",
       " 0.00011089366307714954,\n",
       " 0.00011089366307714954,\n",
       " 0.00011089366307714954,\n",
       " 0.00011089366307714954,\n",
       " 0.00011089366307714954,\n",
       " 0.00011089366307714954,\n",
       " 0.00011089366307714954,\n",
       " 0.00011089366307714954,\n",
       " 0.00011089366307714954,\n",
       " 0.00011089366307714954,\n",
       " 0.00011089366307714954,\n",
       " 0.00011089366307714954,\n",
       " 0.00011089366307714954,\n",
       " 0.00011089366307714954,\n",
       " 0.00011089366307714954,\n",
       " 0.00011089366307714954,\n",
       " 0.00011089366307714954,\n",
       " 0.00011089366307714954,\n",
       " 0.00011089366307714954,\n",
       " 0.00011089366307714954,\n",
       " 0.00011089366307714954,\n",
       " 0.00011089366307714954,\n",
       " 0.00011089366307714954,\n",
       " 0.00011089366307714954,\n",
       " 0.00011089366307714954,\n",
       " 0.00011089366307714954,\n",
       " 0.00011089366307714954,\n",
       " 0.00011089366307714954,\n",
       " 0.00011089366307714954,\n",
       " 0.00011089366307714954,\n",
       " 0.00011089366307714954,\n",
       " 0.00011089366307714954,\n",
       " 0.00011089366307714954,\n",
       " 0.00011089366307714954,\n",
       " 0.00011089366307714954,\n",
       " 0.00011089366307714954,\n",
       " 0.00011089366307714954,\n",
       " 0.00011089366307714954,\n",
       " 0.00011089366307714954,\n",
       " 0.00011089366307714954,\n",
       " 0.00011089366307714954,\n",
       " 0.00011089366307714954,\n",
       " 0.00011089366307714954,\n",
       " 0.00011089366307714954,\n",
       " 0.00011089366307714954,\n",
       " 0.00011089366307714954,\n",
       " 0.00011089366307714954,\n",
       " 0.00011089366307714954,\n",
       " 0.00011089366307714954,\n",
       " 0.00011089366307714954,\n",
       " 0.00011089366307714954,\n",
       " 0.00011089366307714954,\n",
       " 0.00011089366307714954,\n",
       " 0.00011089366307714954,\n",
       " 0.00011089366307714954,\n",
       " 0.00011089366307714954,\n",
       " 0.00011089366307714954,\n",
       " 0.00011089366307714954,\n",
       " 0.00011089366307714954,\n",
       " 0.00011089366307714954,\n",
       " 0.00011089366307714954,\n",
       " 0.00011089366307714954,\n",
       " 0.00011089366307714954,\n",
       " 0.00011089366307714954,\n",
       " 0.00011089366307714954,\n",
       " 0.00011089366307714954,\n",
       " 0.00011089366307714954,\n",
       " 0.00011089366307714954,\n",
       " 0.00011089366307714954,\n",
       " 0.00011089366307714954,\n",
       " 0.00011089366307714954,\n",
       " 0.00011089366307714954,\n",
       " 0.00011089366307714954,\n",
       " 0.00011089366307714954,\n",
       " 0.00011089366307714954,\n",
       " 0.00011089366307714954,\n",
       " 0.00011089366307714954,\n",
       " 0.00011089366307714954,\n",
       " 0.00011089366307714954,\n",
       " 0.00011089366307714954,\n",
       " 0.00011089366307714954,\n",
       " 0.00011089366307714954,\n",
       " 0.00011089366307714954,\n",
       " 0.00011089366307714954,\n",
       " 0.00011089366307714954,\n",
       " 0.00011089366307714954,\n",
       " 0.00011089366307714954,\n",
       " 0.00011089366307714954,\n",
       " 0.00011089366307714954,\n",
       " 0.00011089366307714954,\n",
       " 0.00011089366307714954,\n",
       " 0.00011089366307714954,\n",
       " 0.00011089366307714954,\n",
       " 0.00011089366307714954,\n",
       " 0.00011089366307714954,\n",
       " 0.00011089366307714954,\n",
       " 0.00011089366307714954,\n",
       " 0.00011089366307714954,\n",
       " 0.00011089366307714954,\n",
       " 0.00011089366307714954,\n",
       " 0.00011089366307714954,\n",
       " 0.00011089366307714954,\n",
       " 0.00011089366307714954,\n",
       " 0.00011089366307714954,\n",
       " 0.00011089366307714954,\n",
       " 0.00011089366307714954,\n",
       " 0.00011089366307714954,\n",
       " 0.00011089366307714954,\n",
       " 0.00011089366307714954,\n",
       " 0.00011089366307714954,\n",
       " 0.00011089366307714954,\n",
       " 0.00011089366307714954,\n",
       " 0.00011089366307714954,\n",
       " 0.00011089366307714954,\n",
       " 0.00011089366307714954,\n",
       " 0.00011089366307714954,\n",
       " 0.00011089366307714954,\n",
       " 0.00011089366307714954,\n",
       " 0.00011089366307714954,\n",
       " 0.00011089366307714954,\n",
       " 0.00011089366307714954,\n",
       " 0.00011089366307714954,\n",
       " 0.00011089366307714954,\n",
       " 0.00011089366307714954,\n",
       " 0.00011089366307714954,\n",
       " 0.00011089366307714954,\n",
       " 0.00011089366307714954,\n",
       " 0.00011089366307714954,\n",
       " 0.00011089366307714954,\n",
       " 0.00011089366307714954,\n",
       " 0.00011089366307714954,\n",
       " 0.00011089366307714954,\n",
       " 0.00011089366307714954,\n",
       " 0.00011089366307714954,\n",
       " 0.00011089366307714954,\n",
       " 0.00011089366307714954,\n",
       " 0.00011089366307714954,\n",
       " 0.00011089366307714954,\n",
       " 0.00011089366307714954,\n",
       " 0.00011089366307714954,\n",
       " 0.00011089366307714954,\n",
       " 0.00011089366307714954,\n",
       " 0.00011089366307714954,\n",
       " 0.00011089366307714954,\n",
       " 0.00011089366307714954,\n",
       " 0.00011089366307714954,\n",
       " 0.00011089366307714954,\n",
       " 0.00011089366307714954,\n",
       " 0.00011089366307714954,\n",
       " 0.00011089366307714954,\n",
       " 0.00011089366307714954,\n",
       " 0.00011089366307714954,\n",
       " 0.00011089366307714954,\n",
       " 0.00011089366307714954,\n",
       " 0.00011089366307714954,\n",
       " 0.00011089366307714954,\n",
       " 0.00011089366307714954,\n",
       " 0.00011089366307714954,\n",
       " 0.00011089366307714954,\n",
       " 0.00011089366307714954,\n",
       " 0.00011089366307714954,\n",
       " 0.00011089366307714954,\n",
       " 0.00011089366307714954,\n",
       " 0.00011089366307714954,\n",
       " 0.00011089366307714954,\n",
       " 0.00011089366307714954,\n",
       " 0.00011089366307714954,\n",
       " 0.00011089366307714954,\n",
       " 0.00011089366307714954,\n",
       " 0.00011089366307714954,\n",
       " 0.00011089366307714954,\n",
       " 0.00011089366307714954,\n",
       " 0.00011089366307714954,\n",
       " 0.00011089366307714954,\n",
       " 0.00011089366307714954,\n",
       " 0.00011089366307714954,\n",
       " 0.00011089366307714954,\n",
       " 0.00011089366307714954,\n",
       " 0.00011089366307714954,\n",
       " 0.00011089366307714954,\n",
       " 0.00011089366307714954,\n",
       " 0.00011089366307714954,\n",
       " 0.00011089366307714954,\n",
       " 0.00011089366307714954,\n",
       " 0.00011089366307714954,\n",
       " 0.00011089366307714954,\n",
       " 0.00011089366307714954,\n",
       " 0.00011089366307714954,\n",
       " 0.00011089366307714954,\n",
       " 0.00011089366307714954,\n",
       " 0.00011089366307714954,\n",
       " 0.00011089366307714954,\n",
       " 0.00011089366307714954,\n",
       " 0.00011089366307714954,\n",
       " 0.00011089366307714954,\n",
       " 0.00011089366307714954,\n",
       " 0.00011089366307714954,\n",
       " 0.00011089366307714954,\n",
       " 0.00011089366307714954,\n",
       " 0.00011089366307714954,\n",
       " 0.00011089366307714954,\n",
       " 0.00011089366307714954,\n",
       " 0.00011089366307714954,\n",
       " 0.00011089366307714954,\n",
       " 0.00011089366307714954,\n",
       " 0.00011089366307714954,\n",
       " 0.00011089366307714954,\n",
       " 0.00011089366307714954,\n",
       " 0.00011089366307714954,\n",
       " 0.00011089366307714954,\n",
       " 0.00011089366307714954,\n",
       " 0.00011089366307714954,\n",
       " 0.00011089366307714954,\n",
       " 0.00011089366307714954,\n",
       " 0.00011089366307714954,\n",
       " 0.00011089366307714954,\n",
       " 0.00011089366307714954,\n",
       " 0.00011089366307714954,\n",
       " 0.00011089366307714954,\n",
       " 0.00011089366307714954,\n",
       " 0.00011089366307714954,\n",
       " 0.00011089366307714954,\n",
       " 0.00011089366307714954,\n",
       " 0.00011089366307714954,\n",
       " 0.00011089366307714954,\n",
       " 0.00011089366307714954,\n",
       " 0.00011089366307714954,\n",
       " 0.00011089366307714954,\n",
       " 0.00011089366307714954,\n",
       " 0.00011089366307714954,\n",
       " 0.00011089366307714954,\n",
       " 0.00011089366307714954,\n",
       " 0.00011089366307714954,\n",
       " 0.00011089366307714954,\n",
       " 0.00011089366307714954,\n",
       " 0.00011089366307714954,\n",
       " 0.00011089366307714954,\n",
       " 0.00011089366307714954,\n",
       " 0.00011089366307714954,\n",
       " 0.00011089366307714954,\n",
       " 0.00011089366307714954,\n",
       " 0.00011089366307714954,\n",
       " 0.00011089366307714954,\n",
       " 0.00011089366307714954,\n",
       " 0.00011089366307714954,\n",
       " 0.00011089366307714954,\n",
       " 0.00011089366307714954,\n",
       " 0.00011089366307714954,\n",
       " 0.00011089366307714954,\n",
       " 0.00011089366307714954,\n",
       " 0.00011089366307714954,\n",
       " 0.00011089366307714954,\n",
       " 0.00011089366307714954,\n",
       " 0.00011089366307714954,\n",
       " 0.00011089366307714954,\n",
       " 0.00011089366307714954,\n",
       " 0.00011089366307714954,\n",
       " 0.00011089366307714954,\n",
       " 0.00011089366307714954,\n",
       " 0.00011089366307714954,\n",
       " 0.00011089366307714954,\n",
       " 0.00011089366307714954,\n",
       " 0.00011089366307714954,\n",
       " 0.00011089366307714954,\n",
       " 0.00011089366307714954,\n",
       " 0.00011089366307714954,\n",
       " 0.00011089366307714954,\n",
       " 0.00011089366307714954,\n",
       " 0.00011089366307714954,\n",
       " 0.00011089366307714954,\n",
       " 0.00011089366307714954,\n",
       " 0.00011089366307714954,\n",
       " 0.00011089366307714954,\n",
       " 0.00011089366307714954,\n",
       " 0.00011089366307714954,\n",
       " 0.00011089366307714954,\n",
       " 0.00011089366307714954,\n",
       " 0.00011089366307714954,\n",
       " 0.00011089366307714954,\n",
       " 0.00011089366307714954,\n",
       " 0.00011089366307714954,\n",
       " 0.00011089366307714954,\n",
       " 0.00011089366307714954,\n",
       " 0.00011089366307714954,\n",
       " 0.00011089366307714954,\n",
       " 0.00011089366307714954,\n",
       " 0.00011089366307714954,\n",
       " 0.00011089366307714954,\n",
       " 0.00011089366307714954,\n",
       " 0.00011089366307714954,\n",
       " 0.00011089366307714954,\n",
       " 0.00011089366307714954,\n",
       " 0.00011089366307714954,\n",
       " 0.00011089366307714954,\n",
       " 0.00011089366307714954,\n",
       " 0.00011089366307714954,\n",
       " 0.00011089366307714954,\n",
       " 0.00011089366307714954,\n",
       " 0.00011089366307714954,\n",
       " 0.00011089366307714954,\n",
       " 0.00011089366307714954,\n",
       " 0.00011089366307714954,\n",
       " 0.00011089366307714954,\n",
       " 0.00011089366307714954,\n",
       " 0.00011089366307714954,\n",
       " 0.00011089366307714954,\n",
       " 0.00011089366307714954,\n",
       " 0.00011089366307714954,\n",
       " 0.00011089366307714954,\n",
       " 0.00011089366307714954,\n",
       " 0.00011089366307714954,\n",
       " 0.00011089366307714954,\n",
       " 0.00011089366307714954,\n",
       " 0.00011089366307714954,\n",
       " 0.00011089366307714954,\n",
       " 0.00011089366307714954,\n",
       " 0.00011089366307714954,\n",
       " 0.00011089366307714954,\n",
       " 0.00011089366307714954,\n",
       " 0.00011089366307714954,\n",
       " 0.00011089366307714954,\n",
       " 0.00011089366307714954,\n",
       " 0.00011089366307714954,\n",
       " 0.00011089366307714954,\n",
       " 0.00011089366307714954,\n",
       " 0.00011089366307714954,\n",
       " 0.00011089366307714954,\n",
       " 0.00011089366307714954,\n",
       " 0.00011089366307714954,\n",
       " 0.00011089366307714954,\n",
       " 0.00011089366307714954,\n",
       " 0.00011089366307714954,\n",
       " 0.00011089366307714954,\n",
       " 0.00011089366307714954,\n",
       " 0.00011089366307714954,\n",
       " 0.00011089366307714954,\n",
       " 0.00011089366307714954,\n",
       " 0.00011089366307714954,\n",
       " 0.00011089366307714954,\n",
       " 0.00011089366307714954,\n",
       " 0.00011089366307714954,\n",
       " 0.00011089366307714954,\n",
       " 0.00011089366307714954,\n",
       " 0.00011089366307714954,\n",
       " 0.00011089366307714954,\n",
       " 0.00011089366307714954,\n",
       " ...]"
      ]
     },
     "execution_count": 70,
     "metadata": {},
     "output_type": "execute_result"
    }
   ],
   "source": [
    "losses = []\n",
    "for i in range(5000):\n",
    "    wmax = x.detach().abs().max().ceil().int().item()\n",
    "    dmax = max(10*wmax, 10*bmax)\n",
    "    w = torch.arange(-dmax, dmax+1, dtype = torch.float)\n",
    "\n",
    "    l = torch.exp(-10*(w-x)**2)\n",
    "    A = l.sum((0))\n",
    "    \n",
    "    B = torch.zeros(2*dmax+1)\n",
    "    for b in bcoord:\n",
    "        B[dmax+b] = 1.\n",
    "    L = torch.norm(A-B)\n",
    "    optim.zero_grad()\n",
    "    L.backward()\n",
    "    optim.step()\n",
    "    losses.append(L.item())\n",
    "losses"
   ]
  },
  {
   "cell_type": "code",
   "execution_count": 71,
   "metadata": {},
   "outputs": [
    {
     "data": {
      "text/plain": [
       "tensor([0.0000e+00, 0.0000e+00, 0.0000e+00, 0.0000e+00, 0.0000e+00, 0.0000e+00,\n",
       "        0.0000e+00, 0.0000e+00, 0.0000e+00, 3.7835e-44, 6.7089e-36, 1.6187e-28,\n",
       "        5.2853e-22, 2.3356e-16, 1.3968e-11, 1.1305e-07, 1.2384e-04, 1.8358e-02,\n",
       "        3.6843e-01, 1.0183e+00, 7.3491e-01, 1.0183e+00, 3.6843e-01, 1.8358e-02,\n",
       "        1.2384e-04, 1.1305e-07, 1.3968e-11, 2.3356e-16, 5.2853e-22, 1.6187e-28,\n",
       "        6.7089e-36, 3.7835e-44, 0.0000e+00, 0.0000e+00, 0.0000e+00, 0.0000e+00,\n",
       "        0.0000e+00, 0.0000e+00, 0.0000e+00, 0.0000e+00, 0.0000e+00],\n",
       "       grad_fn=<SumBackward1>)"
      ]
     },
     "execution_count": 71,
     "metadata": {},
     "output_type": "execute_result"
    }
   ],
   "source": [
    "l = torch.exp(-(w-x)**2)\n",
    "A = l.sum((0))\n",
    "A"
   ]
  },
  {
   "cell_type": "code",
   "execution_count": 72,
   "metadata": {},
   "outputs": [
    {
     "data": {
      "text/plain": [
       "tensor([[-1.0006],\n",
       "        [ 1.0006]], requires_grad=True)"
      ]
     },
     "execution_count": 72,
     "metadata": {},
     "output_type": "execute_result"
    }
   ],
   "source": [
    "x"
   ]
  },
  {
   "cell_type": "code",
   "execution_count": null,
   "metadata": {},
   "outputs": [],
   "source": []
  }
 ],
 "metadata": {
  "kernelspec": {
   "display_name": "Python 3.9.7 ('jenv')",
   "language": "python",
   "name": "python3"
  },
  "language_info": {
   "codemirror_mode": {
    "name": "ipython",
    "version": 3
   },
   "file_extension": ".py",
   "mimetype": "text/x-python",
   "name": "python",
   "nbconvert_exporter": "python",
   "pygments_lexer": "ipython3",
   "version": "3.9.7"
  },
  "orig_nbformat": 4,
  "vscode": {
   "interpreter": {
    "hash": "a6df720517243887f81f829574e18eed6582ce87175ffd531d5fa99bc43729cc"
   }
  }
 },
 "nbformat": 4,
 "nbformat_minor": 2
}
