{
 "cells": [
  {
   "cell_type": "code",
   "execution_count": 1,
   "metadata": {},
   "outputs": [],
   "source": [
    "import torch\n",
    "import plotly.express as px\n",
    "import numpy as np\n",
    "import pandas as pd\n",
    "from torch.nn.functional import pad, relu\n",
    "from collections import defaultdict\n",
    "import plotly.graph_objects as go\n",
    "from plotly.subplots import make_subplots"
   ]
  },
  {
   "cell_type": "markdown",
   "metadata": {},
   "source": [
    "# Functions"
   ]
  },
  {
   "cell_type": "code",
   "execution_count": 2,
   "metadata": {},
   "outputs": [],
   "source": [
    "# Util functions \n",
    "def picture_to_coordinates(B):\n",
    "    radB = len(B)//2\n",
    "    x = torch.tensor([i-radB for i in range(len(B))], dtype=torch.float32)\n",
    "    return x\n",
    "\n",
    "def get_picture_radians(B):\n",
    "    return len(B)//2\n",
    "\n",
    "def loss1(B, z, x, F, relu_coeff=1.):\n",
    "    xrad = get_picture_radians(B)\n",
    "    l1 = ((B-F)**2).sum()\n",
    "    l2 = relu_coeff*(relu(-z-xrad)+relu(z-xrad)).sum()\n",
    "    return l1, l2\n"
   ]
  },
  {
   "cell_type": "code",
   "execution_count": 3,
   "metadata": {},
   "outputs": [],
   "source": [
    "\n",
    "# Models\n",
    "def model1(z, x, k=1.):\n",
    "    X, Z = torch.meshgrid(x,z)\n",
    "    E = torch.exp(-k*(X-Z).pow(2))\n",
    "    F = E.max(-1)[0]\n",
    "    return F"
   ]
  },
  {
   "cell_type": "code",
   "execution_count": 4,
   "metadata": {},
   "outputs": [],
   "source": [
    "def run(B, z, optim, n_iter:int=10,\n",
    "        model_fn=model1, model_kwargs=None, \n",
    "        loss_fn=loss1, loss_kwargs=None):\n",
    "  # Setup \n",
    "  x = picture_to_coordinates(B)\n",
    "  xrad = get_picture_radians(B)\n",
    "  tracker = defaultdict(list)\n",
    "  if loss_kwargs is None:\n",
    "    loss_kwargs = dict()\n",
    "  if  model_kwargs is None:\n",
    "    model_kwargs = dict()\n",
    "  \n",
    "  for i in range(1, n_iter+1):\n",
    "    tracker['iter'].append(i)\n",
    "    for zi in range(len(z)):\n",
    "      tracker[f'z_{zi}'].append(z[zi].item())\n",
    "\n",
    "    F = model_fn(z, x, **model_kwargs)\n",
    "    losses = loss_fn(B, z, x, F, **loss_kwargs)\n",
    "    l = sum(losses)\n",
    "    optim.zero_grad()\n",
    "    l.backward()\n",
    "    optim.step()\n",
    "\n",
    "    tracker['loss'].append(l.item())\n",
    "    for li in range(len(losses)):\n",
    "      tracker[f'loss_l{li}'].append(losses[li].item())\n",
    "    for zi in range(len(z)):\n",
    "      tracker[f'zgrad_{zi}'].append(z.grad[zi].item())\n",
    "  return pd.DataFrame(tracker)\n",
    "      "
   ]
  },
  {
   "cell_type": "code",
   "execution_count": 6,
   "metadata": {},
   "outputs": [],
   "source": [
    "# Plotting functions\n",
    "def loss_over_iter(df, color='rgb(34,100,192)'):\n",
    "    loss_go = go.Scatter(\n",
    "        x=df['iter'],\n",
    "        y=df['loss'],\n",
    "        name='loss',\n",
    "        marker=dict(\n",
    "            color= color\n",
    "            )\n",
    "    )\n",
    "    return loss_go\n",
    "\n",
    "def losses_over_iter(df, colors=None):\n",
    "    loss_df = df.filter(regex='^loss_')\n",
    "    if colors is None:\n",
    "        colors = list()\n",
    "        for i in range(len(loss_df.columns)):\n",
    "            r,g,b = np.random.randint(0,255, 3)\n",
    "            colors.append(f'rgb({r},{g},{b})')\n",
    "        \n",
    "    gos = list()\n",
    "    for li, col in enumerate(loss_df):\n",
    "        loss_go = go.Scatter(\n",
    "            x=df['iter'],\n",
    "            y=df[col],\n",
    "            name=col,\n",
    "            marker=dict(\n",
    "                color= colors[li]\n",
    "                )\n",
    "        )\n",
    "        gos.append(loss_go)\n",
    "    return gos\n",
    "\n",
    "def loss_over_space(df, color='rgb(34,100,192)'):\n",
    "    loss_go = go.Scatter(\n",
    "        x=df['x'],\n",
    "        y=df['loss'],\n",
    "        name='loss',\n",
    "        marker=dict(\n",
    "            color= color\n",
    "            )\n",
    "    )\n",
    "    return loss_go"
   ]
  },
  {
   "cell_type": "code",
   "execution_count": 13,
   "metadata": {},
   "outputs": [],
   "source": [
    "def trace_z(run_df):\n",
    "    traces = list()\n",
    "    for z_label in run_df.filter(regex='^z_'):\n",
    "        z_go = go.Scatter(\n",
    "            x=run_df[z_label],\n",
    "            y=run_df['loss'],\n",
    "            name='loss'\n",
    "        )\n",
    "        traces.append(z_go)\n",
    "    return traces\n"
   ]
  },
  {
   "cell_type": "code",
   "execution_count": 7,
   "metadata": {},
   "outputs": [],
   "source": [
    "def loss_landscape(z, B, n_samples:int=100, \n",
    "        model_fn=model1, model_kwargs=None, \n",
    "        loss_fn=loss1, loss_kwargs=None):\n",
    "    # Setup \n",
    "    x = picture_to_coordinates(B)\n",
    "    xrad = get_picture_radians(B)\n",
    "    tracker = defaultdict(list)\n",
    "    if loss_kwargs is None:\n",
    "        loss_kwargs = dict()\n",
    "    if  model_kwargs is None:\n",
    "        model_kwargs = dict()\n",
    "    xrange = np.linspace(-1.2*xrad, 1.2*xrad, n_samples)\n",
    "    for i, xcoord in enumerate(xrange):\n",
    "        z = torch.tensor([xcoord], dtype=torch.float32)\n",
    "        F = model_fn(z, x, **model_kwargs)\n",
    "        losses = loss_fn(B, z, x, F, **loss_kwargs)\n",
    "        l = sum(losses)\n",
    "        tracker['x'].append(xcoord)\n",
    "        tracker['loss'].append(l.item())\n",
    "        for li in range(len(losses)):\n",
    "            tracker[f'loss_l{li}'].append(losses[li].item())\n",
    "    return pd.DataFrame(tracker)"
   ]
  },
  {
   "cell_type": "markdown",
   "metadata": {},
   "source": [
    "# Setup"
   ]
  },
  {
   "cell_type": "code",
   "execution_count": 8,
   "metadata": {},
   "outputs": [],
   "source": [
    "# Image\n",
    "B = torch.tensor([0, 1, 0, 1, 0])\n",
    "# Initial coordinates\n",
    "z = torch.tensor([-2.4, 2.1], requires_grad=True)\n",
    "# Optimizer\n",
    "optim = torch.optim.Adam([z], lr=1e-1)"
   ]
  },
  {
   "cell_type": "markdown",
   "metadata": {},
   "source": [
    "# Run"
   ]
  },
  {
   "cell_type": "code",
   "execution_count": 9,
   "metadata": {},
   "outputs": [
    {
     "name": "stderr",
     "output_type": "stream",
     "text": [
      "c:\\Users\\joelw\\OneDrive\\Documents\\Projects\\Programming\\Fourier-Photos-Python\\venv\\lib\\site-packages\\torch\\functional.py:478: UserWarning: torch.meshgrid: in an upcoming release, it will be required to pass the indexing argument. (Triggered internally at  ..\\aten\\src\\ATen\\native\\TensorShape.cpp:2895.)\n",
      "  return _VF.meshgrid(tensors, **kwargs)  # type: ignore[attr-defined]\n"
     ]
    }
   ],
   "source": [
    "rundf = run(B, z, optim, n_iter=10)\n",
    "landscapedf = loss_landscape(z, B, n_samples=100)"
   ]
  },
  {
   "cell_type": "code",
   "execution_count": 12,
   "metadata": {},
   "outputs": [
    {
     "data": {
      "text/html": [
       "<div>\n",
       "<style scoped>\n",
       "    .dataframe tbody tr th:only-of-type {\n",
       "        vertical-align: middle;\n",
       "    }\n",
       "\n",
       "    .dataframe tbody tr th {\n",
       "        vertical-align: top;\n",
       "    }\n",
       "\n",
       "    .dataframe thead th {\n",
       "        text-align: right;\n",
       "    }\n",
       "</style>\n",
       "<table border=\"1\" class=\"dataframe\">\n",
       "  <thead>\n",
       "    <tr style=\"text-align: right;\">\n",
       "      <th></th>\n",
       "      <th>iter</th>\n",
       "      <th>z_0</th>\n",
       "      <th>z_1</th>\n",
       "      <th>loss</th>\n",
       "      <th>loss_l0</th>\n",
       "      <th>loss_l1</th>\n",
       "      <th>zgrad_0</th>\n",
       "      <th>zgrad_1</th>\n",
       "    </tr>\n",
       "  </thead>\n",
       "  <tbody>\n",
       "    <tr>\n",
       "      <th>0</th>\n",
       "      <td>1</td>\n",
       "      <td>-2.400000</td>\n",
       "      <td>2.100000</td>\n",
       "      <td>3.437147</td>\n",
       "      <td>2.937147</td>\n",
       "      <td>0.500000</td>\n",
       "      <td>-0.515858</td>\n",
       "      <td>1.527493</td>\n",
       "    </tr>\n",
       "    <tr>\n",
       "      <th>1</th>\n",
       "      <td>2</td>\n",
       "      <td>-2.300000</td>\n",
       "      <td>2.000000</td>\n",
       "      <td>3.200191</td>\n",
       "      <td>2.900190</td>\n",
       "      <td>0.300000</td>\n",
       "      <td>-0.780130</td>\n",
       "      <td>0.927493</td>\n",
       "    </tr>\n",
       "    <tr>\n",
       "      <th>2</th>\n",
       "      <td>3</td>\n",
       "      <td>-2.200975</td>\n",
       "      <td>1.904097</td>\n",
       "      <td>3.000808</td>\n",
       "      <td>2.799834</td>\n",
       "      <td>0.200975</td>\n",
       "      <td>-1.125598</td>\n",
       "      <td>1.262972</td>\n",
       "    </tr>\n",
       "    <tr>\n",
       "      <th>3</th>\n",
       "      <td>4</td>\n",
       "      <td>-2.102927</td>\n",
       "      <td>1.806685</td>\n",
       "      <td>2.735438</td>\n",
       "      <td>2.632510</td>\n",
       "      <td>0.102927</td>\n",
       "      <td>-1.516757</td>\n",
       "      <td>1.512182</td>\n",
       "    </tr>\n",
       "    <tr>\n",
       "      <th>4</th>\n",
       "      <td>5</td>\n",
       "      <td>-2.005347</td>\n",
       "      <td>1.708001</td>\n",
       "      <td>2.411409</td>\n",
       "      <td>2.406062</td>\n",
       "      <td>0.005347</td>\n",
       "      <td>-1.909531</td>\n",
       "      <td>1.641218</td>\n",
       "    </tr>\n",
       "    <tr>\n",
       "      <th>5</th>\n",
       "      <td>6</td>\n",
       "      <td>-1.907606</td>\n",
       "      <td>1.608370</td>\n",
       "      <td>2.135229</td>\n",
       "      <td>2.135229</td>\n",
       "      <td>0.000000</td>\n",
       "      <td>-1.257320</td>\n",
       "      <td>1.636180</td>\n",
       "    </tr>\n",
       "    <tr>\n",
       "      <th>6</th>\n",
       "      <td>7</td>\n",
       "      <td>-1.809443</td>\n",
       "      <td>1.508076</td>\n",
       "      <td>1.839657</td>\n",
       "      <td>1.839657</td>\n",
       "      <td>0.000000</td>\n",
       "      <td>-1.517065</td>\n",
       "      <td>1.506088</td>\n",
       "    </tr>\n",
       "    <tr>\n",
       "      <th>7</th>\n",
       "      <td>8</td>\n",
       "      <td>-1.710190</td>\n",
       "      <td>1.407633</td>\n",
       "      <td>1.540418</td>\n",
       "      <td>1.540418</td>\n",
       "      <td>0.000000</td>\n",
       "      <td>-1.659519</td>\n",
       "      <td>1.278910</td>\n",
       "    </tr>\n",
       "    <tr>\n",
       "      <th>8</th>\n",
       "      <td>9</td>\n",
       "      <td>-1.609854</td>\n",
       "      <td>1.307942</td>\n",
       "      <td>1.258566</td>\n",
       "      <td>1.258566</td>\n",
       "      <td>0.000000</td>\n",
       "      <td>-1.673340</td>\n",
       "      <td>0.992635</td>\n",
       "    </tr>\n",
       "    <tr>\n",
       "      <th>9</th>\n",
       "      <td>10</td>\n",
       "      <td>-1.508665</td>\n",
       "      <td>1.210329</td>\n",
       "      <td>1.011615</td>\n",
       "      <td>1.011615</td>\n",
       "      <td>0.000000</td>\n",
       "      <td>-1.570801</td>\n",
       "      <td>0.683819</td>\n",
       "    </tr>\n",
       "  </tbody>\n",
       "</table>\n",
       "</div>"
      ],
      "text/plain": [
       "   iter       z_0       z_1      loss   loss_l0   loss_l1   zgrad_0   zgrad_1\n",
       "0     1 -2.400000  2.100000  3.437147  2.937147  0.500000 -0.515858  1.527493\n",
       "1     2 -2.300000  2.000000  3.200191  2.900190  0.300000 -0.780130  0.927493\n",
       "2     3 -2.200975  1.904097  3.000808  2.799834  0.200975 -1.125598  1.262972\n",
       "3     4 -2.102927  1.806685  2.735438  2.632510  0.102927 -1.516757  1.512182\n",
       "4     5 -2.005347  1.708001  2.411409  2.406062  0.005347 -1.909531  1.641218\n",
       "5     6 -1.907606  1.608370  2.135229  2.135229  0.000000 -1.257320  1.636180\n",
       "6     7 -1.809443  1.508076  1.839657  1.839657  0.000000 -1.517065  1.506088\n",
       "7     8 -1.710190  1.407633  1.540418  1.540418  0.000000 -1.659519  1.278910\n",
       "8     9 -1.609854  1.307942  1.258566  1.258566  0.000000 -1.673340  0.992635\n",
       "9    10 -1.508665  1.210329  1.011615  1.011615  0.000000 -1.570801  0.683819"
      ]
     },
     "execution_count": 12,
     "metadata": {},
     "output_type": "execute_result"
    }
   ],
   "source": [
    "rundf"
   ]
  },
  {
   "cell_type": "code",
   "execution_count": 10,
   "metadata": {},
   "outputs": [
    {
     "data": {
      "application/vnd.plotly.v1+json": {
       "config": {
        "plotlyServerURL": "https://plot.ly"
       },
       "data": [
        {
         "marker": {
          "color": "rgb(0,200,0)"
         },
         "name": "loss",
         "type": "scatter",
         "x": [
          1,
          2,
          3,
          4,
          5,
          6,
          7,
          8,
          9,
          10
         ],
         "y": [
          3.4371466636657715,
          3.200190544128418,
          3.0008084774017334,
          2.7354376316070557,
          2.411409378051758,
          2.1352293491363525,
          1.8396570682525635,
          1.5404181480407715,
          1.2585664987564087,
          1.0116145610809326
         ]
        },
        {
         "marker": {
          "color": "rgb(119,150,196)"
         },
         "name": "loss_l0",
         "type": "scatter",
         "x": [
          1,
          2,
          3,
          4,
          5,
          6,
          7,
          8,
          9,
          10
         ],
         "y": [
          2.9371466636657715,
          2.9001903533935547,
          2.7998337745666504,
          2.6325104236602783,
          2.406062126159668,
          2.1352293491363525,
          1.8396570682525635,
          1.5404181480407715,
          1.2585664987564087,
          1.0116145610809326
         ]
        },
        {
         "marker": {
          "color": "rgb(229,105,30)"
         },
         "name": "loss_l1",
         "type": "scatter",
         "x": [
          1,
          2,
          3,
          4,
          5,
          6,
          7,
          8,
          9,
          10
         ],
         "y": [
          0.5,
          0.3000001907348633,
          0.200974702835083,
          0.10292720794677734,
          0.005347251892089844,
          0,
          0,
          0,
          0,
          0
         ]
        }
       ],
       "layout": {
        "template": {
         "data": {
          "bar": [
           {
            "error_x": {
             "color": "#2a3f5f"
            },
            "error_y": {
             "color": "#2a3f5f"
            },
            "marker": {
             "line": {
              "color": "#E5ECF6",
              "width": 0.5
             },
             "pattern": {
              "fillmode": "overlay",
              "size": 10,
              "solidity": 0.2
             }
            },
            "type": "bar"
           }
          ],
          "barpolar": [
           {
            "marker": {
             "line": {
              "color": "#E5ECF6",
              "width": 0.5
             },
             "pattern": {
              "fillmode": "overlay",
              "size": 10,
              "solidity": 0.2
             }
            },
            "type": "barpolar"
           }
          ],
          "carpet": [
           {
            "aaxis": {
             "endlinecolor": "#2a3f5f",
             "gridcolor": "white",
             "linecolor": "white",
             "minorgridcolor": "white",
             "startlinecolor": "#2a3f5f"
            },
            "baxis": {
             "endlinecolor": "#2a3f5f",
             "gridcolor": "white",
             "linecolor": "white",
             "minorgridcolor": "white",
             "startlinecolor": "#2a3f5f"
            },
            "type": "carpet"
           }
          ],
          "choropleth": [
           {
            "colorbar": {
             "outlinewidth": 0,
             "ticks": ""
            },
            "type": "choropleth"
           }
          ],
          "contour": [
           {
            "colorbar": {
             "outlinewidth": 0,
             "ticks": ""
            },
            "colorscale": [
             [
              0,
              "#0d0887"
             ],
             [
              0.1111111111111111,
              "#46039f"
             ],
             [
              0.2222222222222222,
              "#7201a8"
             ],
             [
              0.3333333333333333,
              "#9c179e"
             ],
             [
              0.4444444444444444,
              "#bd3786"
             ],
             [
              0.5555555555555556,
              "#d8576b"
             ],
             [
              0.6666666666666666,
              "#ed7953"
             ],
             [
              0.7777777777777778,
              "#fb9f3a"
             ],
             [
              0.8888888888888888,
              "#fdca26"
             ],
             [
              1,
              "#f0f921"
             ]
            ],
            "type": "contour"
           }
          ],
          "contourcarpet": [
           {
            "colorbar": {
             "outlinewidth": 0,
             "ticks": ""
            },
            "type": "contourcarpet"
           }
          ],
          "heatmap": [
           {
            "colorbar": {
             "outlinewidth": 0,
             "ticks": ""
            },
            "colorscale": [
             [
              0,
              "#0d0887"
             ],
             [
              0.1111111111111111,
              "#46039f"
             ],
             [
              0.2222222222222222,
              "#7201a8"
             ],
             [
              0.3333333333333333,
              "#9c179e"
             ],
             [
              0.4444444444444444,
              "#bd3786"
             ],
             [
              0.5555555555555556,
              "#d8576b"
             ],
             [
              0.6666666666666666,
              "#ed7953"
             ],
             [
              0.7777777777777778,
              "#fb9f3a"
             ],
             [
              0.8888888888888888,
              "#fdca26"
             ],
             [
              1,
              "#f0f921"
             ]
            ],
            "type": "heatmap"
           }
          ],
          "heatmapgl": [
           {
            "colorbar": {
             "outlinewidth": 0,
             "ticks": ""
            },
            "colorscale": [
             [
              0,
              "#0d0887"
             ],
             [
              0.1111111111111111,
              "#46039f"
             ],
             [
              0.2222222222222222,
              "#7201a8"
             ],
             [
              0.3333333333333333,
              "#9c179e"
             ],
             [
              0.4444444444444444,
              "#bd3786"
             ],
             [
              0.5555555555555556,
              "#d8576b"
             ],
             [
              0.6666666666666666,
              "#ed7953"
             ],
             [
              0.7777777777777778,
              "#fb9f3a"
             ],
             [
              0.8888888888888888,
              "#fdca26"
             ],
             [
              1,
              "#f0f921"
             ]
            ],
            "type": "heatmapgl"
           }
          ],
          "histogram": [
           {
            "marker": {
             "pattern": {
              "fillmode": "overlay",
              "size": 10,
              "solidity": 0.2
             }
            },
            "type": "histogram"
           }
          ],
          "histogram2d": [
           {
            "colorbar": {
             "outlinewidth": 0,
             "ticks": ""
            },
            "colorscale": [
             [
              0,
              "#0d0887"
             ],
             [
              0.1111111111111111,
              "#46039f"
             ],
             [
              0.2222222222222222,
              "#7201a8"
             ],
             [
              0.3333333333333333,
              "#9c179e"
             ],
             [
              0.4444444444444444,
              "#bd3786"
             ],
             [
              0.5555555555555556,
              "#d8576b"
             ],
             [
              0.6666666666666666,
              "#ed7953"
             ],
             [
              0.7777777777777778,
              "#fb9f3a"
             ],
             [
              0.8888888888888888,
              "#fdca26"
             ],
             [
              1,
              "#f0f921"
             ]
            ],
            "type": "histogram2d"
           }
          ],
          "histogram2dcontour": [
           {
            "colorbar": {
             "outlinewidth": 0,
             "ticks": ""
            },
            "colorscale": [
             [
              0,
              "#0d0887"
             ],
             [
              0.1111111111111111,
              "#46039f"
             ],
             [
              0.2222222222222222,
              "#7201a8"
             ],
             [
              0.3333333333333333,
              "#9c179e"
             ],
             [
              0.4444444444444444,
              "#bd3786"
             ],
             [
              0.5555555555555556,
              "#d8576b"
             ],
             [
              0.6666666666666666,
              "#ed7953"
             ],
             [
              0.7777777777777778,
              "#fb9f3a"
             ],
             [
              0.8888888888888888,
              "#fdca26"
             ],
             [
              1,
              "#f0f921"
             ]
            ],
            "type": "histogram2dcontour"
           }
          ],
          "mesh3d": [
           {
            "colorbar": {
             "outlinewidth": 0,
             "ticks": ""
            },
            "type": "mesh3d"
           }
          ],
          "parcoords": [
           {
            "line": {
             "colorbar": {
              "outlinewidth": 0,
              "ticks": ""
             }
            },
            "type": "parcoords"
           }
          ],
          "pie": [
           {
            "automargin": true,
            "type": "pie"
           }
          ],
          "scatter": [
           {
            "fillpattern": {
             "fillmode": "overlay",
             "size": 10,
             "solidity": 0.2
            },
            "type": "scatter"
           }
          ],
          "scatter3d": [
           {
            "line": {
             "colorbar": {
              "outlinewidth": 0,
              "ticks": ""
             }
            },
            "marker": {
             "colorbar": {
              "outlinewidth": 0,
              "ticks": ""
             }
            },
            "type": "scatter3d"
           }
          ],
          "scattercarpet": [
           {
            "marker": {
             "colorbar": {
              "outlinewidth": 0,
              "ticks": ""
             }
            },
            "type": "scattercarpet"
           }
          ],
          "scattergeo": [
           {
            "marker": {
             "colorbar": {
              "outlinewidth": 0,
              "ticks": ""
             }
            },
            "type": "scattergeo"
           }
          ],
          "scattergl": [
           {
            "marker": {
             "colorbar": {
              "outlinewidth": 0,
              "ticks": ""
             }
            },
            "type": "scattergl"
           }
          ],
          "scattermapbox": [
           {
            "marker": {
             "colorbar": {
              "outlinewidth": 0,
              "ticks": ""
             }
            },
            "type": "scattermapbox"
           }
          ],
          "scatterpolar": [
           {
            "marker": {
             "colorbar": {
              "outlinewidth": 0,
              "ticks": ""
             }
            },
            "type": "scatterpolar"
           }
          ],
          "scatterpolargl": [
           {
            "marker": {
             "colorbar": {
              "outlinewidth": 0,
              "ticks": ""
             }
            },
            "type": "scatterpolargl"
           }
          ],
          "scatterternary": [
           {
            "marker": {
             "colorbar": {
              "outlinewidth": 0,
              "ticks": ""
             }
            },
            "type": "scatterternary"
           }
          ],
          "surface": [
           {
            "colorbar": {
             "outlinewidth": 0,
             "ticks": ""
            },
            "colorscale": [
             [
              0,
              "#0d0887"
             ],
             [
              0.1111111111111111,
              "#46039f"
             ],
             [
              0.2222222222222222,
              "#7201a8"
             ],
             [
              0.3333333333333333,
              "#9c179e"
             ],
             [
              0.4444444444444444,
              "#bd3786"
             ],
             [
              0.5555555555555556,
              "#d8576b"
             ],
             [
              0.6666666666666666,
              "#ed7953"
             ],
             [
              0.7777777777777778,
              "#fb9f3a"
             ],
             [
              0.8888888888888888,
              "#fdca26"
             ],
             [
              1,
              "#f0f921"
             ]
            ],
            "type": "surface"
           }
          ],
          "table": [
           {
            "cells": {
             "fill": {
              "color": "#EBF0F8"
             },
             "line": {
              "color": "white"
             }
            },
            "header": {
             "fill": {
              "color": "#C8D4E3"
             },
             "line": {
              "color": "white"
             }
            },
            "type": "table"
           }
          ]
         },
         "layout": {
          "annotationdefaults": {
           "arrowcolor": "#2a3f5f",
           "arrowhead": 0,
           "arrowwidth": 1
          },
          "autotypenumbers": "strict",
          "coloraxis": {
           "colorbar": {
            "outlinewidth": 0,
            "ticks": ""
           }
          },
          "colorscale": {
           "diverging": [
            [
             0,
             "#8e0152"
            ],
            [
             0.1,
             "#c51b7d"
            ],
            [
             0.2,
             "#de77ae"
            ],
            [
             0.3,
             "#f1b6da"
            ],
            [
             0.4,
             "#fde0ef"
            ],
            [
             0.5,
             "#f7f7f7"
            ],
            [
             0.6,
             "#e6f5d0"
            ],
            [
             0.7,
             "#b8e186"
            ],
            [
             0.8,
             "#7fbc41"
            ],
            [
             0.9,
             "#4d9221"
            ],
            [
             1,
             "#276419"
            ]
           ],
           "sequential": [
            [
             0,
             "#0d0887"
            ],
            [
             0.1111111111111111,
             "#46039f"
            ],
            [
             0.2222222222222222,
             "#7201a8"
            ],
            [
             0.3333333333333333,
             "#9c179e"
            ],
            [
             0.4444444444444444,
             "#bd3786"
            ],
            [
             0.5555555555555556,
             "#d8576b"
            ],
            [
             0.6666666666666666,
             "#ed7953"
            ],
            [
             0.7777777777777778,
             "#fb9f3a"
            ],
            [
             0.8888888888888888,
             "#fdca26"
            ],
            [
             1,
             "#f0f921"
            ]
           ],
           "sequentialminus": [
            [
             0,
             "#0d0887"
            ],
            [
             0.1111111111111111,
             "#46039f"
            ],
            [
             0.2222222222222222,
             "#7201a8"
            ],
            [
             0.3333333333333333,
             "#9c179e"
            ],
            [
             0.4444444444444444,
             "#bd3786"
            ],
            [
             0.5555555555555556,
             "#d8576b"
            ],
            [
             0.6666666666666666,
             "#ed7953"
            ],
            [
             0.7777777777777778,
             "#fb9f3a"
            ],
            [
             0.8888888888888888,
             "#fdca26"
            ],
            [
             1,
             "#f0f921"
            ]
           ]
          },
          "colorway": [
           "#636efa",
           "#EF553B",
           "#00cc96",
           "#ab63fa",
           "#FFA15A",
           "#19d3f3",
           "#FF6692",
           "#B6E880",
           "#FF97FF",
           "#FECB52"
          ],
          "font": {
           "color": "#2a3f5f"
          },
          "geo": {
           "bgcolor": "white",
           "lakecolor": "white",
           "landcolor": "#E5ECF6",
           "showlakes": true,
           "showland": true,
           "subunitcolor": "white"
          },
          "hoverlabel": {
           "align": "left"
          },
          "hovermode": "closest",
          "mapbox": {
           "style": "light"
          },
          "paper_bgcolor": "white",
          "plot_bgcolor": "#E5ECF6",
          "polar": {
           "angularaxis": {
            "gridcolor": "white",
            "linecolor": "white",
            "ticks": ""
           },
           "bgcolor": "#E5ECF6",
           "radialaxis": {
            "gridcolor": "white",
            "linecolor": "white",
            "ticks": ""
           }
          },
          "scene": {
           "xaxis": {
            "backgroundcolor": "#E5ECF6",
            "gridcolor": "white",
            "gridwidth": 2,
            "linecolor": "white",
            "showbackground": true,
            "ticks": "",
            "zerolinecolor": "white"
           },
           "yaxis": {
            "backgroundcolor": "#E5ECF6",
            "gridcolor": "white",
            "gridwidth": 2,
            "linecolor": "white",
            "showbackground": true,
            "ticks": "",
            "zerolinecolor": "white"
           },
           "zaxis": {
            "backgroundcolor": "#E5ECF6",
            "gridcolor": "white",
            "gridwidth": 2,
            "linecolor": "white",
            "showbackground": true,
            "ticks": "",
            "zerolinecolor": "white"
           }
          },
          "shapedefaults": {
           "line": {
            "color": "#2a3f5f"
           }
          },
          "ternary": {
           "aaxis": {
            "gridcolor": "white",
            "linecolor": "white",
            "ticks": ""
           },
           "baxis": {
            "gridcolor": "white",
            "linecolor": "white",
            "ticks": ""
           },
           "bgcolor": "#E5ECF6",
           "caxis": {
            "gridcolor": "white",
            "linecolor": "white",
            "ticks": ""
           }
          },
          "title": {
           "x": 0.05
          },
          "xaxis": {
           "automargin": true,
           "gridcolor": "white",
           "linecolor": "white",
           "ticks": "",
           "title": {
            "standoff": 15
           },
           "zerolinecolor": "white",
           "zerolinewidth": 2
          },
          "yaxis": {
           "automargin": true,
           "gridcolor": "white",
           "linecolor": "white",
           "ticks": "",
           "title": {
            "standoff": 15
           },
           "zerolinecolor": "white",
           "zerolinewidth": 2
          }
         }
        },
        "xaxis": {
         "anchor": "y",
         "domain": [
          0,
          1
         ]
        },
        "yaxis": {
         "anchor": "x",
         "domain": [
          0,
          1
         ]
        }
       }
      }
     },
     "metadata": {},
     "output_type": "display_data"
    }
   ],
   "source": [
    "iterfig = make_subplots()\n",
    "iterfig.add_trace(loss_over_iter(rundf, color='rgb(0,200,0)'))\n",
    "for g in losses_over_iter(rundf):\n",
    "    iterfig.add_trace(g)\n",
    "iterfig\n"
   ]
  },
  {
   "cell_type": "code",
   "execution_count": 14,
   "metadata": {},
   "outputs": [],
   "source": [
    "landscapefig = make_subplots()\n",
    "landscapefig.add_trace(loss_over_space(landscapedf))\n",
    "landscapefig.add_vline(x=-get_picture_radians(B))\n",
    "landscapefig.add_vline(x=get_picture_radians(B))\n",
    "for g in trace_z(rundf):\n",
    "    landscapefig.add_trace(g)"
   ]
  },
  {
   "cell_type": "code",
   "execution_count": 15,
   "metadata": {},
   "outputs": [
    {
     "data": {
      "application/vnd.plotly.v1+json": {
       "config": {
        "plotlyServerURL": "https://plot.ly"
       },
       "data": [
        {
         "marker": {
          "color": "rgb(34,100,192)"
         },
         "name": "loss",
         "type": "scatter",
         "x": [
          -2.4,
          -2.3515151515151516,
          -2.3030303030303028,
          -2.2545454545454544,
          -2.206060606060606,
          -2.1575757575757573,
          -2.109090909090909,
          -2.0606060606060606,
          -2.012121212121212,
          -1.9636363636363636,
          -1.915151515151515,
          -1.8666666666666667,
          -1.8181818181818181,
          -1.7696969696969695,
          -1.7212121212121212,
          -1.6727272727272726,
          -1.624242424242424,
          -1.5757575757575757,
          -1.5272727272727273,
          -1.4787878787878785,
          -1.4303030303030302,
          -1.3818181818181818,
          -1.3333333333333333,
          -1.2848484848484847,
          -1.2363636363636363,
          -1.1878787878787878,
          -1.1393939393939394,
          -1.0909090909090908,
          -1.0424242424242423,
          -0.9939393939393939,
          -0.9454545454545453,
          -0.896969696969697,
          -0.8484848484848484,
          -0.7999999999999998,
          -0.7515151515151515,
          -0.7030303030303029,
          -0.6545454545454545,
          -0.606060606060606,
          -0.5575757575757574,
          -0.509090909090909,
          -0.46060606060606046,
          -0.4121212121212121,
          -0.36363636363636376,
          -0.31515151515151496,
          -0.2666666666666666,
          -0.21818181818181825,
          -0.16969696969696946,
          -0.1212121212121211,
          -0.07272727272727275,
          -0.024242424242423954,
          0.0242424242424244,
          0.07272727272727275,
          0.1212121212121211,
          0.1696969696969699,
          0.21818181818181825,
          0.2666666666666666,
          0.3151515151515154,
          0.36363636363636376,
          0.4121212121212121,
          0.4606060606060609,
          0.5090909090909093,
          0.5575757575757576,
          0.606060606060606,
          0.6545454545454548,
          0.7030303030303031,
          0.7515151515151515,
          0.8000000000000003,
          0.8484848484848486,
          0.896969696969697,
          0.9454545454545453,
          0.9939393939393941,
          1.0424242424242425,
          1.0909090909090908,
          1.1393939393939396,
          1.187878787878788,
          1.2363636363636363,
          1.2848484848484851,
          1.3333333333333335,
          1.3818181818181818,
          1.4303030303030302,
          1.478787878787879,
          1.5272727272727273,
          1.5757575757575757,
          1.6242424242424245,
          1.6727272727272724,
          1.7212121212121212,
          1.76969696969697,
          1.818181818181818,
          1.8666666666666667,
          1.9151515151515155,
          1.9636363636363634,
          2.012121212121212,
          2.060606060606061,
          2.109090909090909,
          2.1575757575757577,
          2.2060606060606065,
          2.2545454545454544,
          2.303030303030303,
          2.351515151515152,
          2.4
         ],
         "y": [
          2.8642640113830566,
          2.836533308029175,
          2.802616596221924,
          2.761462688446045,
          2.71216082572937,
          2.6539900302886963,
          2.5864644050598145,
          2.5093648433685303,
          2.4227631092071533,
          2.363393545150757,
          2.307675838470459,
          2.2444212436676025,
          2.1747961044311523,
          2.1001529693603516,
          2.0219736099243164,
          1.9418063163757324,
          1.8612027168273926,
          1.7816556692123413,
          1.7045464515686035,
          1.631101369857788,
          1.5623586177825928,
          1.499153971672058,
          1.4421147108078003,
          1.3916722536087036,
          1.3480825424194336,
          1.311455488204956,
          1.2817885875701904,
          1.2590031623840332,
          1.2429735660552979,
          1.2335535287857056,
          1.2305920124053955,
          1.2339385747909546,
          1.2434380054473877,
          1.258915662765503,
          1.2801531553268433,
          1.3068606853485107,
          1.3386467695236206,
          1.3749908208847046,
          1.4152218103408813,
          1.4585058689117432,
          1.5038464069366455,
          1.5500993728637695,
          1.5959992408752441,
          1.640202522277832,
          1.6813377141952515,
          1.7180657386779785,
          1.7491436004638672,
          1.773486852645874,
          1.7902251482009888,
          1.7987505197525024,
          1.798750638961792,
          1.7902251482009888,
          1.773486852645874,
          1.7491436004638672,
          1.7180657386779785,
          1.6813377141952515,
          1.640202522277832,
          1.5959993600845337,
          1.55009925365448,
          1.5038464069366455,
          1.4585058689117432,
          1.4152218103408813,
          1.3749908208847046,
          1.3386467695236206,
          1.3068606853485107,
          1.2801530361175537,
          1.258915662765503,
          1.2434381246566772,
          1.233938455581665,
          1.2305920124053955,
          1.2335535287857056,
          1.2429735660552979,
          1.2590031623840332,
          1.2817885875701904,
          1.311455488204956,
          1.348082423210144,
          1.3916722536087036,
          1.4421147108078003,
          1.499153971672058,
          1.5623587369918823,
          1.631101369857788,
          1.7045464515686035,
          1.7816555500030518,
          1.8612028360366821,
          1.9418063163757324,
          2.0219738483428955,
          2.1001529693603516,
          2.1747961044311523,
          2.2444212436676025,
          2.307675838470459,
          2.363393545150757,
          2.4227631092071533,
          2.5093648433685303,
          2.5864641666412354,
          2.6539902687072754,
          2.712160587310791,
          2.761462688446045,
          2.802616596221924,
          2.836533308029175,
          2.8642640113830566
         ]
        },
        {
         "name": "loss",
         "type": "scatter",
         "x": [
          -2.4000000953674316,
          -2.3000001907348633,
          -2.200974702835083,
          -2.1029272079467773,
          -2.00534725189209,
          -1.9076063632965088,
          -1.809443473815918,
          -1.7101902961730957,
          -1.6098542213439941,
          -1.5086650848388672
         ],
         "y": [
          3.4371466636657715,
          3.200190544128418,
          3.0008084774017334,
          2.7354376316070557,
          2.411409378051758,
          2.1352293491363525,
          1.8396570682525635,
          1.5404181480407715,
          1.2585664987564087,
          1.0116145610809326
         ]
        },
        {
         "name": "loss",
         "type": "scatter",
         "x": [
          2.0999999046325684,
          1.9999998807907104,
          1.9040974378585815,
          1.8066847324371338,
          1.7080007791519165,
          1.6083699464797974,
          1.5080759525299072,
          1.4076334238052368,
          1.3079423904418945,
          1.2103294134140015
         ],
         "y": [
          3.4371466636657715,
          3.200190544128418,
          3.0008084774017334,
          2.7354376316070557,
          2.411409378051758,
          2.1352293491363525,
          1.8396570682525635,
          1.5404181480407715,
          1.2585664987564087,
          1.0116145610809326
         ]
        }
       ],
       "layout": {
        "shapes": [
         {
          "type": "line",
          "x0": -2,
          "x1": -2,
          "xref": "x",
          "y0": 0,
          "y1": 1,
          "yref": "y domain"
         },
         {
          "type": "line",
          "x0": 2,
          "x1": 2,
          "xref": "x",
          "y0": 0,
          "y1": 1,
          "yref": "y domain"
         }
        ],
        "template": {
         "data": {
          "bar": [
           {
            "error_x": {
             "color": "#2a3f5f"
            },
            "error_y": {
             "color": "#2a3f5f"
            },
            "marker": {
             "line": {
              "color": "#E5ECF6",
              "width": 0.5
             },
             "pattern": {
              "fillmode": "overlay",
              "size": 10,
              "solidity": 0.2
             }
            },
            "type": "bar"
           }
          ],
          "barpolar": [
           {
            "marker": {
             "line": {
              "color": "#E5ECF6",
              "width": 0.5
             },
             "pattern": {
              "fillmode": "overlay",
              "size": 10,
              "solidity": 0.2
             }
            },
            "type": "barpolar"
           }
          ],
          "carpet": [
           {
            "aaxis": {
             "endlinecolor": "#2a3f5f",
             "gridcolor": "white",
             "linecolor": "white",
             "minorgridcolor": "white",
             "startlinecolor": "#2a3f5f"
            },
            "baxis": {
             "endlinecolor": "#2a3f5f",
             "gridcolor": "white",
             "linecolor": "white",
             "minorgridcolor": "white",
             "startlinecolor": "#2a3f5f"
            },
            "type": "carpet"
           }
          ],
          "choropleth": [
           {
            "colorbar": {
             "outlinewidth": 0,
             "ticks": ""
            },
            "type": "choropleth"
           }
          ],
          "contour": [
           {
            "colorbar": {
             "outlinewidth": 0,
             "ticks": ""
            },
            "colorscale": [
             [
              0,
              "#0d0887"
             ],
             [
              0.1111111111111111,
              "#46039f"
             ],
             [
              0.2222222222222222,
              "#7201a8"
             ],
             [
              0.3333333333333333,
              "#9c179e"
             ],
             [
              0.4444444444444444,
              "#bd3786"
             ],
             [
              0.5555555555555556,
              "#d8576b"
             ],
             [
              0.6666666666666666,
              "#ed7953"
             ],
             [
              0.7777777777777778,
              "#fb9f3a"
             ],
             [
              0.8888888888888888,
              "#fdca26"
             ],
             [
              1,
              "#f0f921"
             ]
            ],
            "type": "contour"
           }
          ],
          "contourcarpet": [
           {
            "colorbar": {
             "outlinewidth": 0,
             "ticks": ""
            },
            "type": "contourcarpet"
           }
          ],
          "heatmap": [
           {
            "colorbar": {
             "outlinewidth": 0,
             "ticks": ""
            },
            "colorscale": [
             [
              0,
              "#0d0887"
             ],
             [
              0.1111111111111111,
              "#46039f"
             ],
             [
              0.2222222222222222,
              "#7201a8"
             ],
             [
              0.3333333333333333,
              "#9c179e"
             ],
             [
              0.4444444444444444,
              "#bd3786"
             ],
             [
              0.5555555555555556,
              "#d8576b"
             ],
             [
              0.6666666666666666,
              "#ed7953"
             ],
             [
              0.7777777777777778,
              "#fb9f3a"
             ],
             [
              0.8888888888888888,
              "#fdca26"
             ],
             [
              1,
              "#f0f921"
             ]
            ],
            "type": "heatmap"
           }
          ],
          "heatmapgl": [
           {
            "colorbar": {
             "outlinewidth": 0,
             "ticks": ""
            },
            "colorscale": [
             [
              0,
              "#0d0887"
             ],
             [
              0.1111111111111111,
              "#46039f"
             ],
             [
              0.2222222222222222,
              "#7201a8"
             ],
             [
              0.3333333333333333,
              "#9c179e"
             ],
             [
              0.4444444444444444,
              "#bd3786"
             ],
             [
              0.5555555555555556,
              "#d8576b"
             ],
             [
              0.6666666666666666,
              "#ed7953"
             ],
             [
              0.7777777777777778,
              "#fb9f3a"
             ],
             [
              0.8888888888888888,
              "#fdca26"
             ],
             [
              1,
              "#f0f921"
             ]
            ],
            "type": "heatmapgl"
           }
          ],
          "histogram": [
           {
            "marker": {
             "pattern": {
              "fillmode": "overlay",
              "size": 10,
              "solidity": 0.2
             }
            },
            "type": "histogram"
           }
          ],
          "histogram2d": [
           {
            "colorbar": {
             "outlinewidth": 0,
             "ticks": ""
            },
            "colorscale": [
             [
              0,
              "#0d0887"
             ],
             [
              0.1111111111111111,
              "#46039f"
             ],
             [
              0.2222222222222222,
              "#7201a8"
             ],
             [
              0.3333333333333333,
              "#9c179e"
             ],
             [
              0.4444444444444444,
              "#bd3786"
             ],
             [
              0.5555555555555556,
              "#d8576b"
             ],
             [
              0.6666666666666666,
              "#ed7953"
             ],
             [
              0.7777777777777778,
              "#fb9f3a"
             ],
             [
              0.8888888888888888,
              "#fdca26"
             ],
             [
              1,
              "#f0f921"
             ]
            ],
            "type": "histogram2d"
           }
          ],
          "histogram2dcontour": [
           {
            "colorbar": {
             "outlinewidth": 0,
             "ticks": ""
            },
            "colorscale": [
             [
              0,
              "#0d0887"
             ],
             [
              0.1111111111111111,
              "#46039f"
             ],
             [
              0.2222222222222222,
              "#7201a8"
             ],
             [
              0.3333333333333333,
              "#9c179e"
             ],
             [
              0.4444444444444444,
              "#bd3786"
             ],
             [
              0.5555555555555556,
              "#d8576b"
             ],
             [
              0.6666666666666666,
              "#ed7953"
             ],
             [
              0.7777777777777778,
              "#fb9f3a"
             ],
             [
              0.8888888888888888,
              "#fdca26"
             ],
             [
              1,
              "#f0f921"
             ]
            ],
            "type": "histogram2dcontour"
           }
          ],
          "mesh3d": [
           {
            "colorbar": {
             "outlinewidth": 0,
             "ticks": ""
            },
            "type": "mesh3d"
           }
          ],
          "parcoords": [
           {
            "line": {
             "colorbar": {
              "outlinewidth": 0,
              "ticks": ""
             }
            },
            "type": "parcoords"
           }
          ],
          "pie": [
           {
            "automargin": true,
            "type": "pie"
           }
          ],
          "scatter": [
           {
            "fillpattern": {
             "fillmode": "overlay",
             "size": 10,
             "solidity": 0.2
            },
            "type": "scatter"
           }
          ],
          "scatter3d": [
           {
            "line": {
             "colorbar": {
              "outlinewidth": 0,
              "ticks": ""
             }
            },
            "marker": {
             "colorbar": {
              "outlinewidth": 0,
              "ticks": ""
             }
            },
            "type": "scatter3d"
           }
          ],
          "scattercarpet": [
           {
            "marker": {
             "colorbar": {
              "outlinewidth": 0,
              "ticks": ""
             }
            },
            "type": "scattercarpet"
           }
          ],
          "scattergeo": [
           {
            "marker": {
             "colorbar": {
              "outlinewidth": 0,
              "ticks": ""
             }
            },
            "type": "scattergeo"
           }
          ],
          "scattergl": [
           {
            "marker": {
             "colorbar": {
              "outlinewidth": 0,
              "ticks": ""
             }
            },
            "type": "scattergl"
           }
          ],
          "scattermapbox": [
           {
            "marker": {
             "colorbar": {
              "outlinewidth": 0,
              "ticks": ""
             }
            },
            "type": "scattermapbox"
           }
          ],
          "scatterpolar": [
           {
            "marker": {
             "colorbar": {
              "outlinewidth": 0,
              "ticks": ""
             }
            },
            "type": "scatterpolar"
           }
          ],
          "scatterpolargl": [
           {
            "marker": {
             "colorbar": {
              "outlinewidth": 0,
              "ticks": ""
             }
            },
            "type": "scatterpolargl"
           }
          ],
          "scatterternary": [
           {
            "marker": {
             "colorbar": {
              "outlinewidth": 0,
              "ticks": ""
             }
            },
            "type": "scatterternary"
           }
          ],
          "surface": [
           {
            "colorbar": {
             "outlinewidth": 0,
             "ticks": ""
            },
            "colorscale": [
             [
              0,
              "#0d0887"
             ],
             [
              0.1111111111111111,
              "#46039f"
             ],
             [
              0.2222222222222222,
              "#7201a8"
             ],
             [
              0.3333333333333333,
              "#9c179e"
             ],
             [
              0.4444444444444444,
              "#bd3786"
             ],
             [
              0.5555555555555556,
              "#d8576b"
             ],
             [
              0.6666666666666666,
              "#ed7953"
             ],
             [
              0.7777777777777778,
              "#fb9f3a"
             ],
             [
              0.8888888888888888,
              "#fdca26"
             ],
             [
              1,
              "#f0f921"
             ]
            ],
            "type": "surface"
           }
          ],
          "table": [
           {
            "cells": {
             "fill": {
              "color": "#EBF0F8"
             },
             "line": {
              "color": "white"
             }
            },
            "header": {
             "fill": {
              "color": "#C8D4E3"
             },
             "line": {
              "color": "white"
             }
            },
            "type": "table"
           }
          ]
         },
         "layout": {
          "annotationdefaults": {
           "arrowcolor": "#2a3f5f",
           "arrowhead": 0,
           "arrowwidth": 1
          },
          "autotypenumbers": "strict",
          "coloraxis": {
           "colorbar": {
            "outlinewidth": 0,
            "ticks": ""
           }
          },
          "colorscale": {
           "diverging": [
            [
             0,
             "#8e0152"
            ],
            [
             0.1,
             "#c51b7d"
            ],
            [
             0.2,
             "#de77ae"
            ],
            [
             0.3,
             "#f1b6da"
            ],
            [
             0.4,
             "#fde0ef"
            ],
            [
             0.5,
             "#f7f7f7"
            ],
            [
             0.6,
             "#e6f5d0"
            ],
            [
             0.7,
             "#b8e186"
            ],
            [
             0.8,
             "#7fbc41"
            ],
            [
             0.9,
             "#4d9221"
            ],
            [
             1,
             "#276419"
            ]
           ],
           "sequential": [
            [
             0,
             "#0d0887"
            ],
            [
             0.1111111111111111,
             "#46039f"
            ],
            [
             0.2222222222222222,
             "#7201a8"
            ],
            [
             0.3333333333333333,
             "#9c179e"
            ],
            [
             0.4444444444444444,
             "#bd3786"
            ],
            [
             0.5555555555555556,
             "#d8576b"
            ],
            [
             0.6666666666666666,
             "#ed7953"
            ],
            [
             0.7777777777777778,
             "#fb9f3a"
            ],
            [
             0.8888888888888888,
             "#fdca26"
            ],
            [
             1,
             "#f0f921"
            ]
           ],
           "sequentialminus": [
            [
             0,
             "#0d0887"
            ],
            [
             0.1111111111111111,
             "#46039f"
            ],
            [
             0.2222222222222222,
             "#7201a8"
            ],
            [
             0.3333333333333333,
             "#9c179e"
            ],
            [
             0.4444444444444444,
             "#bd3786"
            ],
            [
             0.5555555555555556,
             "#d8576b"
            ],
            [
             0.6666666666666666,
             "#ed7953"
            ],
            [
             0.7777777777777778,
             "#fb9f3a"
            ],
            [
             0.8888888888888888,
             "#fdca26"
            ],
            [
             1,
             "#f0f921"
            ]
           ]
          },
          "colorway": [
           "#636efa",
           "#EF553B",
           "#00cc96",
           "#ab63fa",
           "#FFA15A",
           "#19d3f3",
           "#FF6692",
           "#B6E880",
           "#FF97FF",
           "#FECB52"
          ],
          "font": {
           "color": "#2a3f5f"
          },
          "geo": {
           "bgcolor": "white",
           "lakecolor": "white",
           "landcolor": "#E5ECF6",
           "showlakes": true,
           "showland": true,
           "subunitcolor": "white"
          },
          "hoverlabel": {
           "align": "left"
          },
          "hovermode": "closest",
          "mapbox": {
           "style": "light"
          },
          "paper_bgcolor": "white",
          "plot_bgcolor": "#E5ECF6",
          "polar": {
           "angularaxis": {
            "gridcolor": "white",
            "linecolor": "white",
            "ticks": ""
           },
           "bgcolor": "#E5ECF6",
           "radialaxis": {
            "gridcolor": "white",
            "linecolor": "white",
            "ticks": ""
           }
          },
          "scene": {
           "xaxis": {
            "backgroundcolor": "#E5ECF6",
            "gridcolor": "white",
            "gridwidth": 2,
            "linecolor": "white",
            "showbackground": true,
            "ticks": "",
            "zerolinecolor": "white"
           },
           "yaxis": {
            "backgroundcolor": "#E5ECF6",
            "gridcolor": "white",
            "gridwidth": 2,
            "linecolor": "white",
            "showbackground": true,
            "ticks": "",
            "zerolinecolor": "white"
           },
           "zaxis": {
            "backgroundcolor": "#E5ECF6",
            "gridcolor": "white",
            "gridwidth": 2,
            "linecolor": "white",
            "showbackground": true,
            "ticks": "",
            "zerolinecolor": "white"
           }
          },
          "shapedefaults": {
           "line": {
            "color": "#2a3f5f"
           }
          },
          "ternary": {
           "aaxis": {
            "gridcolor": "white",
            "linecolor": "white",
            "ticks": ""
           },
           "baxis": {
            "gridcolor": "white",
            "linecolor": "white",
            "ticks": ""
           },
           "bgcolor": "#E5ECF6",
           "caxis": {
            "gridcolor": "white",
            "linecolor": "white",
            "ticks": ""
           }
          },
          "title": {
           "x": 0.05
          },
          "xaxis": {
           "automargin": true,
           "gridcolor": "white",
           "linecolor": "white",
           "ticks": "",
           "title": {
            "standoff": 15
           },
           "zerolinecolor": "white",
           "zerolinewidth": 2
          },
          "yaxis": {
           "automargin": true,
           "gridcolor": "white",
           "linecolor": "white",
           "ticks": "",
           "title": {
            "standoff": 15
           },
           "zerolinecolor": "white",
           "zerolinewidth": 2
          }
         }
        },
        "xaxis": {
         "anchor": "y",
         "domain": [
          0,
          1
         ]
        },
        "yaxis": {
         "anchor": "x",
         "domain": [
          0,
          1
         ]
        }
       }
      }
     },
     "metadata": {},
     "output_type": "display_data"
    }
   ],
   "source": [
    "landscapefig"
   ]
  },
  {
   "cell_type": "code",
   "execution_count": 60,
   "metadata": {},
   "outputs": [
    {
     "data": {
      "text/plain": [
       "233"
      ]
     },
     "execution_count": 60,
     "metadata": {},
     "output_type": "execute_result"
    }
   ],
   "source": [
    "\n"
   ]
  },
  {
   "cell_type": "code",
   "execution_count": null,
   "metadata": {},
   "outputs": [],
   "source": []
  }
 ],
 "metadata": {
  "kernelspec": {
   "display_name": "Python 3.10.6 ('venv': venv)",
   "language": "python",
   "name": "python3"
  },
  "language_info": {
   "codemirror_mode": {
    "name": "ipython",
    "version": 3
   },
   "file_extension": ".py",
   "mimetype": "text/x-python",
   "name": "python",
   "nbconvert_exporter": "python",
   "pygments_lexer": "ipython3",
   "version": "3.10.6"
  },
  "orig_nbformat": 4,
  "vscode": {
   "interpreter": {
    "hash": "59fcdee7b1e4b5a6386ee92a52ccb80a0e74f596e69a653fdd1aeca3629150ba"
   }
  }
 },
 "nbformat": 4,
 "nbformat_minor": 2
}
