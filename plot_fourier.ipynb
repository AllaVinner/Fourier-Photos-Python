{
 "cells": [
  {
   "cell_type": "code",
   "execution_count": null,
   "metadata": {},
   "outputs": [],
   "source": [
    "import plotly\n",
    "import torch\n",
    "torch.pi = 2*torch.acos(torch.zeros(1))"
   ]
  },
  {
   "cell_type": "code",
   "execution_count": null,
   "metadata": {},
   "outputs": [],
   "source": [
    "radii = torch.tensor([1, 0,0,0,0, 0.2, 0,0,0,0,0,0,0,0, 0.1], dtype=float)\n",
    "offsets = torch.tensor([0,  0,0,0,0,0,  0,0,0,0,  0,0,0,0, 0.05], dtype=float)\n",
    "w = torch.arange(len(radii), dtype=float)+1.\n",
    "\n",
    "assert radii.shape == offsets.shape\n",
    "assert radii.shape == w.shape"
   ]
  },
  {
   "cell_type": "code",
   "execution_count": null,
   "metadata": {},
   "outputs": [],
   "source": [
    "T = 1000\n",
    "t = torch.linspace(0, 2*torch.pi.item(), T)"
   ]
  },
  {
   "cell_type": "code",
   "execution_count": null,
   "metadata": {},
   "outputs": [],
   "source": [
    "x = torch.sum(radii*torch.cos(2*torch.pi*torch.outer(t, w)+offsets), axis = 1)\n",
    "y = torch.sum(radii*torch.sin(2*torch.pi*torch.outer(t, w)+offsets), axis = 1)"
   ]
  },
  {
   "cell_type": "code",
   "execution_count": null,
   "metadata": {},
   "outputs": [],
   "source": [
    "from plotly import graph_objects as go"
   ]
  },
  {
   "cell_type": "code",
   "execution_count": null,
   "metadata": {},
   "outputs": [],
   "source": [
    "fig = go.Figure()\n",
    "fig.add_trace(go.Scatter(x = x, y = y))\n",
    "fig.update_layout(\n",
    "    width = 500,\n",
    "    height = 500,\n",
    "    xaxis=dict(range = [-2, 2]),\n",
    "    yaxis=dict(range = [-2, 2])\n",
    ")\n",
    "fig.show()"
   ]
  },
  {
   "cell_type": "code",
   "execution_count": null,
   "metadata": {},
   "outputs": [],
   "source": [
    "torch.outer(t, w).shape"
   ]
  },
  {
   "attachments": {},
   "cell_type": "markdown",
   "metadata": {},
   "source": [
    "# All At Once"
   ]
  },
  {
   "cell_type": "code",
   "execution_count": null,
   "metadata": {},
   "outputs": [],
   "source": [
    "radii = torch.tensor([1, 0,0,0,0, 0.2, 0,0,0,0,0,0,0,0, 0.1], dtype=float)\n",
    "offsets = torch.tensor([0,  0,0,0,0,0,  0,0,0,0,  0,0,0,0, 0.05], dtype=float)\n",
    "w = torch.arange(len(radii), dtype=float)+1.\n",
    "\n",
    "assert radii.shape == offsets.shape\n",
    "assert radii.shape == w.shape\n",
    "\n",
    "\n",
    "def plot_fourier(radii, offsets, num_time_points: int = 1000, fig = None):\n",
    "    assert radii.shape == offsets.shape, \"Radii and offsets must be of the same length\"\n",
    "    freq = torch.arange(len(radii), dtype=float)+1.\n",
    "    x = torch.sum(radii*torch.cos(2*torch.pi*torch.outer(t, freq)+offsets), axis = 1)\n",
    "    y = torch.sum(radii*torch.sin(2*torch.pi*torch.outer(t, freq)+offsets), axis = 1)\n",
    "\n",
    "    if fig is None:\n",
    "        fig = go.Figure()\n",
    "    fig.add_trace(go.Scatter(x = x, y = y))\n",
    "    return fig\n"
   ]
  },
  {
   "cell_type": "code",
   "execution_count": null,
   "metadata": {},
   "outputs": [],
   "source": [
    "radii = torch.tensor([1, 0,0,0,0, 0.2, 0,0,0,0,0,0,0,0, 0.1], dtype=float)\n",
    "offsets = torch.tensor([0,  0,0,0,0,0,  0,0,0,0,  0,0,0,0, 0.05], dtype=float)\n",
    "T = 1000\n",
    "fig = go.Figure()\n",
    "fig.update_layout(\n",
    "    width = 500,\n",
    "    height = 500,\n",
    "    xaxis=dict(range = [-2, 2]),\n",
    "    yaxis=dict(range = [-2, 2])\n",
    ")\n",
    "fig = plot_fourier(radii, offsets, T, fig)\n",
    "fig.show()"
   ]
  },
  {
   "cell_type": "code",
   "execution_count": null,
   "metadata": {},
   "outputs": [],
   "source": []
  }
 ],
 "metadata": {
  "kernelspec": {
   "display_name": "venv",
   "language": "python",
   "name": "python3"
  },
  "language_info": {
   "codemirror_mode": {
    "name": "ipython",
    "version": 3
   },
   "file_extension": ".py",
   "mimetype": "text/x-python",
   "name": "python",
   "nbconvert_exporter": "python",
   "pygments_lexer": "ipython3",
   "version": "3.10.6"
  },
  "orig_nbformat": 4
 },
 "nbformat": 4,
 "nbformat_minor": 2
}
