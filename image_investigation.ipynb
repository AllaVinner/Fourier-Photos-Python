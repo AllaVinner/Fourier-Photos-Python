{
 "cells": [
  {
   "cell_type": "code",
   "execution_count": 20,
   "metadata": {},
   "outputs": [],
   "source": [
    "import torch\n",
    "import plotly.express as px\n",
    "import numpy as np\n",
    "import pandas as pd\n",
    "from torch.nn.functional import pad, relu\n",
    "from collections import defaultdict\n",
    "import plotly.graph_objects as go\n",
    "from plotly.subplots import make_subplots"
   ]
  },
  {
   "cell_type": "markdown",
   "metadata": {},
   "source": [
    "# Functions"
   ]
  },
  {
   "cell_type": "code",
   "execution_count": 23,
   "metadata": {},
   "outputs": [],
   "source": [
    "# Util functions \n",
    "def picture_to_coordinates(B):\n",
    "    radB = len(B)//2\n",
    "    x = torch.tensor([i-radB for i in range(len(B))], dtype=torch.float32)\n",
    "    return x\n",
    "\n",
    "def get_picture_radians(B):\n",
    "    return len(B)//2\n",
    "\n",
    "def loss1(B, z, x, F, relu_coeff=1.):\n",
    "    xrad = get_picture_radians(B)\n",
    "    l1 = ((B-F)**2).sum()\n",
    "    l2 = relu_coeff*(relu(-z-xrad)+relu(z-xrad)).sum()\n",
    "    return l1, l2"
   ]
  },
  {
   "cell_type": "markdown",
   "metadata": {},
   "source": [
    "##Models"
   ]
  },
  {
   "cell_type": "code",
   "execution_count": 24,
   "metadata": {},
   "outputs": [],
   "source": [
    "\n",
    "# Models\n",
    "def model1(z, x, k=1.):\n",
    "    X, Z = torch.meshgrid(x,z)\n",
    "    E = torch.exp(-k*(X-Z).pow(2))\n",
    "    F = E.max(-1)[0]\n",
    "    return F"
   ]
  },
  {
   "cell_type": "code",
   "execution_count": 25,
   "metadata": {},
   "outputs": [],
   "source": [
    "def run(B, z, optim, n_iter:int=10,\n",
    "        model_fn=model1, model_kwargs=None, \n",
    "        loss_fn=loss1, loss_kwargs=None):\n",
    "  # Setup \n",
    "  x = picture_to_coordinates(B)\n",
    "  xrad = get_picture_radians(B)\n",
    "  tracker = defaultdict(list)\n",
    "  if loss_kwargs is None:\n",
    "    loss_kwargs = dict()\n",
    "  if  model_kwargs is None:\n",
    "    model_kwargs = dict()\n",
    "  \n",
    "  for i in range(1, n_iter+1):\n",
    "    tracker['iter'].append(i)\n",
    "    for zi in range(len(z)):\n",
    "      tracker[f'z_{zi}'].append(z[zi].item())\n",
    "\n",
    "    F = model_fn(z, x, **model_kwargs)\n",
    "    losses = loss_fn(B, z, x, F, **loss_kwargs)\n",
    "    l = sum(losses)\n",
    "    optim.zero_grad()\n",
    "    l.backward()\n",
    "    optim.step()\n",
    "\n",
    "    tracker['loss'].append(l.item())\n",
    "    for li in range(len(losses)):\n",
    "      tracker[f'loss_l{li}'].append(losses[li].item())\n",
    "    for zi in range(len(z)):\n",
    "      tracker[f'zgrad_{zi}'].append(z.grad[zi].item())\n",
    "  return pd.DataFrame(tracker)\n",
    "      "
   ]
  },
  {
   "cell_type": "code",
   "execution_count": 26,
   "metadata": {},
   "outputs": [],
   "source": [
    "# Plotting functions\n",
    "def loss_over_iter(df, color='rgb(34,100,192)'):\n",
    "    loss_go = go.Scatter(\n",
    "        x=df['iter'],\n",
    "        y=df['loss'],\n",
    "        name='loss',\n",
    "        marker=dict(\n",
    "            color= color\n",
    "            )\n",
    "    )\n",
    "    return loss_go\n",
    "\n",
    "def losses_over_iter(df, colors=None):\n",
    "    loss_df = df.filter(regex='^loss_')\n",
    "    if colors is None:\n",
    "        colors = list()\n",
    "        for i in range(len(loss_df.columns)):\n",
    "            r,g,b = np.random.randint(0,255, 3)\n",
    "            colors.append(f'rgb({r},{g},{b})')\n",
    "        \n",
    "    gos = list()\n",
    "    for li, col in enumerate(loss_df):\n",
    "        loss_go = go.Scatter(\n",
    "            x=df['iter'],\n",
    "            y=df[col],\n",
    "            name=col,\n",
    "            marker=dict(\n",
    "                color= colors[li]\n",
    "                )\n",
    "        )\n",
    "        gos.append(loss_go)\n",
    "    return gos\n",
    "\n",
    "def loss_over_space(df, color='rgb(34,100,192)'):\n",
    "    loss_go = go.Scatter(\n",
    "        x=df['x'],\n",
    "        y=df['loss'],\n",
    "        name='loss',\n",
    "        marker=dict(\n",
    "            color= color\n",
    "            )\n",
    "    )\n",
    "    return loss_go"
   ]
  },
  {
   "cell_type": "code",
   "execution_count": 27,
   "metadata": {},
   "outputs": [],
   "source": [
    "def trace_z(run_df):\n",
    "    traces = list()\n",
    "    for z_label in run_df.filter(regex='^z_'):\n",
    "        z_go = go.Scatter(\n",
    "            x=run_df[z_label],\n",
    "            y=run_df['loss'],\n",
    "            name='z_label'\n",
    "        )\n",
    "        traces.append(z_go)\n",
    "    return traces\n"
   ]
  },
  {
   "cell_type": "markdown",
   "metadata": {},
   "source": [
    "## Losses"
   ]
  },
  {
   "cell_type": "code",
   "execution_count": 28,
   "metadata": {},
   "outputs": [],
   "source": [
    "def loss_landscape(z, B, n_samples:int=100, \n",
    "        model_fn=model1, model_kwargs=None, \n",
    "        loss_fn=loss1, loss_kwargs=None):\n",
    "    # Setup \n",
    "    x = picture_to_coordinates(B)\n",
    "    xrad = get_picture_radians(B)\n",
    "    tracker = defaultdict(list)\n",
    "    if loss_kwargs is None:\n",
    "        loss_kwargs = dict()\n",
    "    if  model_kwargs is None:\n",
    "        model_kwargs = dict()\n",
    "    xrange = np.linspace(-1.2*xrad, 1.2*xrad, n_samples)\n",
    "    for i, xcoord in enumerate(xrange):\n",
    "        z = torch.tensor([xcoord], dtype=torch.float32)\n",
    "        F = model_fn(z, x, **model_kwargs)\n",
    "        losses = loss_fn(B, z, x, F, **loss_kwargs)\n",
    "        l = sum(losses)\n",
    "        tracker['x'].append(xcoord)\n",
    "        tracker['loss'].append(l.item())\n",
    "        for li in range(len(losses)):\n",
    "            tracker[f'loss_l{li}'].append(losses[li].item())\n",
    "    return pd.DataFrame(tracker)"
   ]
  },
  {
   "cell_type": "markdown",
   "metadata": {},
   "source": [
    "# Setup"
   ]
  },
  {
   "cell_type": "code",
   "execution_count": 29,
   "metadata": {},
   "outputs": [],
   "source": [
    "# Image\n",
    "B = torch.tensor([0, 1, 0, 1, 0])\n",
    "# Initial coordinates\n",
    "z = torch.tensor([-2.4, 2.1], requires_grad=True)\n",
    "# Optimizer\n",
    "optim = torch.optim.Adam([z], lr=1e-1)"
   ]
  },
  {
   "cell_type": "markdown",
   "metadata": {},
   "source": [
    "# Run"
   ]
  },
  {
   "cell_type": "code",
   "execution_count": 30,
   "metadata": {},
   "outputs": [],
   "source": [
    "rundf = run(B, z, optim, n_iter=100)\n",
    "landscapedf = loss_landscape(z, B, n_samples=100)"
   ]
  },
  {
   "cell_type": "code",
   "execution_count": 31,
   "metadata": {},
   "outputs": [
    {
     "data": {
      "text/html": [
       "<div>\n",
       "<style scoped>\n",
       "    .dataframe tbody tr th:only-of-type {\n",
       "        vertical-align: middle;\n",
       "    }\n",
       "\n",
       "    .dataframe tbody tr th {\n",
       "        vertical-align: top;\n",
       "    }\n",
       "\n",
       "    .dataframe thead th {\n",
       "        text-align: right;\n",
       "    }\n",
       "</style>\n",
       "<table border=\"1\" class=\"dataframe\">\n",
       "  <thead>\n",
       "    <tr style=\"text-align: right;\">\n",
       "      <th></th>\n",
       "      <th>iter</th>\n",
       "      <th>z_0</th>\n",
       "      <th>z_1</th>\n",
       "      <th>loss</th>\n",
       "      <th>loss_l0</th>\n",
       "      <th>loss_l1</th>\n",
       "      <th>zgrad_0</th>\n",
       "      <th>zgrad_1</th>\n",
       "    </tr>\n",
       "  </thead>\n",
       "  <tbody>\n",
       "    <tr>\n",
       "      <th>0</th>\n",
       "      <td>1</td>\n",
       "      <td>-2.400000</td>\n",
       "      <td>2.100000</td>\n",
       "      <td>3.437147</td>\n",
       "      <td>2.937147</td>\n",
       "      <td>0.500000</td>\n",
       "      <td>-0.515858</td>\n",
       "      <td>1.527493</td>\n",
       "    </tr>\n",
       "    <tr>\n",
       "      <th>1</th>\n",
       "      <td>2</td>\n",
       "      <td>-2.300000</td>\n",
       "      <td>2.000000</td>\n",
       "      <td>3.200191</td>\n",
       "      <td>2.900190</td>\n",
       "      <td>0.300000</td>\n",
       "      <td>-0.780130</td>\n",
       "      <td>0.927493</td>\n",
       "    </tr>\n",
       "    <tr>\n",
       "      <th>2</th>\n",
       "      <td>3</td>\n",
       "      <td>-2.200975</td>\n",
       "      <td>1.904097</td>\n",
       "      <td>3.000808</td>\n",
       "      <td>2.799834</td>\n",
       "      <td>0.200975</td>\n",
       "      <td>-1.125598</td>\n",
       "      <td>1.262972</td>\n",
       "    </tr>\n",
       "    <tr>\n",
       "      <th>3</th>\n",
       "      <td>4</td>\n",
       "      <td>-2.102927</td>\n",
       "      <td>1.806685</td>\n",
       "      <td>2.735438</td>\n",
       "      <td>2.632510</td>\n",
       "      <td>0.102927</td>\n",
       "      <td>-1.516757</td>\n",
       "      <td>1.512182</td>\n",
       "    </tr>\n",
       "    <tr>\n",
       "      <th>4</th>\n",
       "      <td>5</td>\n",
       "      <td>-2.005347</td>\n",
       "      <td>1.708001</td>\n",
       "      <td>2.411409</td>\n",
       "      <td>2.406062</td>\n",
       "      <td>0.005347</td>\n",
       "      <td>-1.909531</td>\n",
       "      <td>1.641218</td>\n",
       "    </tr>\n",
       "    <tr>\n",
       "      <th>...</th>\n",
       "      <td>...</td>\n",
       "      <td>...</td>\n",
       "      <td>...</td>\n",
       "      <td>...</td>\n",
       "      <td>...</td>\n",
       "      <td>...</td>\n",
       "      <td>...</td>\n",
       "      <td>...</td>\n",
       "    </tr>\n",
       "    <tr>\n",
       "      <th>95</th>\n",
       "      <td>96</td>\n",
       "      <td>-0.883527</td>\n",
       "      <td>0.888689</td>\n",
       "      <td>0.377451</td>\n",
       "      <td>0.377451</td>\n",
       "      <td>0.000000</td>\n",
       "      <td>0.378767</td>\n",
       "      <td>0.370576</td>\n",
       "    </tr>\n",
       "    <tr>\n",
       "      <th>96</th>\n",
       "      <td>97</td>\n",
       "      <td>-0.897380</td>\n",
       "      <td>0.871616</td>\n",
       "      <td>0.385471</td>\n",
       "      <td>0.385471</td>\n",
       "      <td>0.000000</td>\n",
       "      <td>-0.383432</td>\n",
       "      <td>-0.417566</td>\n",
       "    </tr>\n",
       "    <tr>\n",
       "      <th>97</th>\n",
       "      <td>98</td>\n",
       "      <td>-0.904490</td>\n",
       "      <td>0.863063</td>\n",
       "      <td>0.391925</td>\n",
       "      <td>0.391925</td>\n",
       "      <td>0.000000</td>\n",
       "      <td>-0.393979</td>\n",
       "      <td>-0.445425</td>\n",
       "    </tr>\n",
       "    <tr>\n",
       "      <th>98</th>\n",
       "      <td>99</td>\n",
       "      <td>-0.905337</td>\n",
       "      <td>0.862679</td>\n",
       "      <td>0.392430</td>\n",
       "      <td>0.392430</td>\n",
       "      <td>0.000000</td>\n",
       "      <td>-0.395237</td>\n",
       "      <td>-0.446674</td>\n",
       "    </tr>\n",
       "    <tr>\n",
       "      <th>99</th>\n",
       "      <td>100</td>\n",
       "      <td>-0.900488</td>\n",
       "      <td>0.869705</td>\n",
       "      <td>0.387473</td>\n",
       "      <td>0.387473</td>\n",
       "      <td>0.000000</td>\n",
       "      <td>-0.388039</td>\n",
       "      <td>-0.423790</td>\n",
       "    </tr>\n",
       "  </tbody>\n",
       "</table>\n",
       "<p>100 rows × 8 columns</p>\n",
       "</div>"
      ],
      "text/plain": [
       "    iter       z_0       z_1      loss   loss_l0   loss_l1   zgrad_0   zgrad_1\n",
       "0      1 -2.400000  2.100000  3.437147  2.937147  0.500000 -0.515858  1.527493\n",
       "1      2 -2.300000  2.000000  3.200191  2.900190  0.300000 -0.780130  0.927493\n",
       "2      3 -2.200975  1.904097  3.000808  2.799834  0.200975 -1.125598  1.262972\n",
       "3      4 -2.102927  1.806685  2.735438  2.632510  0.102927 -1.516757  1.512182\n",
       "4      5 -2.005347  1.708001  2.411409  2.406062  0.005347 -1.909531  1.641218\n",
       "..   ...       ...       ...       ...       ...       ...       ...       ...\n",
       "95    96 -0.883527  0.888689  0.377451  0.377451  0.000000  0.378767  0.370576\n",
       "96    97 -0.897380  0.871616  0.385471  0.385471  0.000000 -0.383432 -0.417566\n",
       "97    98 -0.904490  0.863063  0.391925  0.391925  0.000000 -0.393979 -0.445425\n",
       "98    99 -0.905337  0.862679  0.392430  0.392430  0.000000 -0.395237 -0.446674\n",
       "99   100 -0.900488  0.869705  0.387473  0.387473  0.000000 -0.388039 -0.423790\n",
       "\n",
       "[100 rows x 8 columns]"
      ]
     },
     "execution_count": 31,
     "metadata": {},
     "output_type": "execute_result"
    }
   ],
   "source": [
    "rundf"
   ]
  },
  {
   "cell_type": "markdown",
   "metadata": {},
   "source": [
    "## Plotting"
   ]
  },
  {
   "cell_type": "markdown",
   "metadata": {},
   "source": []
  },
  {
   "cell_type": "code",
   "execution_count": 32,
   "metadata": {},
   "outputs": [
    {
     "data": {
      "application/vnd.plotly.v1+json": {
       "config": {
        "plotlyServerURL": "https://plot.ly"
       },
       "data": [
        {
         "marker": {
          "color": "rgb(0,200,0)"
         },
         "name": "loss",
         "type": "scatter",
         "x": [
          1,
          2,
          3,
          4,
          5,
          6,
          7,
          8,
          9,
          10,
          11,
          12,
          13,
          14,
          15,
          16,
          17,
          18,
          19,
          20,
          21,
          22,
          23,
          24,
          25,
          26,
          27,
          28,
          29,
          30,
          31,
          32,
          33,
          34,
          35,
          36,
          37,
          38,
          39,
          40,
          41,
          42,
          43,
          44,
          45,
          46,
          47,
          48,
          49,
          50,
          51,
          52,
          53,
          54,
          55,
          56,
          57,
          58,
          59,
          60,
          61,
          62,
          63,
          64,
          65,
          66,
          67,
          68,
          69,
          70,
          71,
          72,
          73,
          74,
          75,
          76,
          77,
          78,
          79,
          80,
          81,
          82,
          83,
          84,
          85,
          86,
          87,
          88,
          89,
          90,
          91,
          92,
          93,
          94,
          95,
          96,
          97,
          98,
          99,
          100
         ],
         "y": [
          3.4371466636657715,
          3.200190544128418,
          3.0008084774017334,
          2.7354376316070557,
          2.411409378051758,
          2.1352293491363525,
          1.8396570682525635,
          1.5404181480407715,
          1.2585664987564087,
          1.0116145610809326,
          0.8110989332199097,
          0.6614406108856201,
          0.560077428817749,
          0.4989144206047058,
          0.4668899476528168,
          0.4528925120830536,
          0.44798386096954346,
          0.44629329442977905,
          0.47697684168815613,
          0.5387983322143555,
          0.5860416293144226,
          0.6143007278442383,
          0.6229646801948547,
          0.6137644052505493,
          0.5897510051727295,
          0.5547146201133728,
          0.5128244161605835,
          0.5177484154701233,
          0.5120788216590881,
          0.494920939207077,
          0.46984580159187317,
          0.4408976435661316,
          0.4120029807090759,
          0.38647282123565674,
          0.386798232793808,
          0.3964660167694092,
          0.40408018231391907,
          0.40917274355888367,
          0.41154468059539795,
          0.4112217426300049,
          0.4084120988845825,
          0.40345296263694763,
          0.4101340174674988,
          0.4171564280986786,
          0.42039167881011963,
          0.4198121428489685,
          0.4156898558139801,
          0.4085346460342407,
          0.3990173637866974,
          0.38788968324661255,
          0.3925548791885376,
          0.3964911699295044,
          0.39720070362091064,
          0.394449383020401,
          0.38841405510902405,
          0.3796236217021942,
          0.38309434056282043,
          0.39083680510520935,
          0.3935401737689972,
          0.39092063903808594,
          0.3835754990577698,
          0.38378676772117615,
          0.3898400366306305,
          0.3905119001865387,
          0.3862149715423584,
          0.3779493272304535,
          0.3884401321411133,
          0.3938973546028137,
          0.39349448680877686,
          0.3880300223827362,
          0.3789099156856537,
          0.38382598757743835,
          0.3903607130050659,
          0.39182499051094055,
          0.3886120617389679,
          0.3816215693950653,
          0.38044336438179016,
          0.38590630888938904,
          0.38681766390800476,
          0.3835207521915436,
          0.37685859203338623,
          0.386062353849411,
          0.3911314010620117,
          0.39119017124176025,
          0.3866424560546875,
          0.37840819358825684,
          0.3845687806606293,
          0.3908458650112152,
          0.3918214738368988,
          0.38772347569465637,
          0.37951600551605225,
          0.38295871019363403,
          0.38922634720802307,
          0.390056848526001,
          0.3857990503311157,
          0.3774513006210327,
          0.3854706287384033,
          0.391924649477005,
          0.39243000745773315,
          0.38747334480285645
         ]
        },
        {
         "marker": {
          "color": "rgb(77,7,175)"
         },
         "name": "loss_l0",
         "type": "scatter",
         "x": [
          1,
          2,
          3,
          4,
          5,
          6,
          7,
          8,
          9,
          10,
          11,
          12,
          13,
          14,
          15,
          16,
          17,
          18,
          19,
          20,
          21,
          22,
          23,
          24,
          25,
          26,
          27,
          28,
          29,
          30,
          31,
          32,
          33,
          34,
          35,
          36,
          37,
          38,
          39,
          40,
          41,
          42,
          43,
          44,
          45,
          46,
          47,
          48,
          49,
          50,
          51,
          52,
          53,
          54,
          55,
          56,
          57,
          58,
          59,
          60,
          61,
          62,
          63,
          64,
          65,
          66,
          67,
          68,
          69,
          70,
          71,
          72,
          73,
          74,
          75,
          76,
          77,
          78,
          79,
          80,
          81,
          82,
          83,
          84,
          85,
          86,
          87,
          88,
          89,
          90,
          91,
          92,
          93,
          94,
          95,
          96,
          97,
          98,
          99,
          100
         ],
         "y": [
          2.9371466636657715,
          2.9001903533935547,
          2.7998337745666504,
          2.6325104236602783,
          2.406062126159668,
          2.1352293491363525,
          1.8396570682525635,
          1.5404181480407715,
          1.2585664987564087,
          1.0116145610809326,
          0.8110989332199097,
          0.6614406108856201,
          0.560077428817749,
          0.4989144206047058,
          0.4668899476528168,
          0.4528925120830536,
          0.44798386096954346,
          0.44629329442977905,
          0.47697684168815613,
          0.5387983322143555,
          0.5860416293144226,
          0.6143007278442383,
          0.6229646801948547,
          0.6137644052505493,
          0.5897510051727295,
          0.5547146201133728,
          0.5128244161605835,
          0.5177484154701233,
          0.5120788216590881,
          0.494920939207077,
          0.46984580159187317,
          0.4408976435661316,
          0.4120029807090759,
          0.38647282123565674,
          0.386798232793808,
          0.3964660167694092,
          0.40408018231391907,
          0.40917274355888367,
          0.41154468059539795,
          0.4112217426300049,
          0.4084120988845825,
          0.40345296263694763,
          0.4101340174674988,
          0.4171564280986786,
          0.42039167881011963,
          0.4198121428489685,
          0.4156898558139801,
          0.4085346460342407,
          0.3990173637866974,
          0.38788968324661255,
          0.3925548791885376,
          0.3964911699295044,
          0.39720070362091064,
          0.394449383020401,
          0.38841405510902405,
          0.3796236217021942,
          0.38309434056282043,
          0.39083680510520935,
          0.3935401737689972,
          0.39092063903808594,
          0.3835754990577698,
          0.38378676772117615,
          0.3898400366306305,
          0.3905119001865387,
          0.3862149715423584,
          0.3779493272304535,
          0.3884401321411133,
          0.3938973546028137,
          0.39349448680877686,
          0.3880300223827362,
          0.3789099156856537,
          0.38382598757743835,
          0.3903607130050659,
          0.39182499051094055,
          0.3886120617389679,
          0.3816215693950653,
          0.38044336438179016,
          0.38590630888938904,
          0.38681766390800476,
          0.3835207521915436,
          0.37685859203338623,
          0.386062353849411,
          0.3911314010620117,
          0.39119017124176025,
          0.3866424560546875,
          0.37840819358825684,
          0.3845687806606293,
          0.3908458650112152,
          0.3918214738368988,
          0.38772347569465637,
          0.37951600551605225,
          0.38295871019363403,
          0.38922634720802307,
          0.390056848526001,
          0.3857990503311157,
          0.3774513006210327,
          0.3854706287384033,
          0.391924649477005,
          0.39243000745773315,
          0.38747334480285645
         ]
        },
        {
         "marker": {
          "color": "rgb(103,110,114)"
         },
         "name": "loss_l1",
         "type": "scatter",
         "x": [
          1,
          2,
          3,
          4,
          5,
          6,
          7,
          8,
          9,
          10,
          11,
          12,
          13,
          14,
          15,
          16,
          17,
          18,
          19,
          20,
          21,
          22,
          23,
          24,
          25,
          26,
          27,
          28,
          29,
          30,
          31,
          32,
          33,
          34,
          35,
          36,
          37,
          38,
          39,
          40,
          41,
          42,
          43,
          44,
          45,
          46,
          47,
          48,
          49,
          50,
          51,
          52,
          53,
          54,
          55,
          56,
          57,
          58,
          59,
          60,
          61,
          62,
          63,
          64,
          65,
          66,
          67,
          68,
          69,
          70,
          71,
          72,
          73,
          74,
          75,
          76,
          77,
          78,
          79,
          80,
          81,
          82,
          83,
          84,
          85,
          86,
          87,
          88,
          89,
          90,
          91,
          92,
          93,
          94,
          95,
          96,
          97,
          98,
          99,
          100
         ],
         "y": [
          0.5,
          0.3000001907348633,
          0.200974702835083,
          0.10292720794677734,
          0.005347251892089844,
          0,
          0,
          0,
          0,
          0,
          0,
          0,
          0,
          0,
          0,
          0,
          0,
          0,
          0,
          0,
          0,
          0,
          0,
          0,
          0,
          0,
          0,
          0,
          0,
          0,
          0,
          0,
          0,
          0,
          0,
          0,
          0,
          0,
          0,
          0,
          0,
          0,
          0,
          0,
          0,
          0,
          0,
          0,
          0,
          0,
          0,
          0,
          0,
          0,
          0,
          0,
          0,
          0,
          0,
          0,
          0,
          0,
          0,
          0,
          0,
          0,
          0,
          0,
          0,
          0,
          0,
          0,
          0,
          0,
          0,
          0,
          0,
          0,
          0,
          0,
          0,
          0,
          0,
          0,
          0,
          0,
          0,
          0,
          0,
          0,
          0,
          0,
          0,
          0,
          0,
          0,
          0,
          0,
          0,
          0
         ]
        }
       ],
       "layout": {
        "template": {
         "data": {
          "bar": [
           {
            "error_x": {
             "color": "#2a3f5f"
            },
            "error_y": {
             "color": "#2a3f5f"
            },
            "marker": {
             "line": {
              "color": "#E5ECF6",
              "width": 0.5
             },
             "pattern": {
              "fillmode": "overlay",
              "size": 10,
              "solidity": 0.2
             }
            },
            "type": "bar"
           }
          ],
          "barpolar": [
           {
            "marker": {
             "line": {
              "color": "#E5ECF6",
              "width": 0.5
             },
             "pattern": {
              "fillmode": "overlay",
              "size": 10,
              "solidity": 0.2
             }
            },
            "type": "barpolar"
           }
          ],
          "carpet": [
           {
            "aaxis": {
             "endlinecolor": "#2a3f5f",
             "gridcolor": "white",
             "linecolor": "white",
             "minorgridcolor": "white",
             "startlinecolor": "#2a3f5f"
            },
            "baxis": {
             "endlinecolor": "#2a3f5f",
             "gridcolor": "white",
             "linecolor": "white",
             "minorgridcolor": "white",
             "startlinecolor": "#2a3f5f"
            },
            "type": "carpet"
           }
          ],
          "choropleth": [
           {
            "colorbar": {
             "outlinewidth": 0,
             "ticks": ""
            },
            "type": "choropleth"
           }
          ],
          "contour": [
           {
            "colorbar": {
             "outlinewidth": 0,
             "ticks": ""
            },
            "colorscale": [
             [
              0,
              "#0d0887"
             ],
             [
              0.1111111111111111,
              "#46039f"
             ],
             [
              0.2222222222222222,
              "#7201a8"
             ],
             [
              0.3333333333333333,
              "#9c179e"
             ],
             [
              0.4444444444444444,
              "#bd3786"
             ],
             [
              0.5555555555555556,
              "#d8576b"
             ],
             [
              0.6666666666666666,
              "#ed7953"
             ],
             [
              0.7777777777777778,
              "#fb9f3a"
             ],
             [
              0.8888888888888888,
              "#fdca26"
             ],
             [
              1,
              "#f0f921"
             ]
            ],
            "type": "contour"
           }
          ],
          "contourcarpet": [
           {
            "colorbar": {
             "outlinewidth": 0,
             "ticks": ""
            },
            "type": "contourcarpet"
           }
          ],
          "heatmap": [
           {
            "colorbar": {
             "outlinewidth": 0,
             "ticks": ""
            },
            "colorscale": [
             [
              0,
              "#0d0887"
             ],
             [
              0.1111111111111111,
              "#46039f"
             ],
             [
              0.2222222222222222,
              "#7201a8"
             ],
             [
              0.3333333333333333,
              "#9c179e"
             ],
             [
              0.4444444444444444,
              "#bd3786"
             ],
             [
              0.5555555555555556,
              "#d8576b"
             ],
             [
              0.6666666666666666,
              "#ed7953"
             ],
             [
              0.7777777777777778,
              "#fb9f3a"
             ],
             [
              0.8888888888888888,
              "#fdca26"
             ],
             [
              1,
              "#f0f921"
             ]
            ],
            "type": "heatmap"
           }
          ],
          "heatmapgl": [
           {
            "colorbar": {
             "outlinewidth": 0,
             "ticks": ""
            },
            "colorscale": [
             [
              0,
              "#0d0887"
             ],
             [
              0.1111111111111111,
              "#46039f"
             ],
             [
              0.2222222222222222,
              "#7201a8"
             ],
             [
              0.3333333333333333,
              "#9c179e"
             ],
             [
              0.4444444444444444,
              "#bd3786"
             ],
             [
              0.5555555555555556,
              "#d8576b"
             ],
             [
              0.6666666666666666,
              "#ed7953"
             ],
             [
              0.7777777777777778,
              "#fb9f3a"
             ],
             [
              0.8888888888888888,
              "#fdca26"
             ],
             [
              1,
              "#f0f921"
             ]
            ],
            "type": "heatmapgl"
           }
          ],
          "histogram": [
           {
            "marker": {
             "pattern": {
              "fillmode": "overlay",
              "size": 10,
              "solidity": 0.2
             }
            },
            "type": "histogram"
           }
          ],
          "histogram2d": [
           {
            "colorbar": {
             "outlinewidth": 0,
             "ticks": ""
            },
            "colorscale": [
             [
              0,
              "#0d0887"
             ],
             [
              0.1111111111111111,
              "#46039f"
             ],
             [
              0.2222222222222222,
              "#7201a8"
             ],
             [
              0.3333333333333333,
              "#9c179e"
             ],
             [
              0.4444444444444444,
              "#bd3786"
             ],
             [
              0.5555555555555556,
              "#d8576b"
             ],
             [
              0.6666666666666666,
              "#ed7953"
             ],
             [
              0.7777777777777778,
              "#fb9f3a"
             ],
             [
              0.8888888888888888,
              "#fdca26"
             ],
             [
              1,
              "#f0f921"
             ]
            ],
            "type": "histogram2d"
           }
          ],
          "histogram2dcontour": [
           {
            "colorbar": {
             "outlinewidth": 0,
             "ticks": ""
            },
            "colorscale": [
             [
              0,
              "#0d0887"
             ],
             [
              0.1111111111111111,
              "#46039f"
             ],
             [
              0.2222222222222222,
              "#7201a8"
             ],
             [
              0.3333333333333333,
              "#9c179e"
             ],
             [
              0.4444444444444444,
              "#bd3786"
             ],
             [
              0.5555555555555556,
              "#d8576b"
             ],
             [
              0.6666666666666666,
              "#ed7953"
             ],
             [
              0.7777777777777778,
              "#fb9f3a"
             ],
             [
              0.8888888888888888,
              "#fdca26"
             ],
             [
              1,
              "#f0f921"
             ]
            ],
            "type": "histogram2dcontour"
           }
          ],
          "mesh3d": [
           {
            "colorbar": {
             "outlinewidth": 0,
             "ticks": ""
            },
            "type": "mesh3d"
           }
          ],
          "parcoords": [
           {
            "line": {
             "colorbar": {
              "outlinewidth": 0,
              "ticks": ""
             }
            },
            "type": "parcoords"
           }
          ],
          "pie": [
           {
            "automargin": true,
            "type": "pie"
           }
          ],
          "scatter": [
           {
            "fillpattern": {
             "fillmode": "overlay",
             "size": 10,
             "solidity": 0.2
            },
            "type": "scatter"
           }
          ],
          "scatter3d": [
           {
            "line": {
             "colorbar": {
              "outlinewidth": 0,
              "ticks": ""
             }
            },
            "marker": {
             "colorbar": {
              "outlinewidth": 0,
              "ticks": ""
             }
            },
            "type": "scatter3d"
           }
          ],
          "scattercarpet": [
           {
            "marker": {
             "colorbar": {
              "outlinewidth": 0,
              "ticks": ""
             }
            },
            "type": "scattercarpet"
           }
          ],
          "scattergeo": [
           {
            "marker": {
             "colorbar": {
              "outlinewidth": 0,
              "ticks": ""
             }
            },
            "type": "scattergeo"
           }
          ],
          "scattergl": [
           {
            "marker": {
             "colorbar": {
              "outlinewidth": 0,
              "ticks": ""
             }
            },
            "type": "scattergl"
           }
          ],
          "scattermapbox": [
           {
            "marker": {
             "colorbar": {
              "outlinewidth": 0,
              "ticks": ""
             }
            },
            "type": "scattermapbox"
           }
          ],
          "scatterpolar": [
           {
            "marker": {
             "colorbar": {
              "outlinewidth": 0,
              "ticks": ""
             }
            },
            "type": "scatterpolar"
           }
          ],
          "scatterpolargl": [
           {
            "marker": {
             "colorbar": {
              "outlinewidth": 0,
              "ticks": ""
             }
            },
            "type": "scatterpolargl"
           }
          ],
          "scatterternary": [
           {
            "marker": {
             "colorbar": {
              "outlinewidth": 0,
              "ticks": ""
             }
            },
            "type": "scatterternary"
           }
          ],
          "surface": [
           {
            "colorbar": {
             "outlinewidth": 0,
             "ticks": ""
            },
            "colorscale": [
             [
              0,
              "#0d0887"
             ],
             [
              0.1111111111111111,
              "#46039f"
             ],
             [
              0.2222222222222222,
              "#7201a8"
             ],
             [
              0.3333333333333333,
              "#9c179e"
             ],
             [
              0.4444444444444444,
              "#bd3786"
             ],
             [
              0.5555555555555556,
              "#d8576b"
             ],
             [
              0.6666666666666666,
              "#ed7953"
             ],
             [
              0.7777777777777778,
              "#fb9f3a"
             ],
             [
              0.8888888888888888,
              "#fdca26"
             ],
             [
              1,
              "#f0f921"
             ]
            ],
            "type": "surface"
           }
          ],
          "table": [
           {
            "cells": {
             "fill": {
              "color": "#EBF0F8"
             },
             "line": {
              "color": "white"
             }
            },
            "header": {
             "fill": {
              "color": "#C8D4E3"
             },
             "line": {
              "color": "white"
             }
            },
            "type": "table"
           }
          ]
         },
         "layout": {
          "annotationdefaults": {
           "arrowcolor": "#2a3f5f",
           "arrowhead": 0,
           "arrowwidth": 1
          },
          "autotypenumbers": "strict",
          "coloraxis": {
           "colorbar": {
            "outlinewidth": 0,
            "ticks": ""
           }
          },
          "colorscale": {
           "diverging": [
            [
             0,
             "#8e0152"
            ],
            [
             0.1,
             "#c51b7d"
            ],
            [
             0.2,
             "#de77ae"
            ],
            [
             0.3,
             "#f1b6da"
            ],
            [
             0.4,
             "#fde0ef"
            ],
            [
             0.5,
             "#f7f7f7"
            ],
            [
             0.6,
             "#e6f5d0"
            ],
            [
             0.7,
             "#b8e186"
            ],
            [
             0.8,
             "#7fbc41"
            ],
            [
             0.9,
             "#4d9221"
            ],
            [
             1,
             "#276419"
            ]
           ],
           "sequential": [
            [
             0,
             "#0d0887"
            ],
            [
             0.1111111111111111,
             "#46039f"
            ],
            [
             0.2222222222222222,
             "#7201a8"
            ],
            [
             0.3333333333333333,
             "#9c179e"
            ],
            [
             0.4444444444444444,
             "#bd3786"
            ],
            [
             0.5555555555555556,
             "#d8576b"
            ],
            [
             0.6666666666666666,
             "#ed7953"
            ],
            [
             0.7777777777777778,
             "#fb9f3a"
            ],
            [
             0.8888888888888888,
             "#fdca26"
            ],
            [
             1,
             "#f0f921"
            ]
           ],
           "sequentialminus": [
            [
             0,
             "#0d0887"
            ],
            [
             0.1111111111111111,
             "#46039f"
            ],
            [
             0.2222222222222222,
             "#7201a8"
            ],
            [
             0.3333333333333333,
             "#9c179e"
            ],
            [
             0.4444444444444444,
             "#bd3786"
            ],
            [
             0.5555555555555556,
             "#d8576b"
            ],
            [
             0.6666666666666666,
             "#ed7953"
            ],
            [
             0.7777777777777778,
             "#fb9f3a"
            ],
            [
             0.8888888888888888,
             "#fdca26"
            ],
            [
             1,
             "#f0f921"
            ]
           ]
          },
          "colorway": [
           "#636efa",
           "#EF553B",
           "#00cc96",
           "#ab63fa",
           "#FFA15A",
           "#19d3f3",
           "#FF6692",
           "#B6E880",
           "#FF97FF",
           "#FECB52"
          ],
          "font": {
           "color": "#2a3f5f"
          },
          "geo": {
           "bgcolor": "white",
           "lakecolor": "white",
           "landcolor": "#E5ECF6",
           "showlakes": true,
           "showland": true,
           "subunitcolor": "white"
          },
          "hoverlabel": {
           "align": "left"
          },
          "hovermode": "closest",
          "mapbox": {
           "style": "light"
          },
          "paper_bgcolor": "white",
          "plot_bgcolor": "#E5ECF6",
          "polar": {
           "angularaxis": {
            "gridcolor": "white",
            "linecolor": "white",
            "ticks": ""
           },
           "bgcolor": "#E5ECF6",
           "radialaxis": {
            "gridcolor": "white",
            "linecolor": "white",
            "ticks": ""
           }
          },
          "scene": {
           "xaxis": {
            "backgroundcolor": "#E5ECF6",
            "gridcolor": "white",
            "gridwidth": 2,
            "linecolor": "white",
            "showbackground": true,
            "ticks": "",
            "zerolinecolor": "white"
           },
           "yaxis": {
            "backgroundcolor": "#E5ECF6",
            "gridcolor": "white",
            "gridwidth": 2,
            "linecolor": "white",
            "showbackground": true,
            "ticks": "",
            "zerolinecolor": "white"
           },
           "zaxis": {
            "backgroundcolor": "#E5ECF6",
            "gridcolor": "white",
            "gridwidth": 2,
            "linecolor": "white",
            "showbackground": true,
            "ticks": "",
            "zerolinecolor": "white"
           }
          },
          "shapedefaults": {
           "line": {
            "color": "#2a3f5f"
           }
          },
          "ternary": {
           "aaxis": {
            "gridcolor": "white",
            "linecolor": "white",
            "ticks": ""
           },
           "baxis": {
            "gridcolor": "white",
            "linecolor": "white",
            "ticks": ""
           },
           "bgcolor": "#E5ECF6",
           "caxis": {
            "gridcolor": "white",
            "linecolor": "white",
            "ticks": ""
           }
          },
          "title": {
           "x": 0.05
          },
          "xaxis": {
           "automargin": true,
           "gridcolor": "white",
           "linecolor": "white",
           "ticks": "",
           "title": {
            "standoff": 15
           },
           "zerolinecolor": "white",
           "zerolinewidth": 2
          },
          "yaxis": {
           "automargin": true,
           "gridcolor": "white",
           "linecolor": "white",
           "ticks": "",
           "title": {
            "standoff": 15
           },
           "zerolinecolor": "white",
           "zerolinewidth": 2
          }
         }
        },
        "xaxis": {
         "anchor": "y",
         "domain": [
          0,
          1
         ]
        },
        "yaxis": {
         "anchor": "x",
         "domain": [
          0,
          1
         ]
        }
       }
      }
     },
     "metadata": {},
     "output_type": "display_data"
    }
   ],
   "source": [
    "iterfig = make_subplots()\n",
    "iterfig.add_trace(loss_over_iter(rundf, color='rgb(0,200,0)'))\n",
    "for g in losses_over_iter(rundf):\n",
    "    iterfig.add_trace(g)\n",
    "iterfig\n"
   ]
  },
  {
   "cell_type": "code",
   "execution_count": 18,
   "metadata": {},
   "outputs": [],
   "source": [
    "landscapefig = make_subplots()\n",
    "landscapefig.add_trace(loss_over_space(landscapedf))\n",
    "landscapefig.add_vline(x=-get_picture_radians(B))\n",
    "landscapefig.add_vline(x=get_picture_radians(B))\n",
    "for g in trace_z(rundf):\n",
    "    landscapefig.add_trace(g)"
   ]
  },
  {
   "cell_type": "code",
   "execution_count": 19,
   "metadata": {},
   "outputs": [
    {
     "data": {
      "application/vnd.plotly.v1+json": {
       "config": {
        "plotlyServerURL": "https://plot.ly"
       },
       "data": [
        {
         "marker": {
          "color": "rgb(34,100,192)"
         },
         "name": "loss",
         "type": "scatter",
         "x": [
          -2.4,
          -2.3515151515151516,
          -2.3030303030303028,
          -2.2545454545454544,
          -2.206060606060606,
          -2.1575757575757573,
          -2.109090909090909,
          -2.0606060606060606,
          -2.012121212121212,
          -1.9636363636363636,
          -1.915151515151515,
          -1.8666666666666667,
          -1.8181818181818181,
          -1.7696969696969695,
          -1.7212121212121212,
          -1.6727272727272726,
          -1.624242424242424,
          -1.5757575757575757,
          -1.5272727272727273,
          -1.4787878787878785,
          -1.4303030303030302,
          -1.3818181818181818,
          -1.3333333333333333,
          -1.2848484848484847,
          -1.2363636363636363,
          -1.1878787878787878,
          -1.1393939393939394,
          -1.0909090909090908,
          -1.0424242424242423,
          -0.9939393939393939,
          -0.9454545454545453,
          -0.896969696969697,
          -0.8484848484848484,
          -0.7999999999999998,
          -0.7515151515151515,
          -0.7030303030303029,
          -0.6545454545454545,
          -0.606060606060606,
          -0.5575757575757574,
          -0.509090909090909,
          -0.46060606060606046,
          -0.4121212121212121,
          -0.36363636363636376,
          -0.31515151515151496,
          -0.2666666666666666,
          -0.21818181818181825,
          -0.16969696969696946,
          -0.1212121212121211,
          -0.07272727272727275,
          -0.024242424242423954,
          0.0242424242424244,
          0.07272727272727275,
          0.1212121212121211,
          0.1696969696969699,
          0.21818181818181825,
          0.2666666666666666,
          0.3151515151515154,
          0.36363636363636376,
          0.4121212121212121,
          0.4606060606060609,
          0.5090909090909093,
          0.5575757575757576,
          0.606060606060606,
          0.6545454545454548,
          0.7030303030303031,
          0.7515151515151515,
          0.8000000000000003,
          0.8484848484848486,
          0.896969696969697,
          0.9454545454545453,
          0.9939393939393941,
          1.0424242424242425,
          1.0909090909090908,
          1.1393939393939396,
          1.187878787878788,
          1.2363636363636363,
          1.2848484848484851,
          1.3333333333333335,
          1.3818181818181818,
          1.4303030303030302,
          1.478787878787879,
          1.5272727272727273,
          1.5757575757575757,
          1.6242424242424245,
          1.6727272727272724,
          1.7212121212121212,
          1.76969696969697,
          1.818181818181818,
          1.8666666666666667,
          1.9151515151515155,
          1.9636363636363634,
          2.012121212121212,
          2.060606060606061,
          2.109090909090909,
          2.1575757575757577,
          2.2060606060606065,
          2.2545454545454544,
          2.303030303030303,
          2.351515151515152,
          2.4
         ],
         "y": [
          2.8642640113830566,
          2.836533308029175,
          2.802616596221924,
          2.761462688446045,
          2.71216082572937,
          2.6539900302886963,
          2.5864644050598145,
          2.5093648433685303,
          2.4227631092071533,
          2.363393545150757,
          2.307675838470459,
          2.2444212436676025,
          2.1747961044311523,
          2.1001529693603516,
          2.0219736099243164,
          1.9418063163757324,
          1.8612027168273926,
          1.7816556692123413,
          1.7045464515686035,
          1.631101369857788,
          1.5623586177825928,
          1.499153971672058,
          1.4421147108078003,
          1.3916722536087036,
          1.3480825424194336,
          1.311455488204956,
          1.2817885875701904,
          1.2590031623840332,
          1.2429735660552979,
          1.2335535287857056,
          1.2305920124053955,
          1.2339385747909546,
          1.2434380054473877,
          1.258915662765503,
          1.2801531553268433,
          1.3068606853485107,
          1.3386467695236206,
          1.3749908208847046,
          1.4152218103408813,
          1.4585058689117432,
          1.5038464069366455,
          1.5500993728637695,
          1.5959992408752441,
          1.640202522277832,
          1.6813377141952515,
          1.7180657386779785,
          1.7491436004638672,
          1.773486852645874,
          1.7902251482009888,
          1.7987505197525024,
          1.798750638961792,
          1.7902251482009888,
          1.773486852645874,
          1.7491436004638672,
          1.7180657386779785,
          1.6813377141952515,
          1.640202522277832,
          1.5959993600845337,
          1.55009925365448,
          1.5038464069366455,
          1.4585058689117432,
          1.4152218103408813,
          1.3749908208847046,
          1.3386467695236206,
          1.3068606853485107,
          1.2801530361175537,
          1.258915662765503,
          1.2434381246566772,
          1.233938455581665,
          1.2305920124053955,
          1.2335535287857056,
          1.2429735660552979,
          1.2590031623840332,
          1.2817885875701904,
          1.311455488204956,
          1.348082423210144,
          1.3916722536087036,
          1.4421147108078003,
          1.499153971672058,
          1.5623587369918823,
          1.631101369857788,
          1.7045464515686035,
          1.7816555500030518,
          1.8612028360366821,
          1.9418063163757324,
          2.0219738483428955,
          2.1001529693603516,
          2.1747961044311523,
          2.2444212436676025,
          2.307675838470459,
          2.363393545150757,
          2.4227631092071533,
          2.5093648433685303,
          2.5864641666412354,
          2.6539902687072754,
          2.712160587310791,
          2.761462688446045,
          2.802616596221924,
          2.836533308029175,
          2.8642640113830566
         ]
        },
        {
         "name": "loss",
         "type": "scatter",
         "x": [
          -2.4000000953674316,
          -2.3000001907348633,
          -2.200974702835083,
          -2.1029272079467773,
          -2.00534725189209,
          -1.9076063632965088,
          -1.809443473815918,
          -1.7101902961730957,
          -1.6098542213439941,
          -1.5086650848388672,
          -1.4070851802825928,
          -1.3058497905731201,
          -1.205909252166748,
          -1.1082825660705566,
          -1.0139023065567017,
          -0.9235338568687439,
          -0.8377938866615295,
          -0.7572255730628967,
          -0.6823723316192627,
          -0.6257721185684204,
          -0.5871372222900391,
          -0.5652856826782227,
          -0.558548092842102,
          -0.5650778412818909,
          -0.5830214023590088,
          -0.610586404800415,
          -0.6460544466972351,
          -0.6877714991569519,
          -0.7252231240272522,
          -0.7582261562347412,
          -0.7866826057434082,
          -0.8105702996253967,
          -0.8299335837364197,
          -0.8448755145072937,
          -0.8555508852005005,
          -0.8697678446769714,
          -0.8867999911308289,
          -0.9058934450149536,
          -0.9262888431549072,
          -0.9472415447235107,
          -0.9680413603782654,
          -0.9880306720733643,
          -1.0066213607788086,
          -1.017713189125061,
          -1.0217751264572144,
          -1.0193580389022827,
          -1.0110772848129272,
          -0.9975935220718384,
          -0.9795929789543152,
          -0.9577696323394775,
          -0.9328103065490723,
          -0.9125474095344543,
          -0.8973127007484436,
          -0.887229859828949,
          -0.8822237253189087,
          -0.8820385932922363,
          -0.8862625360488892,
          -0.8858597278594971,
          -0.8812394142150879,
          -0.872846245765686,
          -0.8611496686935425,
          -0.8466341495513916,
          -0.8394502401351929,
          -0.8392115235328674,
          -0.8452937006950378,
          -0.8568844199180603,
          -0.8730340003967285,
          -0.8834067583084106,
          -0.888331413269043,
          -0.8882058262825012,
          -0.8834837079048157,
          -0.8746614456176758,
          -0.8718149662017822,
          -0.8745194673538208,
          -0.8821604251861572,
          -0.8939768671989441,
          -0.9091055393218994,
          -0.9176061153411865,
          -0.9199208617210388,
          -0.9165714383125305,
          -0.9081411361694336,
          -0.8952569365501404,
          -0.8881112933158875,
          -0.8864896893501282,
          -0.8899573683738708,
          -0.8978989124298096,
          -0.9095613956451416,
          -0.9146602153778076,
          -0.9137001037597656,
          -0.907261312007904,
          -0.8959802985191345,
          -0.8805302381515503,
          -0.8719437122344971,
          -0.8699705600738525,
          -0.8740828633308411,
          -0.8835269808769226,
          -0.8973800539970398,
          -0.9044898152351379,
          -0.9053369164466858,
          -0.9004883766174316
         ],
         "y": [
          3.4371466636657715,
          3.200190544128418,
          3.0008084774017334,
          2.7354376316070557,
          2.411409378051758,
          2.1352293491363525,
          1.8396570682525635,
          1.5404181480407715,
          1.2585664987564087,
          1.0116145610809326,
          0.8110989332199097,
          0.6614406108856201,
          0.560077428817749,
          0.4989144206047058,
          0.4668899476528168,
          0.4528925120830536,
          0.44798386096954346,
          0.44629329442977905,
          0.47697684168815613,
          0.5387983322143555,
          0.5860416293144226,
          0.6143007278442383,
          0.6229646801948547,
          0.6137644052505493,
          0.5897510051727295,
          0.5547146201133728,
          0.5128244161605835,
          0.5177484154701233,
          0.5120788216590881,
          0.494920939207077,
          0.46984580159187317,
          0.4408976435661316,
          0.4120029807090759,
          0.38647282123565674,
          0.386798232793808,
          0.3964660167694092,
          0.40408018231391907,
          0.40917274355888367,
          0.41154468059539795,
          0.4112217426300049,
          0.4084120988845825,
          0.40345296263694763,
          0.4101340174674988,
          0.4171564280986786,
          0.42039167881011963,
          0.4198121428489685,
          0.4156898558139801,
          0.4085346460342407,
          0.3990173637866974,
          0.38788968324661255,
          0.3925548791885376,
          0.3964911699295044,
          0.39720070362091064,
          0.394449383020401,
          0.38841405510902405,
          0.3796236217021942,
          0.38309434056282043,
          0.39083680510520935,
          0.3935401737689972,
          0.39092063903808594,
          0.3835754990577698,
          0.38378676772117615,
          0.3898400366306305,
          0.3905119001865387,
          0.3862149715423584,
          0.3779493272304535,
          0.3884401321411133,
          0.3938973546028137,
          0.39349448680877686,
          0.3880300223827362,
          0.3789099156856537,
          0.38382598757743835,
          0.3903607130050659,
          0.39182499051094055,
          0.3886120617389679,
          0.3816215693950653,
          0.38044336438179016,
          0.38590630888938904,
          0.38681766390800476,
          0.3835207521915436,
          0.37685859203338623,
          0.386062353849411,
          0.3911314010620117,
          0.39119017124176025,
          0.3866424560546875,
          0.37840819358825684,
          0.3845687806606293,
          0.3908458650112152,
          0.3918214738368988,
          0.38772347569465637,
          0.37951600551605225,
          0.38295871019363403,
          0.38922634720802307,
          0.390056848526001,
          0.3857990503311157,
          0.3774513006210327,
          0.3854706287384033,
          0.391924649477005,
          0.39243000745773315,
          0.38747334480285645
         ]
        },
        {
         "name": "loss",
         "type": "scatter",
         "x": [
          2.0999999046325684,
          1.9999998807907104,
          1.9040974378585815,
          1.8066847324371338,
          1.7080007791519165,
          1.6083699464797974,
          1.5080759525299072,
          1.4076334238052368,
          1.3079423904418945,
          1.2103294134140015,
          1.1164990663528442,
          1.0284240245819092,
          0.9481988549232483,
          0.8778536319732666,
          0.8191120624542236,
          0.7731406092643738,
          0.740391731262207,
          0.7206116318702698,
          0.7129822969436646,
          0.7048942446708679,
          0.6965206265449524,
          0.6880284547805786,
          0.6795769333839417,
          0.6713156700134277,
          0.663382887840271,
          0.6559035778045654,
          0.6489880084991455,
          0.6427301168441772,
          0.6508511900901794,
          0.6711978316307068,
          0.7015941143035889,
          0.7399039268493652,
          0.7840460538864136,
          0.8319945931434631,
          0.8817824125289917,
          0.9227789044380188,
          0.9549933075904846,
          0.9785881638526917,
          0.9938704967498779,
          1.0012810230255127,
          1.001377820968628,
          0.9948140978813171,
          0.9823129177093506,
          0.971655011177063,
          0.9631191492080688,
          0.9568794965744019,
          0.9530045390129089,
          0.9514608383178711,
          0.9521209001541138,
          0.954774796962738,
          0.9591443538665771,
          0.9567099213600159,
          0.9481332898139954,
          0.934140145778656,
          0.9154956936836243,
          0.8929831385612488,
          0.8673861026763916,
          0.8502082228660583,
          0.8414735198020935,
          0.8408029079437256,
          0.8474782705307007,
          0.860516369342804,
          0.8676505088806152,
          0.8692562580108643,
          0.8657920360565186,
          0.8577815294265747,
          0.8457967042922974,
          0.8423009514808655,
          0.8466638326644897,
          0.8579403162002563,
          0.8749521970748901,
          0.8963666558265686,
          0.9100404977798462,
          0.9163798689842224,
          0.9159188270568848,
          0.9092950224876404,
          0.8972238302230835,
          0.8913990259170532,
          0.8915402889251709,
          0.8970946073532104,
          0.9072903394699097,
          0.921195924282074,
          0.9272236227989197,
          0.9259698390960693,
          0.9181464910507202,
          0.9045507311820984,
          0.8860352635383606,
          0.8751909732818604,
          0.87186598777771,
          0.8755268454551697,
          0.8853272199630737,
          0.900184690952301,
          0.9073403477668762,
          0.9073460102081299,
          0.9008742570877075,
          0.8886888027191162,
          0.8716155886650085,
          0.8630627393722534,
          0.8626791834831238,
          0.8697048425674438
         ],
         "y": [
          3.4371466636657715,
          3.200190544128418,
          3.0008084774017334,
          2.7354376316070557,
          2.411409378051758,
          2.1352293491363525,
          1.8396570682525635,
          1.5404181480407715,
          1.2585664987564087,
          1.0116145610809326,
          0.8110989332199097,
          0.6614406108856201,
          0.560077428817749,
          0.4989144206047058,
          0.4668899476528168,
          0.4528925120830536,
          0.44798386096954346,
          0.44629329442977905,
          0.47697684168815613,
          0.5387983322143555,
          0.5860416293144226,
          0.6143007278442383,
          0.6229646801948547,
          0.6137644052505493,
          0.5897510051727295,
          0.5547146201133728,
          0.5128244161605835,
          0.5177484154701233,
          0.5120788216590881,
          0.494920939207077,
          0.46984580159187317,
          0.4408976435661316,
          0.4120029807090759,
          0.38647282123565674,
          0.386798232793808,
          0.3964660167694092,
          0.40408018231391907,
          0.40917274355888367,
          0.41154468059539795,
          0.4112217426300049,
          0.4084120988845825,
          0.40345296263694763,
          0.4101340174674988,
          0.4171564280986786,
          0.42039167881011963,
          0.4198121428489685,
          0.4156898558139801,
          0.4085346460342407,
          0.3990173637866974,
          0.38788968324661255,
          0.3925548791885376,
          0.3964911699295044,
          0.39720070362091064,
          0.394449383020401,
          0.38841405510902405,
          0.3796236217021942,
          0.38309434056282043,
          0.39083680510520935,
          0.3935401737689972,
          0.39092063903808594,
          0.3835754990577698,
          0.38378676772117615,
          0.3898400366306305,
          0.3905119001865387,
          0.3862149715423584,
          0.3779493272304535,
          0.3884401321411133,
          0.3938973546028137,
          0.39349448680877686,
          0.3880300223827362,
          0.3789099156856537,
          0.38382598757743835,
          0.3903607130050659,
          0.39182499051094055,
          0.3886120617389679,
          0.3816215693950653,
          0.38044336438179016,
          0.38590630888938904,
          0.38681766390800476,
          0.3835207521915436,
          0.37685859203338623,
          0.386062353849411,
          0.3911314010620117,
          0.39119017124176025,
          0.3866424560546875,
          0.37840819358825684,
          0.3845687806606293,
          0.3908458650112152,
          0.3918214738368988,
          0.38772347569465637,
          0.37951600551605225,
          0.38295871019363403,
          0.38922634720802307,
          0.390056848526001,
          0.3857990503311157,
          0.3774513006210327,
          0.3854706287384033,
          0.391924649477005,
          0.39243000745773315,
          0.38747334480285645
         ]
        }
       ],
       "layout": {
        "shapes": [
         {
          "type": "line",
          "x0": -2,
          "x1": -2,
          "xref": "x",
          "y0": 0,
          "y1": 1,
          "yref": "y domain"
         },
         {
          "type": "line",
          "x0": 2,
          "x1": 2,
          "xref": "x",
          "y0": 0,
          "y1": 1,
          "yref": "y domain"
         }
        ],
        "template": {
         "data": {
          "bar": [
           {
            "error_x": {
             "color": "#2a3f5f"
            },
            "error_y": {
             "color": "#2a3f5f"
            },
            "marker": {
             "line": {
              "color": "#E5ECF6",
              "width": 0.5
             },
             "pattern": {
              "fillmode": "overlay",
              "size": 10,
              "solidity": 0.2
             }
            },
            "type": "bar"
           }
          ],
          "barpolar": [
           {
            "marker": {
             "line": {
              "color": "#E5ECF6",
              "width": 0.5
             },
             "pattern": {
              "fillmode": "overlay",
              "size": 10,
              "solidity": 0.2
             }
            },
            "type": "barpolar"
           }
          ],
          "carpet": [
           {
            "aaxis": {
             "endlinecolor": "#2a3f5f",
             "gridcolor": "white",
             "linecolor": "white",
             "minorgridcolor": "white",
             "startlinecolor": "#2a3f5f"
            },
            "baxis": {
             "endlinecolor": "#2a3f5f",
             "gridcolor": "white",
             "linecolor": "white",
             "minorgridcolor": "white",
             "startlinecolor": "#2a3f5f"
            },
            "type": "carpet"
           }
          ],
          "choropleth": [
           {
            "colorbar": {
             "outlinewidth": 0,
             "ticks": ""
            },
            "type": "choropleth"
           }
          ],
          "contour": [
           {
            "colorbar": {
             "outlinewidth": 0,
             "ticks": ""
            },
            "colorscale": [
             [
              0,
              "#0d0887"
             ],
             [
              0.1111111111111111,
              "#46039f"
             ],
             [
              0.2222222222222222,
              "#7201a8"
             ],
             [
              0.3333333333333333,
              "#9c179e"
             ],
             [
              0.4444444444444444,
              "#bd3786"
             ],
             [
              0.5555555555555556,
              "#d8576b"
             ],
             [
              0.6666666666666666,
              "#ed7953"
             ],
             [
              0.7777777777777778,
              "#fb9f3a"
             ],
             [
              0.8888888888888888,
              "#fdca26"
             ],
             [
              1,
              "#f0f921"
             ]
            ],
            "type": "contour"
           }
          ],
          "contourcarpet": [
           {
            "colorbar": {
             "outlinewidth": 0,
             "ticks": ""
            },
            "type": "contourcarpet"
           }
          ],
          "heatmap": [
           {
            "colorbar": {
             "outlinewidth": 0,
             "ticks": ""
            },
            "colorscale": [
             [
              0,
              "#0d0887"
             ],
             [
              0.1111111111111111,
              "#46039f"
             ],
             [
              0.2222222222222222,
              "#7201a8"
             ],
             [
              0.3333333333333333,
              "#9c179e"
             ],
             [
              0.4444444444444444,
              "#bd3786"
             ],
             [
              0.5555555555555556,
              "#d8576b"
             ],
             [
              0.6666666666666666,
              "#ed7953"
             ],
             [
              0.7777777777777778,
              "#fb9f3a"
             ],
             [
              0.8888888888888888,
              "#fdca26"
             ],
             [
              1,
              "#f0f921"
             ]
            ],
            "type": "heatmap"
           }
          ],
          "heatmapgl": [
           {
            "colorbar": {
             "outlinewidth": 0,
             "ticks": ""
            },
            "colorscale": [
             [
              0,
              "#0d0887"
             ],
             [
              0.1111111111111111,
              "#46039f"
             ],
             [
              0.2222222222222222,
              "#7201a8"
             ],
             [
              0.3333333333333333,
              "#9c179e"
             ],
             [
              0.4444444444444444,
              "#bd3786"
             ],
             [
              0.5555555555555556,
              "#d8576b"
             ],
             [
              0.6666666666666666,
              "#ed7953"
             ],
             [
              0.7777777777777778,
              "#fb9f3a"
             ],
             [
              0.8888888888888888,
              "#fdca26"
             ],
             [
              1,
              "#f0f921"
             ]
            ],
            "type": "heatmapgl"
           }
          ],
          "histogram": [
           {
            "marker": {
             "pattern": {
              "fillmode": "overlay",
              "size": 10,
              "solidity": 0.2
             }
            },
            "type": "histogram"
           }
          ],
          "histogram2d": [
           {
            "colorbar": {
             "outlinewidth": 0,
             "ticks": ""
            },
            "colorscale": [
             [
              0,
              "#0d0887"
             ],
             [
              0.1111111111111111,
              "#46039f"
             ],
             [
              0.2222222222222222,
              "#7201a8"
             ],
             [
              0.3333333333333333,
              "#9c179e"
             ],
             [
              0.4444444444444444,
              "#bd3786"
             ],
             [
              0.5555555555555556,
              "#d8576b"
             ],
             [
              0.6666666666666666,
              "#ed7953"
             ],
             [
              0.7777777777777778,
              "#fb9f3a"
             ],
             [
              0.8888888888888888,
              "#fdca26"
             ],
             [
              1,
              "#f0f921"
             ]
            ],
            "type": "histogram2d"
           }
          ],
          "histogram2dcontour": [
           {
            "colorbar": {
             "outlinewidth": 0,
             "ticks": ""
            },
            "colorscale": [
             [
              0,
              "#0d0887"
             ],
             [
              0.1111111111111111,
              "#46039f"
             ],
             [
              0.2222222222222222,
              "#7201a8"
             ],
             [
              0.3333333333333333,
              "#9c179e"
             ],
             [
              0.4444444444444444,
              "#bd3786"
             ],
             [
              0.5555555555555556,
              "#d8576b"
             ],
             [
              0.6666666666666666,
              "#ed7953"
             ],
             [
              0.7777777777777778,
              "#fb9f3a"
             ],
             [
              0.8888888888888888,
              "#fdca26"
             ],
             [
              1,
              "#f0f921"
             ]
            ],
            "type": "histogram2dcontour"
           }
          ],
          "mesh3d": [
           {
            "colorbar": {
             "outlinewidth": 0,
             "ticks": ""
            },
            "type": "mesh3d"
           }
          ],
          "parcoords": [
           {
            "line": {
             "colorbar": {
              "outlinewidth": 0,
              "ticks": ""
             }
            },
            "type": "parcoords"
           }
          ],
          "pie": [
           {
            "automargin": true,
            "type": "pie"
           }
          ],
          "scatter": [
           {
            "fillpattern": {
             "fillmode": "overlay",
             "size": 10,
             "solidity": 0.2
            },
            "type": "scatter"
           }
          ],
          "scatter3d": [
           {
            "line": {
             "colorbar": {
              "outlinewidth": 0,
              "ticks": ""
             }
            },
            "marker": {
             "colorbar": {
              "outlinewidth": 0,
              "ticks": ""
             }
            },
            "type": "scatter3d"
           }
          ],
          "scattercarpet": [
           {
            "marker": {
             "colorbar": {
              "outlinewidth": 0,
              "ticks": ""
             }
            },
            "type": "scattercarpet"
           }
          ],
          "scattergeo": [
           {
            "marker": {
             "colorbar": {
              "outlinewidth": 0,
              "ticks": ""
             }
            },
            "type": "scattergeo"
           }
          ],
          "scattergl": [
           {
            "marker": {
             "colorbar": {
              "outlinewidth": 0,
              "ticks": ""
             }
            },
            "type": "scattergl"
           }
          ],
          "scattermapbox": [
           {
            "marker": {
             "colorbar": {
              "outlinewidth": 0,
              "ticks": ""
             }
            },
            "type": "scattermapbox"
           }
          ],
          "scatterpolar": [
           {
            "marker": {
             "colorbar": {
              "outlinewidth": 0,
              "ticks": ""
             }
            },
            "type": "scatterpolar"
           }
          ],
          "scatterpolargl": [
           {
            "marker": {
             "colorbar": {
              "outlinewidth": 0,
              "ticks": ""
             }
            },
            "type": "scatterpolargl"
           }
          ],
          "scatterternary": [
           {
            "marker": {
             "colorbar": {
              "outlinewidth": 0,
              "ticks": ""
             }
            },
            "type": "scatterternary"
           }
          ],
          "surface": [
           {
            "colorbar": {
             "outlinewidth": 0,
             "ticks": ""
            },
            "colorscale": [
             [
              0,
              "#0d0887"
             ],
             [
              0.1111111111111111,
              "#46039f"
             ],
             [
              0.2222222222222222,
              "#7201a8"
             ],
             [
              0.3333333333333333,
              "#9c179e"
             ],
             [
              0.4444444444444444,
              "#bd3786"
             ],
             [
              0.5555555555555556,
              "#d8576b"
             ],
             [
              0.6666666666666666,
              "#ed7953"
             ],
             [
              0.7777777777777778,
              "#fb9f3a"
             ],
             [
              0.8888888888888888,
              "#fdca26"
             ],
             [
              1,
              "#f0f921"
             ]
            ],
            "type": "surface"
           }
          ],
          "table": [
           {
            "cells": {
             "fill": {
              "color": "#EBF0F8"
             },
             "line": {
              "color": "white"
             }
            },
            "header": {
             "fill": {
              "color": "#C8D4E3"
             },
             "line": {
              "color": "white"
             }
            },
            "type": "table"
           }
          ]
         },
         "layout": {
          "annotationdefaults": {
           "arrowcolor": "#2a3f5f",
           "arrowhead": 0,
           "arrowwidth": 1
          },
          "autotypenumbers": "strict",
          "coloraxis": {
           "colorbar": {
            "outlinewidth": 0,
            "ticks": ""
           }
          },
          "colorscale": {
           "diverging": [
            [
             0,
             "#8e0152"
            ],
            [
             0.1,
             "#c51b7d"
            ],
            [
             0.2,
             "#de77ae"
            ],
            [
             0.3,
             "#f1b6da"
            ],
            [
             0.4,
             "#fde0ef"
            ],
            [
             0.5,
             "#f7f7f7"
            ],
            [
             0.6,
             "#e6f5d0"
            ],
            [
             0.7,
             "#b8e186"
            ],
            [
             0.8,
             "#7fbc41"
            ],
            [
             0.9,
             "#4d9221"
            ],
            [
             1,
             "#276419"
            ]
           ],
           "sequential": [
            [
             0,
             "#0d0887"
            ],
            [
             0.1111111111111111,
             "#46039f"
            ],
            [
             0.2222222222222222,
             "#7201a8"
            ],
            [
             0.3333333333333333,
             "#9c179e"
            ],
            [
             0.4444444444444444,
             "#bd3786"
            ],
            [
             0.5555555555555556,
             "#d8576b"
            ],
            [
             0.6666666666666666,
             "#ed7953"
            ],
            [
             0.7777777777777778,
             "#fb9f3a"
            ],
            [
             0.8888888888888888,
             "#fdca26"
            ],
            [
             1,
             "#f0f921"
            ]
           ],
           "sequentialminus": [
            [
             0,
             "#0d0887"
            ],
            [
             0.1111111111111111,
             "#46039f"
            ],
            [
             0.2222222222222222,
             "#7201a8"
            ],
            [
             0.3333333333333333,
             "#9c179e"
            ],
            [
             0.4444444444444444,
             "#bd3786"
            ],
            [
             0.5555555555555556,
             "#d8576b"
            ],
            [
             0.6666666666666666,
             "#ed7953"
            ],
            [
             0.7777777777777778,
             "#fb9f3a"
            ],
            [
             0.8888888888888888,
             "#fdca26"
            ],
            [
             1,
             "#f0f921"
            ]
           ]
          },
          "colorway": [
           "#636efa",
           "#EF553B",
           "#00cc96",
           "#ab63fa",
           "#FFA15A",
           "#19d3f3",
           "#FF6692",
           "#B6E880",
           "#FF97FF",
           "#FECB52"
          ],
          "font": {
           "color": "#2a3f5f"
          },
          "geo": {
           "bgcolor": "white",
           "lakecolor": "white",
           "landcolor": "#E5ECF6",
           "showlakes": true,
           "showland": true,
           "subunitcolor": "white"
          },
          "hoverlabel": {
           "align": "left"
          },
          "hovermode": "closest",
          "mapbox": {
           "style": "light"
          },
          "paper_bgcolor": "white",
          "plot_bgcolor": "#E5ECF6",
          "polar": {
           "angularaxis": {
            "gridcolor": "white",
            "linecolor": "white",
            "ticks": ""
           },
           "bgcolor": "#E5ECF6",
           "radialaxis": {
            "gridcolor": "white",
            "linecolor": "white",
            "ticks": ""
           }
          },
          "scene": {
           "xaxis": {
            "backgroundcolor": "#E5ECF6",
            "gridcolor": "white",
            "gridwidth": 2,
            "linecolor": "white",
            "showbackground": true,
            "ticks": "",
            "zerolinecolor": "white"
           },
           "yaxis": {
            "backgroundcolor": "#E5ECF6",
            "gridcolor": "white",
            "gridwidth": 2,
            "linecolor": "white",
            "showbackground": true,
            "ticks": "",
            "zerolinecolor": "white"
           },
           "zaxis": {
            "backgroundcolor": "#E5ECF6",
            "gridcolor": "white",
            "gridwidth": 2,
            "linecolor": "white",
            "showbackground": true,
            "ticks": "",
            "zerolinecolor": "white"
           }
          },
          "shapedefaults": {
           "line": {
            "color": "#2a3f5f"
           }
          },
          "ternary": {
           "aaxis": {
            "gridcolor": "white",
            "linecolor": "white",
            "ticks": ""
           },
           "baxis": {
            "gridcolor": "white",
            "linecolor": "white",
            "ticks": ""
           },
           "bgcolor": "#E5ECF6",
           "caxis": {
            "gridcolor": "white",
            "linecolor": "white",
            "ticks": ""
           }
          },
          "title": {
           "x": 0.05
          },
          "xaxis": {
           "automargin": true,
           "gridcolor": "white",
           "linecolor": "white",
           "ticks": "",
           "title": {
            "standoff": 15
           },
           "zerolinecolor": "white",
           "zerolinewidth": 2
          },
          "yaxis": {
           "automargin": true,
           "gridcolor": "white",
           "linecolor": "white",
           "ticks": "",
           "title": {
            "standoff": 15
           },
           "zerolinecolor": "white",
           "zerolinewidth": 2
          }
         }
        },
        "xaxis": {
         "anchor": "y",
         "domain": [
          0,
          1
         ]
        },
        "yaxis": {
         "anchor": "x",
         "domain": [
          0,
          1
         ]
        }
       }
      }
     },
     "metadata": {},
     "output_type": "display_data"
    }
   ],
   "source": [
    "landscapefig"
   ]
  },
  {
   "cell_type": "code",
   "execution_count": null,
   "metadata": {},
   "outputs": [],
   "source": []
  }
 ],
 "metadata": {
  "kernelspec": {
   "display_name": "Python 3.10.6 ('venv': venv)",
   "language": "python",
   "name": "python3"
  },
  "language_info": {
   "codemirror_mode": {
    "name": "ipython",
    "version": 3
   },
   "file_extension": ".py",
   "mimetype": "text/x-python",
   "name": "python",
   "nbconvert_exporter": "python",
   "pygments_lexer": "ipython3",
   "version": "3.10.6"
  },
  "orig_nbformat": 4,
  "vscode": {
   "interpreter": {
    "hash": "59fcdee7b1e4b5a6386ee92a52ccb80a0e74f596e69a653fdd1aeca3629150ba"
   }
  }
 },
 "nbformat": 4,
 "nbformat_minor": 2
}
