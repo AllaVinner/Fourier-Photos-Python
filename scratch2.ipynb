{
 "cells": [
  {
   "cell_type": "code",
   "execution_count": null,
   "metadata": {},
   "outputs": [],
   "source": [
    "import torch\n",
    "from torch.nn.functional import pad\n",
    "import numpy as np\n",
    "torch.pi = 2*torch.acos(torch.zeros(1))"
   ]
  },
  {
   "cell_type": "code",
   "execution_count": null,
   "metadata": {},
   "outputs": [],
   "source": [
    "N = 1000+1\n",
    "M = 10.\n",
    "g = torch.zeros((N, ))\n",
    "g[int(N/3)] = 1\n",
    "g[int(2*N/3)] = 1\n",
    "\n",
    "thetas = torch.tensor([[-1., 1.]], dtype=float, requires_grad=True)"
   ]
  },
  {
   "cell_type": "code",
   "execution_count": null,
   "metadata": {},
   "outputs": [],
   "source": [
    "optim = torch.optim.Adam([thetas], lr=1e-3)\n"
   ]
  },
  {
   "cell_type": "code",
   "execution_count": null,
   "metadata": {},
   "outputs": [],
   "source": [
    "f2 = torch.sqrt(torch.pi /2)*torch.sum(torch.exp((-((thetas-thetas.T)**2)/2)))"
   ]
  },
  {
   "cell_type": "code",
   "execution_count": null,
   "metadata": {},
   "outputs": [],
   "source": [
    "f2"
   ]
  },
  {
   "cell_type": "code",
   "execution_count": null,
   "metadata": {},
   "outputs": [],
   "source": [
    "x = torch.linspace(-M, M, N)\n"
   ]
  },
  {
   "cell_type": "code",
   "execution_count": null,
   "metadata": {},
   "outputs": [],
   "source": [
    "fg = torch.sum(torch.sum(torch.exp(-(x-thetas.T)**2), dim=0)*g)"
   ]
  },
  {
   "cell_type": "code",
   "execution_count": null,
   "metadata": {},
   "outputs": [],
   "source": [
    "l = f2+2*fg"
   ]
  },
  {
   "cell_type": "code",
   "execution_count": null,
   "metadata": {},
   "outputs": [],
   "source": [
    "optim.zero_grad()\n",
    "l.backward()\n",
    "optim.step()"
   ]
  },
  {
   "cell_type": "code",
   "execution_count": null,
   "metadata": {},
   "outputs": [],
   "source": [
    "thetas"
   ]
  },
  {
   "attachments": {},
   "cell_type": "markdown",
   "metadata": {},
   "source": [
    "All At Once"
   ]
  },
  {
   "cell_type": "code",
   "execution_count": null,
   "metadata": {},
   "outputs": [],
   "source": [
    "N = 1000+1\n",
    "M = 10.\n",
    "b = [-1, 1]\n",
    "i = [int((bb+M)*N/(2*M)) for bb in b]\n",
    "g = torch.zeros((N, ))\n",
    "g[i] = 1.\n",
    "x = torch.linspace(-M, M, N)\n",
    "\n",
    "thetas = torch.tensor([[-5., -0.3]], dtype=float, requires_grad=True)\n",
    "optim = torch.optim.Adam([thetas], lr=1e-2)"
   ]
  },
  {
   "cell_type": "code",
   "execution_count": null,
   "metadata": {},
   "outputs": [],
   "source": [
    "num_iter = 1000\n",
    "for i in range(num_iter):\n",
    "    f2 = torch.sqrt(torch.pi /2)*torch.sum(torch.exp((-((thetas-thetas.T)**2)/2)))\n",
    "    fg = torch.sum(torch.sum(torch.exp(-(x-thetas.T)**2), dim=0)*g)\n",
    "    l = f2-2*fg\n",
    "    optim.zero_grad()\n",
    "    l.backward()\n",
    "    optim.step()\n",
    "    if i % (num_iter//10) == 0:\n",
    "        print(f\"Current Loss: {l.item()}, thetas: {thetas}\")"
   ]
  },
  {
   "cell_type": "code",
   "execution_count": null,
   "metadata": {},
   "outputs": [],
   "source": []
  }
 ],
 "metadata": {
  "kernelspec": {
   "display_name": "Python 3.10.6 ('venv': venv)",
   "language": "python",
   "name": "python3"
  },
  "language_info": {
   "codemirror_mode": {
    "name": "ipython",
    "version": 3
   },
   "file_extension": ".py",
   "mimetype": "text/x-python",
   "name": "python",
   "nbconvert_exporter": "python",
   "pygments_lexer": "ipython3",
   "version": "3.10.6"
  },
  "orig_nbformat": 4,
  "vscode": {
   "interpreter": {
    "hash": "59fcdee7b1e4b5a6386ee92a52ccb80a0e74f596e69a653fdd1aeca3629150ba"
   }
  }
 },
 "nbformat": 4,
 "nbformat_minor": 2
}
