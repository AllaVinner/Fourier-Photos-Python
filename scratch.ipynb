{
 "cells": [
  {
   "cell_type": "code",
   "execution_count": null,
   "metadata": {},
   "outputs": [],
   "source": [
    "import torch\n",
    "from torch.nn.functional import pad"
   ]
  },
  {
   "cell_type": "code",
   "execution_count": null,
   "metadata": {},
   "outputs": [],
   "source": [
    "\n",
    "# Create goal\n",
    "B = torch.tensor([0, 1, 0, 1, 0])\n",
    "radB = len(B)//2\n",
    "# Create coordinate tensor\n",
    "\n",
    "z = torch.tensor([-0.4, 2.1], requires_grad=True)\n",
    "\n",
    "optim = torch.optim.Adam([z], lr=1e-1)"
   ]
  },
  {
   "cell_type": "code",
   "execution_count": null,
   "metadata": {},
   "outputs": [],
   "source": [
    "losses = []\n",
    "for i in range(50):\n",
    "  # Create weight matrix\n",
    "  rad = max(z.detach().abs().max().ceil().long(), radB)\n",
    "  wc = torch.zeros(2*rad+1)\n",
    "  wf = torch.zeros(2*rad+1)\n",
    "  # Map coordinates to weight matrix\n",
    "  zm = z + rad\n",
    "  wc[zm.ceil().long()] =  1.\n",
    "  wf[zm.floor().long()] =  1.\n",
    "  F = (torch.outer(-(zm-zm.floor()).pow(2)+1, wf).mean(0)+torch.outer(-(zm-zm.ceil()).pow(2)+1, wc).mean(0))/1\n",
    "\n",
    "  raddiff = (len(F) -  len(B))//2\n",
    "  Fbigger = len(F) > len(B)\n",
    "  if Fbigger:\n",
    "    #print('Rad diff: ', raddiff)\n",
    "    Bpad = pad(B, (raddiff,raddiff))\n",
    "  else:\n",
    "    Bpad = B\n",
    "  \n",
    "  l = ((Bpad-F)**2).sum()\n",
    "  optim.zero_grad()\n",
    "  l.backward()\n",
    "  optim.step()\n",
    "  losses.append(l.item())\n",
    "print(z)\n",
    "print(z.grad)\n",
    "print(l)"
   ]
  },
  {
   "cell_type": "code",
   "execution_count": null,
   "metadata": {},
   "outputs": [],
   "source": []
  }
 ],
 "metadata": {
  "kernelspec": {
   "display_name": "Python 3.10.6 ('venv': venv)",
   "language": "python",
   "name": "python3"
  },
  "language_info": {
   "codemirror_mode": {
    "name": "ipython",
    "version": 3
   },
   "file_extension": ".py",
   "mimetype": "text/x-python",
   "name": "python",
   "nbconvert_exporter": "python",
   "pygments_lexer": "ipython3",
   "version": "3.10.6"
  },
  "orig_nbformat": 4,
  "vscode": {
   "interpreter": {
    "hash": "59fcdee7b1e4b5a6386ee92a52ccb80a0e74f596e69a653fdd1aeca3629150ba"
   }
  }
 },
 "nbformat": 4,
 "nbformat_minor": 2
}
