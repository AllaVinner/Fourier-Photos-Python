{
 "cells": [
  {
   "cell_type": "code",
   "execution_count": null,
   "metadata": {},
   "outputs": [],
   "source": [
    "import torch\n",
    "import plotly.express as px\n",
    "import numpy as np\n",
    "import pandas as pd\n",
    "from torch.nn.functional import pad, relu"
   ]
  },
  {
   "cell_type": "code",
   "execution_count": null,
   "metadata": {},
   "outputs": [],
   "source": [
    "N = 2\n",
    "x = torch.tensor([-1, 1.], dtype = torch.float).reshape((2, -1))\n",
    "x"
   ]
  },
  {
   "cell_type": "code",
   "execution_count": null,
   "metadata": {},
   "outputs": [],
   "source": [
    "W = 10\n",
    "w = torch.arange(-W, W+1).reshape((1,-1))\n",
    "w"
   ]
  },
  {
   "cell_type": "code",
   "execution_count": null,
   "metadata": {},
   "outputs": [],
   "source": [
    "diffs = w-x\n",
    "l = torch.exp(-diffs**2)\n",
    "l"
   ]
  },
  {
   "cell_type": "code",
   "execution_count": null,
   "metadata": {},
   "outputs": [],
   "source": [
    "A = l.sum((0))"
   ]
  },
  {
   "cell_type": "code",
   "execution_count": null,
   "metadata": {},
   "outputs": [],
   "source": [
    "A"
   ]
  },
  {
   "cell_type": "code",
   "execution_count": null,
   "metadata": {},
   "outputs": [],
   "source": [
    "px.scatter(A)"
   ]
  },
  {
   "cell_type": "code",
   "execution_count": null,
   "metadata": {},
   "outputs": [],
   "source": [
    "B = torch.zeros(2*W+1)\n",
    "B[W] = 1\n",
    "B[W+2] = 1"
   ]
  },
  {
   "cell_type": "code",
   "execution_count": null,
   "metadata": {},
   "outputs": [],
   "source": [
    "L = torch.norm(A-B)\n",
    "L"
   ]
  },
  {
   "cell_type": "code",
   "execution_count": null,
   "metadata": {},
   "outputs": [],
   "source": []
  },
  {
   "cell_type": "code",
   "execution_count": null,
   "metadata": {},
   "outputs": [],
   "source": [
    "px.scatter(A)\n",
    "px.scatter(B)"
   ]
  },
  {
   "cell_type": "code",
   "execution_count": null,
   "metadata": {},
   "outputs": [],
   "source": [
    "W = 3\n",
    "w = torch.arange(-W, W+1).reshape((1,-1))\n",
    "bcoord = [-1, 1]\n",
    "bmax = 1\n",
    "\n",
    "N = 2\n",
    "x = torch.tensor([[-4.1], [4.1]], dtype = torch.float, requires_grad=True)\n",
    "optim = torch.optim.Adam([x], lr=1e-1)\n",
    "\n"
   ]
  },
  {
   "cell_type": "code",
   "execution_count": null,
   "metadata": {},
   "outputs": [],
   "source": [
    "losses = []\n",
    "for i in range(1000):\n",
    "    wmax = x.detach().abs().max().ceil().int().item()\n",
    "    dmax = 1000*max(wmax, bmax)\n",
    "    w = torch.arange(-dmax, dmax+1, dtype = torch.float)\n",
    "\n",
    "    l = torch.exp(-10*(w-x)**2)\n",
    "    A = l.sum((0))\n",
    "    \n",
    "    B = torch.zeros(2*dmax+1)\n",
    "    for b in bcoord:\n",
    "        B[dmax+b] = 1.\n",
    "    L = torch.norm(A-B)\n",
    "    optim.zero_grad()\n",
    "    L.backward()\n",
    "    optim.step()\n",
    "    losses.append(L.item())\n",
    "losses"
   ]
  },
  {
   "cell_type": "code",
   "execution_count": null,
   "metadata": {},
   "outputs": [],
   "source": [
    "l = torch.exp(-(w-x)**2)\n",
    "A = l.sum((0))\n",
    "A\n"
   ]
  },
  {
   "cell_type": "code",
   "execution_count": null,
   "metadata": {},
   "outputs": [],
   "source": [
    "x = 21"
   ]
  },
  {
   "cell_type": "code",
   "execution_count": null,
   "metadata": {},
   "outputs": [],
   "source": [
    "W = 3\n",
    "w = torch.arange(-W, W+1).reshape((1,-1))\n",
    "bcoord = [-1, 1]\n",
    "bmax = 1\n",
    "f = torch.zeros((2*W+1,))\n",
    "for i, bc in enumerate(bcoord):\n",
    "    f[W+bc] = 1.\n",
    "\n",
    "N = 2\n",
    "x = torch.tensor([[-1], [1.]], dtype = torch.float, requires_grad=True)\n",
    "optim = torch.optim.Adam([x], lr=1e-1)"
   ]
  },
  {
   "cell_type": "code",
   "execution_count": null,
   "metadata": {},
   "outputs": [],
   "source": [
    "W = 3\n",
    "w = torch.arange(-W, W+1).reshape((1,-1))\n",
    "bcoord = [-1, 1]\n",
    "bmax = 1\n",
    "f = torch.zeros((2*W+1,))\n",
    "for i, bc in enumerate(bcoord):\n",
    "    f[W+bc] = 1.\n",
    "\n",
    "    \n",
    "N = 2\n",
    "x = torch.tensor([[-1], [1.]], dtype = torch.float, requires_grad=True)\n",
    "optim = torch.optim.Adam([x], lr=1e-1)"
   ]
  }
 ],
 "metadata": {
  "kernelspec": {
   "display_name": "Python 3.9.7 ('jenv')",
   "language": "python",
   "name": "python3"
  },
  "language_info": {
   "codemirror_mode": {
    "name": "ipython",
    "version": 3
   },
   "file_extension": ".py",
   "mimetype": "text/x-python",
   "name": "python",
   "nbconvert_exporter": "python",
   "pygments_lexer": "ipython3",
   "version": "3.9.15"
  },
  "orig_nbformat": 4,
  "vscode": {
   "interpreter": {
    "hash": "a6df720517243887f81f829574e18eed6582ce87175ffd531d5fa99bc43729cc"
   }
  }
 },
 "nbformat": 4,
 "nbformat_minor": 2
}
