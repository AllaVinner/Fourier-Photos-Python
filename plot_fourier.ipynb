{
 "cells": [
  {
   "cell_type": "code",
   "execution_count": null,
   "metadata": {
    "pycharm": {
     "is_executing": true
    }
   },
   "outputs": [],
   "source": [
    "import plotly\n",
    "import torch\n",
    "from plotly import graph_objects as go\n",
    "torch.pi = 2*torch.acos(torch.zeros(1))"
   ]
  },
  {
   "cell_type": "code",
   "execution_count": null,
   "metadata": {},
   "outputs": [],
   "source": [
    "radii = torch.tensor([1, 0,0,0,0, 0.2, 0,0,0,0,0,0,0,0, 0.1], dtype=float)\n",
    "offsets = torch.tensor([0,  0,0,0,0,0,  0,0,0,0,  0,0,0,0, 0.05], dtype=float)\n",
    "w = torch.arange(len(radii), dtype=float)+1.\n",
    "\n",
    "assert radii.shape == offsets.shape\n",
    "assert radii.shape == w.shape"
   ]
  },
  {
   "cell_type": "code",
   "execution_count": null,
   "metadata": {},
   "outputs": [],
   "source": [
    "T = 1000\n",
    "t = torch.linspace(0, 2*torch.pi.item(), T)"
   ]
  },
  {
   "cell_type": "code",
   "execution_count": null,
   "metadata": {},
   "outputs": [],
   "source": [
    "x = torch.sum(radii*torch.cos(2*torch.pi*torch.outer(t, w)+offsets), axis = 1)\n",
    "y = torch.sum(radii*torch.sin(2*torch.pi*torch.outer(t, w)+offsets), axis = 1)"
   ]
  },
  {
   "cell_type": "code",
   "execution_count": null,
   "metadata": {},
   "outputs": [],
   "source": []
  },
  {
   "cell_type": "code",
   "execution_count": null,
   "metadata": {},
   "outputs": [],
   "source": [
    "fig = go.Figure()\n",
    "fig.add_trace(go.Scatter(x = x, y = y))\n",
    "fig.update_layout(\n",
    "    width = 500,\n",
    "    height = 500,\n",
    "    xaxis=dict(range = [-2, 2]),\n",
    "    yaxis=dict(range = [-2, 2])\n",
    ")\n",
    "fig.show()"
   ]
  },
  {
   "cell_type": "code",
   "execution_count": null,
   "metadata": {},
   "outputs": [],
   "source": [
    "import numpy as np"
   ]
  },
  {
   "attachments": {},
   "cell_type": "markdown",
   "metadata": {},
   "source": [
    "# All At Once"
   ]
  },
  {
   "cell_type": "code",
   "execution_count": null,
   "metadata": {},
   "outputs": [],
   "source": [
    "\n",
    "def plot_fourier(positive_radii, negative_radii, positive_offsets, negative_offsets, mean_position, num_time_points: int = 1000, fig = None):\n",
    "    N = len(positive_radii)\n",
    "    assert len(negative_radii) == N\n",
    "    assert len(positive_offsets) == N\n",
    "    assert len(negative_offsets) == N\n",
    "\n",
    "    freq = torch.arange(N, dtype=float)+1.\n",
    "    t = torch.linspace(0,1, num_time_points)\n",
    "    mx = mean_position[0]\n",
    "    my = mean_position[1]\n",
    "    px = torch.sum(positive_radii*torch.cos(2*torch.pi*torch.outer(t, freq)+positive_offsets), axis = 1)\n",
    "    py = torch.sum(positive_radii*torch.sin(2*torch.pi*torch.outer(t, freq)+positive_offsets), axis = 1)\n",
    "    nx = torch.sum(negative_radii*torch.cos(-2*torch.pi*torch.outer(t, freq)+negative_offsets), axis = 1)\n",
    "    ny = torch.sum(negative_radii*torch.sin(-2*torch.pi*torch.outer(t, freq)+negative_offsets), axis = 1)\n",
    "\n",
    "    x = px+nx+mx\n",
    "    y = py+ny+my\n",
    "    if fig is None:\n",
    "        fig = go.Figure()\n",
    "    fig.add_trace(go.Scatter(x = x, y = y))\n",
    "    return fig\n"
   ]
  },
  {
   "cell_type": "code",
   "execution_count": null,
   "metadata": {},
   "outputs": [],
   "source": [
    "k =1. \n",
    "positive_radii = k*torch.tensor([1, 0, 0], dtype=float)\n",
    "negative_radii = k*torch.tensor([0, 0, 7/45], dtype=float)\n",
    "mean_position = k*torch.tensor([0,0], dtype = float)\n",
    "positive_offsets = k*torch.tensor([0, 0 ,0], dtype=float)\n",
    "negative_offsets = k*torch.tensor([0, 0, torch.pi], dtype=float)\n",
    "T = 1000\n",
    "fig = go.Figure()\n",
    "fig.update_layout(\n",
    "    width = 500,\n",
    "    height = 500,\n",
    "    xaxis=dict(range = [-2, 2]),\n",
    "    yaxis=dict(range = [-2, 2])\n",
    ")\n",
    "fig = plot_fourier(positive_radii, negative_radii, positive_offsets, negative_offsets, mean_position, 100, fig)\n",
    "fig.show()"
   ]
  },
  {
   "cell_type": "code",
   "execution_count": null,
   "metadata": {},
   "outputs": [],
   "source": [
    "c = torch.tensor([1,2,3,4])\n",
    "V = "
   ]
  },
  {
   "cell_type": "code",
   "execution_count": null,
   "metadata": {},
   "outputs": [],
   "source": [
    "z = torch.matmul(V.T, c)"
   ]
  },
  {
   "cell_type": "code",
   "execution_count": null,
   "metadata": {},
   "outputs": [],
   "source": [
    "f2 = torch.sqrt(torch.pi /2)*torch.sum(torch.exp((-((z-z.T)**2)/2)))\n",
    "fg = torch.sum(torch.sum(torch.exp(-(x-z)**2), dim=0)*g)"
   ]
  },
  {
   "cell_type": "code",
   "execution_count": null,
   "metadata": {},
   "outputs": [],
   "source": [
    "# M: Radius of coefficients\n",
    "# c:  -M : M (2M+1)\n",
    "# N: Number of samples taken\n",
    "# V:  (2M+1):N \n",
    "# z: N\n",
    "# W - Width of image\n",
    "# H: Height of image\n",
    "# X: H x W\n"
   ]
  },
  {
   "cell_type": "code",
   "execution_count": null,
   "metadata": {},
   "outputs": [],
   "source": [
    "X = torch.randn((4,3))\n",
    "z = torch.randn(5)\n"
   ]
  },
  {
   "cell_type": "code",
   "execution_count": null,
   "metadata": {},
   "outputs": [],
   "source": [
    "torch.sum(z.broadcast_to((4,3,5)) - X.broadcast_to((5, 4,3)).reshape((4,3,5)), dim = -1).shape\n"
   ]
  },
  {
   "cell_type": "code",
   "execution_count": null,
   "metadata": {},
   "outputs": [],
   "source": [
    "f2 = torch.sqrt(torch.pi /2)*torch.sum(torch.exp((-((thetas-thetas.T)**2)/2)))\n",
    "fg = torch.sum(torch.sum(torch.exp(-(x-thetas.T)**2), dim=0)*g)"
   ]
  },
  {
   "attachments": {},
   "cell_type": "markdown",
   "metadata": {},
   "source": [
    "# Coordinate to Image"
   ]
  },
  {
   "cell_type": "code",
   "execution_count": null,
   "metadata": {},
   "outputs": [],
   "source": [
    "T = 3\n",
    "H = 4\n",
    "W = 5\n",
    "x = torch.randn((T,1))\n",
    "y = torch.randn((T,1 ))\n",
    "ph = torch.randn((H))\n",
    "pw = torch.randn((W))\n",
    "picture_area_element = 1. \n",
    "\n",
    "g = torch.randn((H,W))"
   ]
  },
  {
   "cell_type": "code",
   "execution_count": null,
   "metadata": {},
   "outputs": [],
   "source": [
    "PH, PW = torch.meshgrid((ph, pw))\n",
    "PHT = PH.expand(T,H,W)\n",
    "PWT = PW.expand(T,H,W)"
   ]
  },
  {
   "cell_type": "code",
   "execution_count": null,
   "metadata": {},
   "outputs": [],
   "source": [
    "XHW = x.reshape(T,1,1).expand((T,H,W))\n",
    "YHW = y.reshape(T,1,1).expand((T,H,W))"
   ]
  },
  {
   "cell_type": "code",
   "execution_count": null,
   "metadata": {},
   "outputs": [],
   "source": [
    "exp_value = (PWT-XHW).square() + (PHT-YHW).square()\n",
    "f_d = torch.sum( torch.exp(-exp_value), dim=0)\n",
    "l_fg = 2*torch.sum(f_d*g)"
   ]
  },
  {
   "cell_type": "code",
   "execution_count": null,
   "metadata": {},
   "outputs": [],
   "source": [
    "l_f2 = torch.pi/2*torch.sum(torch.exp(-((x-x.T).square() +(y-y.T).square()/2)))"
   ]
  },
  {
   "cell_type": "code",
   "execution_count": null,
   "metadata": {},
   "outputs": [],
   "source": [
    "l = l_fg + l_f2"
   ]
  },
  {
   "cell_type": "code",
   "execution_count": null,
   "metadata": {},
   "outputs": [],
   "source": [
    "l"
   ]
  },
  {
   "cell_type": "code",
   "execution_count": null,
   "metadata": {},
   "outputs": [],
   "source": [
    "def calculate_loss(x, y, g):\n",
    "    H, W = g.shape\n",
    "    T = len(x)\n",
    "\n",
    "    PH, PW = torch.meshgrid((ph, pw))\n",
    "    PHT = PH.expand(T,H,W)\n",
    "    PWT = PW.expand(T,H,W)\n",
    "\n",
    "    XHW = x.reshape(T,1,1).expand((T,H,W))\n",
    "    YHW = y.reshape(T,1,1).expand((T,H,W))\n",
    "\n",
    "    exp_value = (PWT-XHW).square() + (PHT-YHW).square()\n",
    "    f_d = torch.sum( torch.exp(-exp_value), dim=0)\n",
    "    l_fg = 2*torch.sum(f_d*g)\n",
    "\n",
    "    l_f2 = torch.pi/2*torch.sum(torch.exp(-((x-x.T).square() +(y-y.T).square()/2)))\n",
    "\n",
    "    l = l_fg + l_f2\n",
    "\n",
    "    return l\n",
    "\n",
    "\n",
    "    "
   ]
  },
  {
   "cell_type": "code",
   "execution_count": null,
   "metadata": {},
   "outputs": [],
   "source": [
    "def construct_image_from_coordinates(x,y, H, W, k = 1.,  x_range = None, y_range = None):\n",
    "    if x_range is None:\n",
    "        x_range = [-W/2, W/2]\n",
    "    if y_range is None:\n",
    "        y_range = [-H/2, H/2]\n",
    "    T = len(x)\n",
    "\n",
    "    ph = torch.linspace(y_range[0], y_range[1], H)\n",
    "    pw = torch.linspace(x_range[0], x_range[1], W)\n",
    "\n",
    "    PH, PW = torch.meshgrid((ph, pw))\n",
    "    PHT = PH.expand(T,H,W)\n",
    "    PWT = PW.expand(T,H,W)\n",
    "\n",
    "    XHW = x.reshape(T,1,1).expand((T,H,W))\n",
    "    YHW = y.reshape(T,1,1).expand((T,H,W))\n",
    "\n",
    "    exp_value = (PWT-XHW).square() + (PHT-YHW).square()\n",
    "    f_d = torch.sum( torch.exp(-k*exp_value), dim=0)\n",
    "    return f_d"
   ]
  },
  {
   "cell_type": "code",
   "execution_count": null,
   "metadata": {},
   "outputs": [],
   "source": [
    "def construct_image_from_constants(positive_radii, negative_radii, positive_offsets, negative_offsets, mean_position, num_time_points: int = 1000, H = 1000, W = 1000, k = 1.):\n",
    "    N = len(positive_radii)\n",
    "    assert len(negative_radii) == N\n",
    "    assert len(positive_offsets) == N\n",
    "    assert len(negative_offsets) == N\n",
    "\n",
    "    freq = torch.arange(N, dtype=float)+1.\n",
    "    t = torch.linspace(0,1, num_time_points)\n",
    "    mx = mean_position[0]\n",
    "    my = mean_position[1]\n",
    "    px = torch.sum(positive_radii*torch.cos(2*torch.pi*torch.outer(t, freq)+positive_offsets), axis = 1)\n",
    "    py = torch.sum(positive_radii*torch.sin(2*torch.pi*torch.outer(t, freq)+positive_offsets), axis = 1)\n",
    "    nx = torch.sum(negative_radii*torch.cos(-2*torch.pi*torch.outer(t, freq)+negative_offsets), axis = 1)\n",
    "    ny = torch.sum(negative_radii*torch.sin(-2*torch.pi*torch.outer(t, freq)+negative_offsets), axis = 1)\n",
    "\n",
    "    x = px+nx+mx\n",
    "    y = py+ny+my\n",
    "    x_len = x.max().item() - x.min().item()\n",
    "    x_range = [x.min().item()-0.1*x_len, x.max().item()+0.1*x_len]\n",
    "    y_len = y.max().item() - y.min().item()\n",
    "    y_range = [y.min().item()-0.1*y_len, y.max().item()+0.1*y_len]\n",
    "    return construct_image_from_coordinates(x, y, H, W, k = k, x_range=x_range, y_range=y_range), x.detach(), y.detach()"
   ]
  },
  {
   "cell_type": "code",
   "execution_count": null,
   "metadata": {},
   "outputs": [],
   "source": [
    "k =1. \n",
    "positive_radii = k*torch.tensor([1, 0, 0], dtype=float)\n",
    "negative_radii = k*torch.tensor([0, 0, 7/45], dtype=float)\n",
    "mean_position = k*torch.tensor([0,0], dtype = float)\n",
    "positive_offsets = k*torch.tensor([0, 0 ,0], dtype=float)\n",
    "negative_offsets = k*torch.tensor([0, 0, torch.pi], dtype=float)\n",
    "T = 1000\n",
    "im_mat, x_axis, y_axis = construct_image_from_constants(positive_radii, negative_radii, positive_offsets, negative_offsets, mean_position, num_time_points=100, H=100, W=100, k = 50.)"
   ]
  },
  {
   "cell_type": "code",
   "execution_count": null,
   "metadata": {},
   "outputs": [],
   "source": [
    "fig = go.Figure()\n",
    "\n",
    "fig.add_trace(go.Heatmap(z = im_mat))\n",
    "fig.update_layout(\n",
    "    width = 500,\n",
    "    height = 500\n",
    ")\n",
    "fig.show()"
   ]
  },
  {
   "cell_type": "code",
   "execution_count": null,
   "metadata": {},
   "outputs": [],
   "source": [
    "M = 3\n",
    "T = 1000\n",
    "g = im_mat\n",
    "k = 50.\n",
    "H, W = im_mat.shape\n",
    "positive_radii_log = torch.randn((M,), dtype = float, requires_grad=True)\n",
    "negative_radii_log = torch.randn((M,), dtype = float, requires_grad=True)\n",
    "mean_position = torch.tensor([0,0], dtype = float)\n",
    "positive_offsets_log = torch.randn((M,), dtype = float, requires_grad=True)\n",
    "negative_offsets_log = torch.randn((M,), dtype = float, requires_grad=True)"
   ]
  },
  {
   "cell_type": "code",
   "execution_count": null,
   "metadata": {},
   "outputs": [],
   "source": [
    "M = 3\n",
    "T = 100\n",
    "g = im_mat\n",
    "k = 50.\n",
    "H, W = im_mat.shape\n",
    "positive_radii_log = torch.tensor( torch.log(positive_radii), dtype = float, requires_grad=True)\n",
    "negative_radii_log = torch.tensor( torch.log(negative_radii), dtype = float, requires_grad=True)\n",
    "mean_position = torch.tensor([0,0], dtype = float)\n",
    "positive_offsets_log = torch.tensor( torch.log(positive_offsets), dtype = float, requires_grad=True)\n",
    "negative_offsets_log = torch.tensor( torch.log(negative_offsets), dtype = float, requires_grad=True)"
   ]
  },
  {
   "cell_type": "code",
   "execution_count": null,
   "metadata": {},
   "outputs": [],
   "source": [
    "optim = torch.optim.Adam([positive_radii_log, negative_radii_log, positive_offsets_log, negative_offsets_log], lr=1e-3)"
   ]
  },
  {
   "cell_type": "code",
   "execution_count": null,
   "metadata": {},
   "outputs": [],
   "source": [
    "for i in range(100):\n",
    "    positive_radii = torch.exp(positive_radii_log)\n",
    "    negative_radii = torch.exp(negative_radii_log)\n",
    "    positive_offsets = torch.exp(positive_offsets_log)\n",
    "    negative_offsets = torch.exp(negative_offsets_log)\n",
    "    \n",
    "    freq = torch.arange(M, dtype=float)+1.\n",
    "    t = torch.linspace(0,1, T)\n",
    "    mx = mean_position[0]\n",
    "    my = mean_position[1]\n",
    "    px = torch.sum(positive_radii*torch.cos(2*torch.pi*torch.outer(t, freq)+positive_offsets), axis = 1)\n",
    "    py = torch.sum(positive_radii*torch.sin(2*torch.pi*torch.outer(t, freq)+positive_offsets), axis = 1)\n",
    "    nx = torch.sum(negative_radii*torch.cos(-2*torch.pi*torch.outer(t, freq)+negative_offsets), axis = 1)\n",
    "    ny = torch.sum(negative_radii*torch.sin(-2*torch.pi*torch.outer(t, freq)+negative_offsets), axis = 1)\n",
    "    \n",
    "    x = px+nx+mx\n",
    "    y = py+ny+my\n",
    "\n",
    "    x_len = x.max() - x.min()\n",
    "    y_len = y.max() - y.min()\n",
    "\n",
    "    ph = torch.linspace(-2,  2, H)\n",
    "    pw = torch.linspace(-2, 2, W)\n",
    "\n",
    "    PH, PW = torch.meshgrid((ph, pw))\n",
    "    PHT = PH.expand(T,H,W)\n",
    "    PWT = PW.expand(T,H,W)\n",
    "\n",
    "    XHW = x.reshape(T,1,1).expand((T,H,W))\n",
    "    YHW = y.reshape(T,1,1).expand((T,H,W))\n",
    "\n",
    "    exp_value = (PWT-XHW).square() + (PHT-YHW).square()\n",
    "    f_d = torch.sum( torch.exp(-k*exp_value), dim=0)\n",
    "    \n",
    "    area_element = x_len/W * y_len/H\n",
    "\n",
    "    l_fg = 2*torch.sum(f_d*g)\n",
    "    l_f2 = torch.pi/(2*k)*torch.sum(torch.exp(-((x-x.T).square() +(y-y.T).square())/2))\n",
    "    l = l_f2 - l_fg\n",
    "    #break\n",
    "    optim.zero_grad()\n",
    "    l.backward()\n",
    "    optim.step()\n",
    "    if i % 10 == 0:\n",
    "        print('run', i, l.item())\n",
    "\n",
    "    "
   ]
  },
  {
   "cell_type": "code",
   "execution_count": null,
   "metadata": {},
   "outputs": [],
   "source": [
    "recon = construct_image_from_constants(positive_radii.detach(), negative_radii.detach(), positive_offsets.detach(), negative_offsets.detach(), mean_position, num_time_points=100, H=100, W=100, k = 50.)\n",
    "fig = go.Figure()\n",
    "fig.add_trace(go.Heatmap(z = f_d, y = torch.linspace(x.min().item(), x.max().item(), W),  x = torch.linspace(y.min().item(), y.max().item(), H)))\n",
    "fig.update_layout(\n",
    "    width = 500,\n",
    "    height = 500\n",
    ")\n",
    "fig.show()"
   ]
  },
  {
   "cell_type": "code",
   "execution_count": null,
   "metadata": {},
   "outputs": [],
   "source": [
    "recon = construct_image_from_constants(positive_radii.detach(), negative_radii.detach(), positive_offsets.detach(), negative_offsets.detach(), mean_position, num_time_points=100, H=100, W=100, k = 50.)\n",
    "fig = go.Figure()\n",
    "fig.add_trace(go.Heatmap(z = im_mat, y = torch.linspace(x.min().item(), x.max().item(), W),  x = torch.linspace(y.min().item(), y.max().item(), H)))\n",
    "\n",
    "fig.update_layout(\n",
    "    width = 500,\n",
    "    height = 500\n",
    ")\n",
    "fig.show()"
   ]
  },
  {
   "cell_type": "code",
   "execution_count": null,
   "metadata": {},
   "outputs": [],
   "source": [
    "fig = go.Figure()\n",
    "fig.add_trace(go.Heatmap(z = f_d.detach(), y = torch.linspace(x.min().item(), x.max().item(), W),  x = torch.linspace(y.min().item(), y.max().item(), H)))\n",
    "\n",
    "fig.update_layout(\n",
    "    width = 500,\n",
    "    height = 500\n",
    ")\n",
    "fig.show()"
   ]
  },
  {
   "cell_type": "code",
   "execution_count": null,
   "metadata": {},
   "outputs": [],
   "source": [
    "fig = go.Figure()\n",
    "fig.add_trace(go.Heatmap(z = im_mat-f_d.detach()))\n",
    "\n",
    "fig.update_layout(\n",
    "    width = 500,\n",
    "    height = 500\n",
    ")\n",
    "fig.show()"
   ]
  },
  {
   "cell_type": "code",
   "execution_count": null,
   "metadata": {},
   "outputs": [],
   "source": [
    "im_mat.shape"
   ]
  },
  {
   "cell_type": "code",
   "execution_count": null,
   "metadata": {},
   "outputs": [],
   "source": [
    "f_d.shape"
   ]
  },
  {
   "cell_type": "code",
   "execution_count": null,
   "metadata": {},
   "outputs": [],
   "source": []
  }
 ],
 "metadata": {
  "kernelspec": {
   "display_name": "fourier-photos",
   "language": "python",
   "name": "fourier-photos"
  },
  "language_info": {
   "codemirror_mode": {
    "name": "ipython",
    "version": 3
   },
   "file_extension": ".py",
   "mimetype": "text/x-python",
   "name": "python",
   "nbconvert_exporter": "python",
   "pygments_lexer": "ipython3",
   "version": "3.10.2"
  },
  "orig_nbformat": 4
 },
 "nbformat": 4,
 "nbformat_minor": 2
}
