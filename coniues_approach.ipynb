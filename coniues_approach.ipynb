{
 "cells": [
  {
   "cell_type": "code",
   "execution_count": null,
   "metadata": {},
   "outputs": [],
   "source": [
    "import torch\n",
    "import plotly.express as px\n",
    "import numpy as np\n",
    "import pandas as pd\n",
    "from torch.nn.functional import pad, relu"
   ]
  },
  {
   "cell_type": "code",
   "execution_count": null,
   "metadata": {},
   "outputs": [],
   "source": [
    "\n",
    "# Create goal\n",
    "B = torch.tensor([0, 1, 0, 1, 0])\n",
    "x = torch.tensor([i-2.0 for i in range(len(B))])\n",
    "radB = len(B)//2\n",
    "# Create coordinate tensor\n",
    "\n",
    "z = torch.tensor([-0.4, 2.1], requires_grad=True)\n",
    "\n",
    "optim = torch.optim.Adam([z], lr=1e-1)"
   ]
  },
  {
   "cell_type": "code",
   "execution_count": null,
   "metadata": {},
   "outputs": [],
   "source": [
    "X, Z = torch.meshgrid(x,z)"
   ]
  },
  {
   "cell_type": "code",
   "execution_count": null,
   "metadata": {},
   "outputs": [],
   "source": [
    "E = torch.pow(10,(-(X-Z).pow(2)))"
   ]
  },
  {
   "cell_type": "code",
   "execution_count": null,
   "metadata": {},
   "outputs": [],
   "source": [
    "E"
   ]
  },
  {
   "cell_type": "code",
   "execution_count": null,
   "metadata": {},
   "outputs": [],
   "source": [
    "F = E.max(-1)[0]"
   ]
  },
  {
   "cell_type": "code",
   "execution_count": null,
   "metadata": {},
   "outputs": [],
   "source": [
    "F"
   ]
  },
  {
   "cell_type": "code",
   "execution_count": null,
   "metadata": {},
   "outputs": [],
   "source": [
    "l = ((B-F)**2).sum()"
   ]
  },
  {
   "cell_type": "code",
   "execution_count": null,
   "metadata": {},
   "outputs": [],
   "source": [
    "optim.zero_grad()\n",
    "l.backward()\n",
    "optim.step()\n"
   ]
  },
  {
   "cell_type": "code",
   "execution_count": null,
   "metadata": {},
   "outputs": [],
   "source": [
    "print(z)\n",
    "print(z.grad)\n",
    "print(l)"
   ]
  },
  {
   "attachments": {},
   "cell_type": "markdown",
   "metadata": {},
   "source": [
    "# Loop code"
   ]
  },
  {
   "cell_type": "code",
   "execution_count": null,
   "metadata": {},
   "outputs": [],
   "source": [
    "# Create goal\n",
    "B = torch.tensor([0, 0, 0, 1, 0, 1, 0, 0, 0], dtype=torch.float32)\n",
    "radB = len(B)//2\n",
    "x = torch.tensor([i-radB for i in range(len(B))], dtype=torch.float32)\n",
    "\n",
    "# Create coordinate tensor\n",
    "k = 10\n",
    "z = torch.tensor([-2.4, 1.], requires_grad=True)\n",
    "\n",
    "optim = torch.optim.Adam([z], lr=1e-1)"
   ]
  },
  {
   "cell_type": "code",
   "execution_count": null,
   "metadata": {},
   "outputs": [],
   "source": [
    "losses = []\n",
    "for i in range(100):\n",
    "  X, Z = torch.meshgrid(x,z)\n",
    "  E = torch.exp(-k*(X-Z).pow(2))\n",
    "  F = E.max(-1)[0]\n",
    "  l1 = ((B-F)**2).sum()\n",
    "  l2 = (relu(-z-radB)+relu(z-radB)).sum()\n",
    "  l= l1+l2\n",
    "  optim.zero_grad()\n",
    "  l.backward()\n",
    "  optim.step()\n",
    "  losses.append(l.item())\n",
    "print('Z: ', z)\n",
    "print('Grad: ', z.grad)\n",
    "print('loss: ', l)\n",
    "print('F: ', F)"
   ]
  },
  {
   "cell_type": "code",
   "execution_count": null,
   "metadata": {},
   "outputs": [],
   "source": [
    "px.scatter(losses)"
   ]
  },
  {
   "cell_type": "code",
   "execution_count": null,
   "metadata": {},
   "outputs": [],
   "source": [
    "def f(z, B, x = None, k=1.):\n",
    "    xrad = (len(B)-1) /2 \n",
    "    if x is None:\n",
    "        x = torch.tensor([i-xrad for i in range(len(B))])\n",
    "    X, Z = torch.meshgrid(x,z)\n",
    "    E = torch.exp(-k*(X-Z).pow(2))\n",
    "    F = E.mean(-1)\n",
    "    l = ((B-F)**2).sum()\n",
    "    l2 = relu(-z-xrad)+relu(z-xrad)\n",
    "    return l+l2.sum()"
   ]
  },
  {
   "cell_type": "code",
   "execution_count": null,
   "metadata": {},
   "outputs": [],
   "source": [
    "# Create goal\n",
    "B = torch.tensor([ 0,0,1,0,0])\n",
    "xrad = (len(B)-1) /2 \n",
    "x = torch.tensor([i-xrad for i in range(len(B))])\n",
    "radB = len(B)//2\n",
    "# Create coordinate tensor\n",
    "k = 10"
   ]
  },
  {
   "cell_type": "code",
   "execution_count": null,
   "metadata": {},
   "outputs": [],
   "source": [
    "X = list()\n",
    "L = list()\n",
    "xrange = np.linspace(-xrad-3, xrad+3, 100)\n",
    "for i, xcoord in enumerate(xrange):\n",
    "    z = torch.tensor([xcoord], dtype=torch.float32)\n",
    "    l = f(z, B, x, k=k)\n",
    "    X.append(xcoord)\n",
    "    L.append(l)"
   ]
  },
  {
   "cell_type": "code",
   "execution_count": null,
   "metadata": {},
   "outputs": [],
   "source": [
    "df = pd.DataFrame({'X':X, 'L':L})\n",
    "px.line(df, x='X', y ='L')"
   ]
  },
  {
   "cell_type": "code",
   "execution_count": null,
   "metadata": {},
   "outputs": [],
   "source": [
    "A = torch.tensor([1,2,3])"
   ]
  }
 ],
 "metadata": {
  "kernelspec": {
   "display_name": "Python 3.9.7 ('jenv')",
   "language": "python",
   "name": "python3"
  },
  "language_info": {
   "codemirror_mode": {
    "name": "ipython",
    "version": 3
   },
   "file_extension": ".py",
   "mimetype": "text/x-python",
   "name": "python",
   "nbconvert_exporter": "python",
   "pygments_lexer": "ipython3",
   "version": "3.9.15"
  },
  "orig_nbformat": 4,
  "vscode": {
   "interpreter": {
    "hash": "a6df720517243887f81f829574e18eed6582ce87175ffd531d5fa99bc43729cc"
   }
  }
 },
 "nbformat": 4,
 "nbformat_minor": 2
}
