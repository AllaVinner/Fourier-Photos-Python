{
 "cells": [
  {
   "cell_type": "code",
   "execution_count": null,
   "metadata": {
    "pycharm": {
     "is_executing": true
    }
   },
   "outputs": [],
   "source": [
    "import plotly\n",
    "import torch\n",
    "from plotly import graph_objects as go\n",
    "torch.pi = 2*torch.acos(torch.zeros(1))"
   ]
  },
  {
   "cell_type": "code",
   "execution_count": null,
   "metadata": {},
   "outputs": [],
   "source": [
    "radii = torch.tensor([1, 0,0,0,0, 0.2, 0,0,0,0,0,0,0,0, 0.1], dtype=float)\n",
    "offsets = torch.tensor([0,  0,0,0,0,0,  0,0,0,0,  0,0,0,0, 0.05], dtype=float)\n",
    "w = torch.arange(len(radii), dtype=float)+1.\n",
    "\n",
    "assert radii.shape == offsets.shape\n",
    "assert radii.shape == w.shape"
   ]
  },
  {
   "cell_type": "code",
   "execution_count": null,
   "metadata": {},
   "outputs": [],
   "source": [
    "T = 1000\n",
    "t = torch.linspace(0, 2*torch.pi.item(), T)"
   ]
  },
  {
   "cell_type": "code",
   "execution_count": null,
   "metadata": {},
   "outputs": [],
   "source": [
    "x = torch.sum(radii*torch.cos(2*torch.pi*torch.outer(t, w)+offsets), axis = 1)\n",
    "y = torch.sum(radii*torch.sin(2*torch.pi*torch.outer(t, w)+offsets), axis = 1)"
   ]
  },
  {
   "cell_type": "code",
   "execution_count": null,
   "metadata": {},
   "outputs": [],
   "source": []
  },
  {
   "cell_type": "code",
   "execution_count": null,
   "metadata": {},
   "outputs": [],
   "source": [
    "fig = go.Figure()\n",
    "fig.add_trace(go.Scatter(x = x, y = y))\n",
    "fig.update_layout(\n",
    "    width = 500,\n",
    "    height = 500,\n",
    "    xaxis=dict(range = [-2, 2]),\n",
    "    yaxis=dict(range = [-2, 2])\n",
    ")\n",
    "fig.show()"
   ]
  },
  {
   "cell_type": "code",
   "execution_count": null,
   "metadata": {},
   "outputs": [],
   "source": [
    "import numpy as np"
   ]
  },
  {
   "attachments": {},
   "cell_type": "markdown",
   "metadata": {},
   "source": [
    "# All At Once"
   ]
  },
  {
   "cell_type": "code",
   "execution_count": null,
   "metadata": {},
   "outputs": [],
   "source": [
    "\n",
    "def plot_fourier(positive_radii, negative_radii, positive_offsets, negative_offsets, mean_position, num_time_points: int = 1000, fig = None):\n",
    "    N = len(positive_radii)\n",
    "    assert len(negative_radii) == N\n",
    "    assert len(positive_offsets) == N\n",
    "    assert len(negative_offsets) == N\n",
    "\n",
    "    freq = torch.arange(N, dtype=float)+1.\n",
    "    t = torch.linspace(0,1, num_time_points)\n",
    "    mx = mean_position[0]\n",
    "    my = mean_position[1]\n",
    "    px = torch.sum(positive_radii*torch.cos(2*torch.pi*torch.outer(t, freq)+positive_offsets), axis = 1)\n",
    "    py = torch.sum(positive_radii*torch.sin(2*torch.pi*torch.outer(t, freq)+positive_offsets), axis = 1)\n",
    "    nx = torch.sum(negative_radii*torch.cos(-2*torch.pi*torch.outer(t, freq)+negative_offsets), axis = 1)\n",
    "    ny = torch.sum(negative_radii*torch.sin(-2*torch.pi*torch.outer(t, freq)+negative_offsets), axis = 1)\n",
    "\n",
    "    x = px+nx+mx\n",
    "    y = py+ny+my\n",
    "    if fig is None:\n",
    "        fig = go.Figure()\n",
    "    fig.add_trace(go.Scatter(x = x, y = y))\n",
    "    return fig\n"
   ]
  },
  {
   "cell_type": "code",
   "execution_count": null,
   "metadata": {},
   "outputs": [],
   "source": [
    "k =1. \n",
    "positive_radii = k*torch.tensor([1, 0, 0], dtype=float)\n",
    "negative_radii = k*torch.tensor([0, 0, 7/45], dtype=float)\n",
    "mean_position = k*torch.tensor([0,0], dtype = float)\n",
    "positive_offsets = k*torch.tensor([0, 0 ,0], dtype=float)\n",
    "negative_offsets = k*torch.tensor([0, 0, torch.pi], dtype=float)\n",
    "T = 1000\n",
    "fig = go.Figure()\n",
    "fig.update_layout(\n",
    "    width = 500,\n",
    "    height = 500,\n",
    "    xaxis=dict(range = [-2, 2]),\n",
    "    yaxis=dict(range = [-2, 2])\n",
    ")\n",
    "fig = plot_fourier(positive_radii, negative_radii, positive_offsets, negative_offsets, mean_position, T, fig)\n",
    "fig.show()"
   ]
  },
  {
   "cell_type": "code",
   "execution_count": null,
   "metadata": {},
   "outputs": [],
   "source": [
    "c = torch.tensor([1,2,3,4])\n",
    "V = "
   ]
  },
  {
   "cell_type": "code",
   "execution_count": null,
   "metadata": {},
   "outputs": [],
   "source": [
    "z = torch.matmul(V.T, c)"
   ]
  },
  {
   "cell_type": "code",
   "execution_count": null,
   "metadata": {},
   "outputs": [],
   "source": [
    "f2 = torch.sqrt(torch.pi /2)*torch.sum(torch.exp((-((z-z.T)**2)/2)))\n",
    "fg = torch.sum(torch.sum(torch.exp(-(x-z)**2), dim=0)*g)"
   ]
  },
  {
   "cell_type": "code",
   "execution_count": null,
   "metadata": {},
   "outputs": [],
   "source": [
    "# M: Radius of coefficients\n",
    "# c:  -M : M (2M+1)\n",
    "# N: Number of samples taken\n",
    "# V:  (2M+1):N \n",
    "# z: N\n",
    "# W - Width of image\n",
    "# H: Height of image\n",
    "# X: H x W\n"
   ]
  },
  {
   "cell_type": "code",
   "execution_count": null,
   "metadata": {},
   "outputs": [],
   "source": [
    "X = torch.randn((4,3))\n",
    "z = torch.randn(5)\n"
   ]
  },
  {
   "cell_type": "code",
   "execution_count": 24,
   "metadata": {},
   "outputs": [
    {
     "data": {
      "text/plain": [
       "torch.Size([4, 3])"
      ]
     },
     "execution_count": 24,
     "metadata": {},
     "output_type": "execute_result"
    }
   ],
   "source": [
    "torch.sum(z.broadcast_to((4,3,5)) - X.broadcast_to((5, 4,3)).reshape((4,3,5)), dim = -1).shape\n"
   ]
  },
  {
   "cell_type": "code",
   "execution_count": null,
   "metadata": {},
   "outputs": [],
   "source": [
    "z-torch.broadcast_to(X, (5,4,3))"
   ]
  }
 ],
 "metadata": {
  "kernelspec": {
   "display_name": "fourier-photos",
   "language": "python",
   "name": "fourier-photos"
  },
  "language_info": {
   "codemirror_mode": {
    "name": "ipython",
    "version": 3
   },
   "file_extension": ".py",
   "mimetype": "text/x-python",
   "name": "python",
   "nbconvert_exporter": "python",
   "pygments_lexer": "ipython3",
   "version": "3.10.2"
  },
  "orig_nbformat": 4
 },
 "nbformat": 4,
 "nbformat_minor": 2
}
