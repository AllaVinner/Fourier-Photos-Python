{
 "cells": [
  {
   "cell_type": "code",
   "execution_count": null,
   "metadata": {},
   "outputs": [],
   "source": [
    "import torch\n",
    "import plotly.express as px\n",
    "import numpy as np\n",
    "import pandas as pd\n",
    "from torch.nn.functional import pad, relu\n",
    "from collections import defaultdict\n",
    "import plotly.graph_objects as go\n",
    "from plotly.subplots import make_subplots"
   ]
  },
  {
   "attachments": {},
   "cell_type": "markdown",
   "metadata": {},
   "source": [
    "# Functions"
   ]
  },
  {
   "cell_type": "code",
   "execution_count": null,
   "metadata": {},
   "outputs": [],
   "source": [
    "# Util functions \n",
    "def picture_to_coordinates(B):\n",
    "    radB = len(B)//2\n",
    "    x = torch.tensor([i-radB for i in range(len(B))], dtype=torch.float32)\n",
    "    return x\n",
    "\n",
    "def get_picture_radians(B):\n",
    "    return len(B)//2\n",
    "\n",
    "def loss1(B, z, x, F, relu_coeff=1.):\n",
    "    xrad = get_picture_radians(B)\n",
    "    l1 = ((B-F)**2).sum()\n",
    "    l2 = relu_coeff*(relu(-z-xrad)+relu(z-xrad)).sum()\n",
    "    return l1, l2"
   ]
  },
  {
   "attachments": {},
   "cell_type": "markdown",
   "metadata": {},
   "source": [
    "##Models"
   ]
  },
  {
   "cell_type": "code",
   "execution_count": null,
   "metadata": {},
   "outputs": [],
   "source": [
    "\n",
    "# Models\n",
    "def model1(z, x, k=1.):\n",
    "    X, Z = torch.meshgrid(x,z)\n",
    "    E = torch.exp(-k*(X-Z).pow(2))\n",
    "    F = E.max(-1)[0]\n",
    "    return F"
   ]
  },
  {
   "cell_type": "code",
   "execution_count": null,
   "metadata": {},
   "outputs": [],
   "source": [
    "def run(B, z, optim, n_iter:int=10,\n",
    "        model_fn=model1, model_kwargs=None, \n",
    "        loss_fn=loss1, loss_kwargs=None):\n",
    "  # Setup \n",
    "  x = picture_to_coordinates(B)\n",
    "  xrad = get_picture_radians(B)\n",
    "  tracker = defaultdict(list)\n",
    "  if loss_kwargs is None:\n",
    "    loss_kwargs = dict()\n",
    "  if  model_kwargs is None:\n",
    "    model_kwargs = dict()\n",
    "  \n",
    "  for i in range(1, n_iter+1):\n",
    "    tracker['iter'].append(i)\n",
    "    for zi in range(len(z)):\n",
    "      tracker[f'z_{zi}'].append(z[zi].item())\n",
    "\n",
    "    F = model_fn(z, x, **model_kwargs)\n",
    "    losses = loss_fn(B, z, x, F, **loss_kwargs)\n",
    "    l = sum(losses)\n",
    "    optim.zero_grad()\n",
    "    l.backward()\n",
    "    optim.step()\n",
    "\n",
    "    tracker['loss'].append(l.item())\n",
    "    for li in range(len(losses)):\n",
    "      tracker[f'loss_l{li}'].append(losses[li].item())\n",
    "    for zi in range(len(z)):\n",
    "      tracker[f'zgrad_{zi}'].append(z.grad[zi].item())\n",
    "  return pd.DataFrame(tracker)\n",
    "      "
   ]
  },
  {
   "cell_type": "code",
   "execution_count": null,
   "metadata": {},
   "outputs": [],
   "source": [
    "# Plotting functions\n",
    "def loss_over_iter(df, color='rgb(34,100,192)'):\n",
    "    loss_go = go.Scatter(\n",
    "        x=df['iter'],\n",
    "        y=df['loss'],\n",
    "        name='loss',\n",
    "        marker=dict(\n",
    "            color= color\n",
    "            )\n",
    "    )\n",
    "    return loss_go\n",
    "\n",
    "def losses_over_iter(df, colors=None):\n",
    "    loss_df = df.filter(regex='^loss_')\n",
    "    if colors is None:\n",
    "        colors = list()\n",
    "        for i in range(len(loss_df.columns)):\n",
    "            r,g,b = np.random.randint(0,255, 3)\n",
    "            colors.append(f'rgb({r},{g},{b})')\n",
    "        \n",
    "    gos = list()\n",
    "    for li, col in enumerate(loss_df):\n",
    "        loss_go = go.Scatter(\n",
    "            x=df['iter'],\n",
    "            y=df[col],\n",
    "            name=col,\n",
    "            marker=dict(\n",
    "                color= colors[li]\n",
    "                )\n",
    "        )\n",
    "        gos.append(loss_go)\n",
    "    return gos\n",
    "\n",
    "\n",
    "def loss_over_space(df, color='rgb(34,100,192)'):\n",
    "    loss_go = go.Scatter(\n",
    "        x=df['x'],\n",
    "        y=df['loss'],\n",
    "        name='loss',\n",
    "        marker=dict(\n",
    "            color= color\n",
    "            )\n",
    "    )\n",
    "    return loss_go"
   ]
  },
  {
   "cell_type": "code",
   "execution_count": null,
   "metadata": {},
   "outputs": [],
   "source": [
    "def trace_z(run_df):\n",
    "    traces = list()\n",
    "    for z_label in run_df.filter(regex='^z_'):\n",
    "        z_go = go.Scatter(\n",
    "            x=run_df[z_label],\n",
    "            y=run_df['loss'],\n",
    "            name='z_label'\n",
    "        )\n",
    "        traces.append(z_go)\n",
    "    return traces\n"
   ]
  },
  {
   "attachments": {},
   "cell_type": "markdown",
   "metadata": {},
   "source": [
    "## Losses"
   ]
  },
  {
   "cell_type": "code",
   "execution_count": null,
   "metadata": {},
   "outputs": [],
   "source": [
    "def loss_landscape(z, B, n_samples:int=100, \n",
    "        model_fn=model1, model_kwargs=None, \n",
    "        loss_fn=loss1, loss_kwargs=None):\n",
    "    # Setup \n",
    "    x = picture_to_coordinates(B)\n",
    "    xrad = get_picture_radians(B)\n",
    "    tracker = defaultdict(list)\n",
    "    if loss_kwargs is None:\n",
    "        loss_kwargs = dict()\n",
    "    if  model_kwargs is None:\n",
    "        model_kwargs = dict()\n",
    "    xrange = np.linspace(-1.2*xrad, 1.2*xrad, n_samples)\n",
    "    for i, xcoord in enumerate(xrange):\n",
    "        z = torch.tensor([xcoord], dtype=torch.float32)\n",
    "        F = model_fn(z, x, **model_kwargs)\n",
    "        losses = loss_fn(B, z, x, F, **loss_kwargs)\n",
    "        l = sum(losses)\n",
    "        tracker['x'].append(xcoord)\n",
    "        tracker['loss'].append(l.item())\n",
    "        for li in range(len(losses)):\n",
    "            tracker[f'loss_l{li}'].append(losses[li].item())\n",
    "    return pd.DataFrame(tracker)"
   ]
  },
  {
   "attachments": {},
   "cell_type": "markdown",
   "metadata": {},
   "source": [
    "# Setup"
   ]
  },
  {
   "cell_type": "code",
   "execution_count": null,
   "metadata": {},
   "outputs": [],
   "source": [
    "# Image\n",
    "B = torch.tensor([0, 1, 0, 1, 0])\n",
    "# Initial coordinates\n",
    "z = torch.tensor([-2.4, 2.1], requires_grad=True)\n",
    "# Optimizer\n",
    "optim = torch.optim.Adam([z], lr=1e-1)"
   ]
  },
  {
   "attachments": {},
   "cell_type": "markdown",
   "metadata": {},
   "source": [
    "# Run"
   ]
  },
  {
   "cell_type": "code",
   "execution_count": null,
   "metadata": {},
   "outputs": [],
   "source": [
    "rundf = run(B, z, optim, n_iter=100)\n",
    "landscapedf = loss_landscape(z, B, n_samples=100)"
   ]
  },
  {
   "cell_type": "code",
   "execution_count": null,
   "metadata": {},
   "outputs": [],
   "source": [
    "rundf"
   ]
  },
  {
   "attachments": {},
   "cell_type": "markdown",
   "metadata": {},
   "source": [
    "## Plotting"
   ]
  },
  {
   "attachments": {},
   "cell_type": "markdown",
   "metadata": {},
   "source": []
  },
  {
   "cell_type": "code",
   "execution_count": null,
   "metadata": {},
   "outputs": [],
   "source": [
    "iterfig = make_subplots()\n",
    "iterfig.add_trace(loss_over_iter(rundf, color='rgb(0,200,0)'))\n",
    "for g in losses_over_iter(rundf):\n",
    "    iterfig.add_trace(g)\n",
    "iterfig\n"
   ]
  },
  {
   "cell_type": "code",
   "execution_count": null,
   "metadata": {},
   "outputs": [],
   "source": [
    "landscapefig = make_subplots()\n",
    "landscapefig.add_trace(loss_over_space(landscapedf))\n",
    "landscapefig.add_vline(x=-get_picture_radians(B))\n",
    "landscapefig.add_vline(x=get_picture_radians(B))\n",
    "for g in trace_z(rundf):\n",
    "    landscapefig.add_trace(g)"
   ]
  },
  {
   "cell_type": "code",
   "execution_count": null,
   "metadata": {},
   "outputs": [],
   "source": [
    "landscapefig"
   ]
  },
  {
   "cell_type": "code",
   "execution_count": null,
   "metadata": {},
   "outputs": [],
   "source": [
    "# Include app2 \n",
    "x = torch.tensor([1,-1.])\n",
    "w = torch.arange(10)-5\n",
    "l  = (w.T-x)"
   ]
  },
  {
   "cell_type": "code",
   "execution_count": null,
   "metadata": {},
   "outputs": [],
   "source": [
    "# Include app2 \n",
    "x = torch.tensor([1,-1.])\n",
    "w = torch.arange(10)-5\n",
    "l  = (w.T-x)\n",
    "y = w.T-np.linalg.eig(w@x.T)"
   ]
  }
 ],
 "metadata": {
  "kernelspec": {
   "display_name": "Python 3.10.6 ('venv': venv)",
   "language": "python",
   "name": "python3"
  },
  "language_info": {
   "codemirror_mode": {
    "name": "ipython",
    "version": 3
   },
   "file_extension": ".py",
   "mimetype": "text/x-python",
   "name": "python",
   "nbconvert_exporter": "python",
   "pygments_lexer": "ipython3",
   "version": "3.10.6"
  },
  "orig_nbformat": 4,
  "vscode": {
   "interpreter": {
    "hash": "59fcdee7b1e4b5a6386ee92a52ccb80a0e74f596e69a653fdd1aeca3629150ba"
   }
  }
 },
 "nbformat": 4,
 "nbformat_minor": 2
}
